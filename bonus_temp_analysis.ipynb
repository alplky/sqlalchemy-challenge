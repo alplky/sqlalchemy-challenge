{
 "cells": [
  {
   "cell_type": "code",
   "execution_count": 1,
   "metadata": {},
   "outputs": [
    {
     "data": {
      "application/javascript": [
       "\n",
       "            setTimeout(function() {\n",
       "                var nbb_cell_id = 1;\n",
       "                var nbb_unformatted_code = \"# set up and dependencies\\nimport matplotlib.pyplot as plt\\nfrom sqlalchemy import create_engine\\nfrom sqlalchemy.ext.declarative import declarative_base\\nfrom sqlalchemy import Column, Integer, String, Float\\nfrom sqlalchemy.types import Date\\nfrom sqlalchemy.orm import Session\\nfrom sqlalchemy import func\\nimport pandas as pd \\nfrom pprint import pprint\\n\\n%load_ext nb_black\";\n",
       "                var nbb_formatted_code = \"# set up and dependencies\\nimport matplotlib.pyplot as plt\\nfrom sqlalchemy import create_engine\\nfrom sqlalchemy.ext.declarative import declarative_base\\nfrom sqlalchemy import Column, Integer, String, Float\\nfrom sqlalchemy.types import Date\\nfrom sqlalchemy.orm import Session\\nfrom sqlalchemy import func\\nimport pandas as pd\\nfrom pprint import pprint\\n\\n%load_ext nb_black\";\n",
       "                var nbb_cells = Jupyter.notebook.get_cells();\n",
       "                for (var i = 0; i < nbb_cells.length; ++i) {\n",
       "                    if (nbb_cells[i].input_prompt_number == nbb_cell_id) {\n",
       "                        if (nbb_cells[i].get_text() == nbb_unformatted_code) {\n",
       "                             nbb_cells[i].set_text(nbb_formatted_code);\n",
       "                        }\n",
       "                        break;\n",
       "                    }\n",
       "                }\n",
       "            }, 500);\n",
       "            "
      ],
      "text/plain": [
       "<IPython.core.display.Javascript object>"
      ]
     },
     "metadata": {},
     "output_type": "display_data"
    }
   ],
   "source": [
    "# set up and dependencies\n",
    "import matplotlib.pyplot as plt\n",
    "from sqlalchemy import create_engine\n",
    "from sqlalchemy.ext.declarative import declarative_base\n",
    "from sqlalchemy import Column, Integer, String, Float\n",
    "from sqlalchemy.types import Date\n",
    "from sqlalchemy.orm import Session\n",
    "from sqlalchemy import func\n",
    "import pandas as pd \n",
    "from pprint import pprint\n",
    "\n",
    "%load_ext nb_black"
   ]
  },
  {
   "cell_type": "code",
   "execution_count": 2,
   "metadata": {},
   "outputs": [
    {
     "data": {
      "application/javascript": [
       "\n",
       "            setTimeout(function() {\n",
       "                var nbb_cell_id = 2;\n",
       "                var nbb_unformatted_code = \"# set up Base\\n\\nBase = declarative_base()\";\n",
       "                var nbb_formatted_code = \"# set up Base\\n\\nBase = declarative_base()\";\n",
       "                var nbb_cells = Jupyter.notebook.get_cells();\n",
       "                for (var i = 0; i < nbb_cells.length; ++i) {\n",
       "                    if (nbb_cells[i].input_prompt_number == nbb_cell_id) {\n",
       "                        if (nbb_cells[i].get_text() == nbb_unformatted_code) {\n",
       "                             nbb_cells[i].set_text(nbb_formatted_code);\n",
       "                        }\n",
       "                        break;\n",
       "                    }\n",
       "                }\n",
       "            }, 500);\n",
       "            "
      ],
      "text/plain": [
       "<IPython.core.display.Javascript object>"
      ]
     },
     "metadata": {},
     "output_type": "display_data"
    }
   ],
   "source": [
    "# set up Base\n",
    "\n",
    "Base = declarative_base()"
   ]
  },
  {
   "cell_type": "code",
   "execution_count": 3,
   "metadata": {},
   "outputs": [
    {
     "data": {
      "application/javascript": [
       "\n",
       "            setTimeout(function() {\n",
       "                var nbb_cell_id = 3;\n",
       "                var nbb_unformatted_code = \"#create class for measurement table\\n\\nclass Measurement(Base):\\n    __tablename__ = \\\"measurement\\\"\\n    \\n    id = Column(Integer, primary_key=True)\\n    station = Column(String)\\n    date = Column(Date)\\n    prcp = Column(Float)\\n    tobs = Column(Float)\";\n",
       "                var nbb_formatted_code = \"# create class for measurement table\\n\\n\\nclass Measurement(Base):\\n    __tablename__ = \\\"measurement\\\"\\n\\n    id = Column(Integer, primary_key=True)\\n    station = Column(String)\\n    date = Column(Date)\\n    prcp = Column(Float)\\n    tobs = Column(Float)\";\n",
       "                var nbb_cells = Jupyter.notebook.get_cells();\n",
       "                for (var i = 0; i < nbb_cells.length; ++i) {\n",
       "                    if (nbb_cells[i].input_prompt_number == nbb_cell_id) {\n",
       "                        if (nbb_cells[i].get_text() == nbb_unformatted_code) {\n",
       "                             nbb_cells[i].set_text(nbb_formatted_code);\n",
       "                        }\n",
       "                        break;\n",
       "                    }\n",
       "                }\n",
       "            }, 500);\n",
       "            "
      ],
      "text/plain": [
       "<IPython.core.display.Javascript object>"
      ]
     },
     "metadata": {},
     "output_type": "display_data"
    }
   ],
   "source": [
    "#create class for measurement table\n",
    "\n",
    "class Measurement(Base):\n",
    "    __tablename__ = \"measurement\"\n",
    "    \n",
    "    id = Column(Integer, primary_key=True)\n",
    "    station = Column(String)\n",
    "    date = Column(Date)\n",
    "    prcp = Column(Float)\n",
    "    tobs = Column(Float)"
   ]
  },
  {
   "cell_type": "code",
   "execution_count": 4,
   "metadata": {},
   "outputs": [
    {
     "data": {
      "application/javascript": [
       "\n",
       "            setTimeout(function() {\n",
       "                var nbb_cell_id = 4;\n",
       "                var nbb_unformatted_code = \"#create class for station table\\n\\nclass Station(Base):\\n    __tablename__ = \\\"station\\\"\\n    \\n    id = Column(Integer, primary_key=True)\\n    station = Column(String)\\n    name = Column(String)\\n    latitude = Column(Float)\\n    longitude = Column(Float)\\n    elevation =  Column(Float)\";\n",
       "                var nbb_formatted_code = \"# create class for station table\\n\\n\\nclass Station(Base):\\n    __tablename__ = \\\"station\\\"\\n\\n    id = Column(Integer, primary_key=True)\\n    station = Column(String)\\n    name = Column(String)\\n    latitude = Column(Float)\\n    longitude = Column(Float)\\n    elevation = Column(Float)\";\n",
       "                var nbb_cells = Jupyter.notebook.get_cells();\n",
       "                for (var i = 0; i < nbb_cells.length; ++i) {\n",
       "                    if (nbb_cells[i].input_prompt_number == nbb_cell_id) {\n",
       "                        if (nbb_cells[i].get_text() == nbb_unformatted_code) {\n",
       "                             nbb_cells[i].set_text(nbb_formatted_code);\n",
       "                        }\n",
       "                        break;\n",
       "                    }\n",
       "                }\n",
       "            }, 500);\n",
       "            "
      ],
      "text/plain": [
       "<IPython.core.display.Javascript object>"
      ]
     },
     "metadata": {},
     "output_type": "display_data"
    }
   ],
   "source": [
    "#create class for station table\n",
    "\n",
    "class Station(Base):\n",
    "    __tablename__ = \"station\"\n",
    "    \n",
    "    id = Column(Integer, primary_key=True)\n",
    "    station = Column(String)\n",
    "    name = Column(String)\n",
    "    latitude = Column(Float)\n",
    "    longitude = Column(Float)\n",
    "    elevation =  Column(Float)"
   ]
  },
  {
   "cell_type": "code",
   "execution_count": 5,
   "metadata": {},
   "outputs": [
    {
     "data": {
      "application/javascript": [
       "\n",
       "            setTimeout(function() {\n",
       "                var nbb_cell_id = 5;\n",
       "                var nbb_unformatted_code = \"# create engine and session to link to the database\\n\\nengine = create_engine(\\\"sqlite:///Resources/hawaii.sqlite\\\")\\nconn = engine.connect()\\nsession = Session(bind=engine) # If something breaks, check here <-\";\n",
       "                var nbb_formatted_code = \"# create engine and session to link to the database\\n\\nengine = create_engine(\\\"sqlite:///Resources/hawaii.sqlite\\\")\\nconn = engine.connect()\\nsession = Session(bind=engine)  # If something breaks, check here <-\";\n",
       "                var nbb_cells = Jupyter.notebook.get_cells();\n",
       "                for (var i = 0; i < nbb_cells.length; ++i) {\n",
       "                    if (nbb_cells[i].input_prompt_number == nbb_cell_id) {\n",
       "                        if (nbb_cells[i].get_text() == nbb_unformatted_code) {\n",
       "                             nbb_cells[i].set_text(nbb_formatted_code);\n",
       "                        }\n",
       "                        break;\n",
       "                    }\n",
       "                }\n",
       "            }, 500);\n",
       "            "
      ],
      "text/plain": [
       "<IPython.core.display.Javascript object>"
      ]
     },
     "metadata": {},
     "output_type": "display_data"
    }
   ],
   "source": [
    "# create engine and session to link to the database\n",
    "\n",
    "engine = create_engine(\"sqlite:///Resources/hawaii.sqlite\")\n",
    "conn = engine.connect()\n",
    "session = Session(bind=engine) # If something breaks, check here <-"
   ]
  },
  {
   "cell_type": "code",
   "execution_count": null,
   "metadata": {},
   "outputs": [],
   "source": []
  }
 ],
 "metadata": {
  "environment": {
   "name": "common-cpu.m54",
   "type": "gcloud",
   "uri": "gcr.io/deeplearning-platform-release/base-cpu:m54"
  },
  "kernelspec": {
   "display_name": "Python 3",
   "language": "python",
   "name": "python3"
  },
  "language_info": {
   "codemirror_mode": {
    "name": "ipython",
    "version": 3
   },
   "file_extension": ".py",
   "mimetype": "text/x-python",
   "name": "python",
   "nbconvert_exporter": "python",
   "pygments_lexer": "ipython3",
   "version": "3.7.8"
  }
 },
 "nbformat": 4,
 "nbformat_minor": 4
}
