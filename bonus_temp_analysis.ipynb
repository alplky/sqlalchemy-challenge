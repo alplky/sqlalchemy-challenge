{
 "cells": [
  {
   "cell_type": "code",
   "execution_count": 7,
   "metadata": {},
   "outputs": [
    {
     "data": {
      "application/javascript": [
       "\n",
       "            setTimeout(function() {\n",
       "                var nbb_cell_id = 7;\n",
       "                var nbb_unformatted_code = \"# set up and dependencies\\nimport matplotlib.pyplot as plt\\nfrom sqlalchemy import create_engine\\nfrom sqlalchemy.ext.declarative import declarative_base\\nfrom sqlalchemy import Column, Integer, String, Float\\nfrom sqlalchemy.types import Date\\nfrom sqlalchemy.orm import Session\\nfrom sqlalchemy import func\\nfrom sqlalchemy.sql.expression import extract\\nimport pandas as pd \\nfrom pprint import pprint\\n\\n%reload_ext nb_black\";\n",
       "                var nbb_formatted_code = \"# set up and dependencies\\nimport matplotlib.pyplot as plt\\nfrom sqlalchemy import create_engine\\nfrom sqlalchemy.ext.declarative import declarative_base\\nfrom sqlalchemy import Column, Integer, String, Float\\nfrom sqlalchemy.types import Date\\nfrom sqlalchemy.orm import Session\\nfrom sqlalchemy import func\\nfrom sqlalchemy.sql.expression import extract\\nimport pandas as pd\\nfrom pprint import pprint\\n\\n%reload_ext nb_black\";\n",
       "                var nbb_cells = Jupyter.notebook.get_cells();\n",
       "                for (var i = 0; i < nbb_cells.length; ++i) {\n",
       "                    if (nbb_cells[i].input_prompt_number == nbb_cell_id) {\n",
       "                        if (nbb_cells[i].get_text() == nbb_unformatted_code) {\n",
       "                             nbb_cells[i].set_text(nbb_formatted_code);\n",
       "                        }\n",
       "                        break;\n",
       "                    }\n",
       "                }\n",
       "            }, 500);\n",
       "            "
      ],
      "text/plain": [
       "<IPython.core.display.Javascript object>"
      ]
     },
     "metadata": {},
     "output_type": "display_data"
    },
    {
     "data": {
      "application/javascript": [
       "\n",
       "            setTimeout(function() {\n",
       "                var nbb_cell_id = 7;\n",
       "                var nbb_unformatted_code = \"# set up and dependencies\\nimport matplotlib.pyplot as plt\\nfrom sqlalchemy import create_engine\\nfrom sqlalchemy.ext.declarative import declarative_base\\nfrom sqlalchemy import Column, Integer, String, Float\\nfrom sqlalchemy.types import Date\\nfrom sqlalchemy.orm import Session\\nfrom sqlalchemy import func\\nfrom sqlalchemy.sql.expression import extract\\nimport pandas as pd \\nfrom pprint import pprint\\n\\n%reload_ext nb_black\";\n",
       "                var nbb_formatted_code = \"# set up and dependencies\\nimport matplotlib.pyplot as plt\\nfrom sqlalchemy import create_engine\\nfrom sqlalchemy.ext.declarative import declarative_base\\nfrom sqlalchemy import Column, Integer, String, Float\\nfrom sqlalchemy.types import Date\\nfrom sqlalchemy.orm import Session\\nfrom sqlalchemy import func\\nfrom sqlalchemy.sql.expression import extract\\nimport pandas as pd\\nfrom pprint import pprint\\n\\n%reload_ext nb_black\";\n",
       "                var nbb_cells = Jupyter.notebook.get_cells();\n",
       "                for (var i = 0; i < nbb_cells.length; ++i) {\n",
       "                    if (nbb_cells[i].input_prompt_number == nbb_cell_id) {\n",
       "                        if (nbb_cells[i].get_text() == nbb_unformatted_code) {\n",
       "                             nbb_cells[i].set_text(nbb_formatted_code);\n",
       "                        }\n",
       "                        break;\n",
       "                    }\n",
       "                }\n",
       "            }, 500);\n",
       "            "
      ],
      "text/plain": [
       "<IPython.core.display.Javascript object>"
      ]
     },
     "metadata": {},
     "output_type": "display_data"
    }
   ],
   "source": [
    "# set up and dependencies\n",
    "import matplotlib.pyplot as plt\n",
    "from sqlalchemy import create_engine\n",
    "from sqlalchemy.ext.declarative import declarative_base\n",
    "from sqlalchemy import Column, Integer, String, Float\n",
    "from sqlalchemy.types import Date\n",
    "from sqlalchemy.orm import Session\n",
    "from sqlalchemy import func\n",
    "from sqlalchemy.sql.expression import extract\n",
    "import pandas as pd \n",
    "from pprint import pprint\n",
    "\n",
    "%reload_ext nb_black"
   ]
  },
  {
   "cell_type": "code",
   "execution_count": 8,
   "metadata": {},
   "outputs": [
    {
     "data": {
      "application/javascript": [
       "\n",
       "            setTimeout(function() {\n",
       "                var nbb_cell_id = 8;\n",
       "                var nbb_unformatted_code = \"# set up Base\\n\\nBase = declarative_base()\";\n",
       "                var nbb_formatted_code = \"# set up Base\\n\\nBase = declarative_base()\";\n",
       "                var nbb_cells = Jupyter.notebook.get_cells();\n",
       "                for (var i = 0; i < nbb_cells.length; ++i) {\n",
       "                    if (nbb_cells[i].input_prompt_number == nbb_cell_id) {\n",
       "                        if (nbb_cells[i].get_text() == nbb_unformatted_code) {\n",
       "                             nbb_cells[i].set_text(nbb_formatted_code);\n",
       "                        }\n",
       "                        break;\n",
       "                    }\n",
       "                }\n",
       "            }, 500);\n",
       "            "
      ],
      "text/plain": [
       "<IPython.core.display.Javascript object>"
      ]
     },
     "metadata": {},
     "output_type": "display_data"
    },
    {
     "data": {
      "application/javascript": [
       "\n",
       "            setTimeout(function() {\n",
       "                var nbb_cell_id = 8;\n",
       "                var nbb_unformatted_code = \"# set up Base\\n\\nBase = declarative_base()\";\n",
       "                var nbb_formatted_code = \"# set up Base\\n\\nBase = declarative_base()\";\n",
       "                var nbb_cells = Jupyter.notebook.get_cells();\n",
       "                for (var i = 0; i < nbb_cells.length; ++i) {\n",
       "                    if (nbb_cells[i].input_prompt_number == nbb_cell_id) {\n",
       "                        if (nbb_cells[i].get_text() == nbb_unformatted_code) {\n",
       "                             nbb_cells[i].set_text(nbb_formatted_code);\n",
       "                        }\n",
       "                        break;\n",
       "                    }\n",
       "                }\n",
       "            }, 500);\n",
       "            "
      ],
      "text/plain": [
       "<IPython.core.display.Javascript object>"
      ]
     },
     "metadata": {},
     "output_type": "display_data"
    }
   ],
   "source": [
    "# set up Base\n",
    "\n",
    "Base = declarative_base()"
   ]
  },
  {
   "cell_type": "code",
   "execution_count": 9,
   "metadata": {},
   "outputs": [
    {
     "data": {
      "application/javascript": [
       "\n",
       "            setTimeout(function() {\n",
       "                var nbb_cell_id = 9;\n",
       "                var nbb_unformatted_code = \"#create class for measurement table\\n\\nclass Measurement(Base):\\n    __tablename__ = \\\"measurement\\\"\\n    \\n    id = Column(Integer, primary_key=True)\\n    station = Column(String)\\n    date = Column(Date)\\n    prcp = Column(Float)\\n    tobs = Column(Float)\";\n",
       "                var nbb_formatted_code = \"# create class for measurement table\\n\\n\\nclass Measurement(Base):\\n    __tablename__ = \\\"measurement\\\"\\n\\n    id = Column(Integer, primary_key=True)\\n    station = Column(String)\\n    date = Column(Date)\\n    prcp = Column(Float)\\n    tobs = Column(Float)\";\n",
       "                var nbb_cells = Jupyter.notebook.get_cells();\n",
       "                for (var i = 0; i < nbb_cells.length; ++i) {\n",
       "                    if (nbb_cells[i].input_prompt_number == nbb_cell_id) {\n",
       "                        if (nbb_cells[i].get_text() == nbb_unformatted_code) {\n",
       "                             nbb_cells[i].set_text(nbb_formatted_code);\n",
       "                        }\n",
       "                        break;\n",
       "                    }\n",
       "                }\n",
       "            }, 500);\n",
       "            "
      ],
      "text/plain": [
       "<IPython.core.display.Javascript object>"
      ]
     },
     "metadata": {},
     "output_type": "display_data"
    },
    {
     "data": {
      "application/javascript": [
       "\n",
       "            setTimeout(function() {\n",
       "                var nbb_cell_id = 9;\n",
       "                var nbb_unformatted_code = \"#create class for measurement table\\n\\nclass Measurement(Base):\\n    __tablename__ = \\\"measurement\\\"\\n    \\n    id = Column(Integer, primary_key=True)\\n    station = Column(String)\\n    date = Column(Date)\\n    prcp = Column(Float)\\n    tobs = Column(Float)\";\n",
       "                var nbb_formatted_code = \"# create class for measurement table\\n\\n\\nclass Measurement(Base):\\n    __tablename__ = \\\"measurement\\\"\\n\\n    id = Column(Integer, primary_key=True)\\n    station = Column(String)\\n    date = Column(Date)\\n    prcp = Column(Float)\\n    tobs = Column(Float)\";\n",
       "                var nbb_cells = Jupyter.notebook.get_cells();\n",
       "                for (var i = 0; i < nbb_cells.length; ++i) {\n",
       "                    if (nbb_cells[i].input_prompt_number == nbb_cell_id) {\n",
       "                        if (nbb_cells[i].get_text() == nbb_unformatted_code) {\n",
       "                             nbb_cells[i].set_text(nbb_formatted_code);\n",
       "                        }\n",
       "                        break;\n",
       "                    }\n",
       "                }\n",
       "            }, 500);\n",
       "            "
      ],
      "text/plain": [
       "<IPython.core.display.Javascript object>"
      ]
     },
     "metadata": {},
     "output_type": "display_data"
    }
   ],
   "source": [
    "#create class for measurement table\n",
    "\n",
    "class Measurement(Base):\n",
    "    __tablename__ = \"measurement\"\n",
    "    \n",
    "    id = Column(Integer, primary_key=True)\n",
    "    station = Column(String)\n",
    "    date = Column(Date)\n",
    "    prcp = Column(Float)\n",
    "    tobs = Column(Float)"
   ]
  },
  {
   "cell_type": "code",
   "execution_count": 10,
   "metadata": {},
   "outputs": [
    {
     "data": {
      "application/javascript": [
       "\n",
       "            setTimeout(function() {\n",
       "                var nbb_cell_id = 10;\n",
       "                var nbb_unformatted_code = \"#create class for station table\\n\\nclass Station(Base):\\n    __tablename__ = \\\"station\\\"\\n    \\n    id = Column(Integer, primary_key=True)\\n    station = Column(String)\\n    name = Column(String)\\n    latitude = Column(Float)\\n    longitude = Column(Float)\\n    elevation =  Column(Float)\";\n",
       "                var nbb_formatted_code = \"# create class for station table\\n\\n\\nclass Station(Base):\\n    __tablename__ = \\\"station\\\"\\n\\n    id = Column(Integer, primary_key=True)\\n    station = Column(String)\\n    name = Column(String)\\n    latitude = Column(Float)\\n    longitude = Column(Float)\\n    elevation = Column(Float)\";\n",
       "                var nbb_cells = Jupyter.notebook.get_cells();\n",
       "                for (var i = 0; i < nbb_cells.length; ++i) {\n",
       "                    if (nbb_cells[i].input_prompt_number == nbb_cell_id) {\n",
       "                        if (nbb_cells[i].get_text() == nbb_unformatted_code) {\n",
       "                             nbb_cells[i].set_text(nbb_formatted_code);\n",
       "                        }\n",
       "                        break;\n",
       "                    }\n",
       "                }\n",
       "            }, 500);\n",
       "            "
      ],
      "text/plain": [
       "<IPython.core.display.Javascript object>"
      ]
     },
     "metadata": {},
     "output_type": "display_data"
    },
    {
     "data": {
      "application/javascript": [
       "\n",
       "            setTimeout(function() {\n",
       "                var nbb_cell_id = 10;\n",
       "                var nbb_unformatted_code = \"#create class for station table\\n\\nclass Station(Base):\\n    __tablename__ = \\\"station\\\"\\n    \\n    id = Column(Integer, primary_key=True)\\n    station = Column(String)\\n    name = Column(String)\\n    latitude = Column(Float)\\n    longitude = Column(Float)\\n    elevation =  Column(Float)\";\n",
       "                var nbb_formatted_code = \"# create class for station table\\n\\n\\nclass Station(Base):\\n    __tablename__ = \\\"station\\\"\\n\\n    id = Column(Integer, primary_key=True)\\n    station = Column(String)\\n    name = Column(String)\\n    latitude = Column(Float)\\n    longitude = Column(Float)\\n    elevation = Column(Float)\";\n",
       "                var nbb_cells = Jupyter.notebook.get_cells();\n",
       "                for (var i = 0; i < nbb_cells.length; ++i) {\n",
       "                    if (nbb_cells[i].input_prompt_number == nbb_cell_id) {\n",
       "                        if (nbb_cells[i].get_text() == nbb_unformatted_code) {\n",
       "                             nbb_cells[i].set_text(nbb_formatted_code);\n",
       "                        }\n",
       "                        break;\n",
       "                    }\n",
       "                }\n",
       "            }, 500);\n",
       "            "
      ],
      "text/plain": [
       "<IPython.core.display.Javascript object>"
      ]
     },
     "metadata": {},
     "output_type": "display_data"
    }
   ],
   "source": [
    "#create class for station table\n",
    "\n",
    "class Station(Base):\n",
    "    __tablename__ = \"station\"\n",
    "    \n",
    "    id = Column(Integer, primary_key=True)\n",
    "    station = Column(String)\n",
    "    name = Column(String)\n",
    "    latitude = Column(Float)\n",
    "    longitude = Column(Float)\n",
    "    elevation =  Column(Float)"
   ]
  },
  {
   "cell_type": "code",
   "execution_count": 11,
   "metadata": {},
   "outputs": [
    {
     "data": {
      "application/javascript": [
       "\n",
       "            setTimeout(function() {\n",
       "                var nbb_cell_id = 11;\n",
       "                var nbb_unformatted_code = \"# create engine and session to link to the database\\n\\nengine = create_engine(\\\"sqlite:///Resources/hawaii.sqlite\\\")\\nconn = engine.connect()\\nsession = Session(bind=engine) # If something breaks, check here <-\";\n",
       "                var nbb_formatted_code = \"# create engine and session to link to the database\\n\\nengine = create_engine(\\\"sqlite:///Resources/hawaii.sqlite\\\")\\nconn = engine.connect()\\nsession = Session(bind=engine)  # If something breaks, check here <-\";\n",
       "                var nbb_cells = Jupyter.notebook.get_cells();\n",
       "                for (var i = 0; i < nbb_cells.length; ++i) {\n",
       "                    if (nbb_cells[i].input_prompt_number == nbb_cell_id) {\n",
       "                        if (nbb_cells[i].get_text() == nbb_unformatted_code) {\n",
       "                             nbb_cells[i].set_text(nbb_formatted_code);\n",
       "                        }\n",
       "                        break;\n",
       "                    }\n",
       "                }\n",
       "            }, 500);\n",
       "            "
      ],
      "text/plain": [
       "<IPython.core.display.Javascript object>"
      ]
     },
     "metadata": {},
     "output_type": "display_data"
    },
    {
     "data": {
      "application/javascript": [
       "\n",
       "            setTimeout(function() {\n",
       "                var nbb_cell_id = 11;\n",
       "                var nbb_unformatted_code = \"# create engine and session to link to the database\\n\\nengine = create_engine(\\\"sqlite:///Resources/hawaii.sqlite\\\")\\nconn = engine.connect()\\nsession = Session(bind=engine) # If something breaks, check here <-\";\n",
       "                var nbb_formatted_code = \"# create engine and session to link to the database\\n\\nengine = create_engine(\\\"sqlite:///Resources/hawaii.sqlite\\\")\\nconn = engine.connect()\\nsession = Session(bind=engine)  # If something breaks, check here <-\";\n",
       "                var nbb_cells = Jupyter.notebook.get_cells();\n",
       "                for (var i = 0; i < nbb_cells.length; ++i) {\n",
       "                    if (nbb_cells[i].input_prompt_number == nbb_cell_id) {\n",
       "                        if (nbb_cells[i].get_text() == nbb_unformatted_code) {\n",
       "                             nbb_cells[i].set_text(nbb_formatted_code);\n",
       "                        }\n",
       "                        break;\n",
       "                    }\n",
       "                }\n",
       "            }, 500);\n",
       "            "
      ],
      "text/plain": [
       "<IPython.core.display.Javascript object>"
      ]
     },
     "metadata": {},
     "output_type": "display_data"
    }
   ],
   "source": [
    "# create engine and session to link to the database\n",
    "\n",
    "engine = create_engine(\"sqlite:///Resources/hawaii.sqlite\")\n",
    "conn = engine.connect()\n",
    "session = Session(bind=engine) # If something breaks, check here <-"
   ]
  },
  {
   "cell_type": "markdown",
   "metadata": {},
   "source": [
    "### Temperature Analysis I"
   ]
  },
  {
   "cell_type": "code",
   "execution_count": 13,
   "metadata": {},
   "outputs": [
    {
     "data": {
      "text/plain": [
       "75.0"
      ]
     },
     "execution_count": 13,
     "metadata": {},
     "output_type": "execute_result"
    },
    {
     "data": {
      "application/javascript": [
       "\n",
       "            setTimeout(function() {\n",
       "                var nbb_cell_id = 13;\n",
       "                var nbb_unformatted_code = \"# get the average temperature in June at all stations in all years\\n\\navg_june_temp = session.query(func.round(func.avg(Measurement.tobs)))\\\\\\n    .filter(extract(\\\"month\\\", Measurement.date) == \\\"6\\\").first()[0]\\n\\navg_june_temp\";\n",
       "                var nbb_formatted_code = \"# get the average temperature in June at all stations in all years\\n\\navg_june_temp = (\\n    session.query(func.round(func.avg(Measurement.tobs)))\\n    .filter(extract(\\\"month\\\", Measurement.date) == \\\"6\\\")\\n    .first()[0]\\n)\\n\\navg_june_temp\";\n",
       "                var nbb_cells = Jupyter.notebook.get_cells();\n",
       "                for (var i = 0; i < nbb_cells.length; ++i) {\n",
       "                    if (nbb_cells[i].input_prompt_number == nbb_cell_id) {\n",
       "                        if (nbb_cells[i].get_text() == nbb_unformatted_code) {\n",
       "                             nbb_cells[i].set_text(nbb_formatted_code);\n",
       "                        }\n",
       "                        break;\n",
       "                    }\n",
       "                }\n",
       "            }, 500);\n",
       "            "
      ],
      "text/plain": [
       "<IPython.core.display.Javascript object>"
      ]
     },
     "metadata": {},
     "output_type": "display_data"
    },
    {
     "data": {
      "application/javascript": [
       "\n",
       "            setTimeout(function() {\n",
       "                var nbb_cell_id = 13;\n",
       "                var nbb_unformatted_code = \"# get the average temperature in June at all stations in all years\\n\\navg_june_temp = session.query(func.round(func.avg(Measurement.tobs)))\\\\\\n    .filter(extract(\\\"month\\\", Measurement.date) == \\\"6\\\").first()[0]\\n\\navg_june_temp\";\n",
       "                var nbb_formatted_code = \"# get the average temperature in June at all stations in all years\\n\\navg_june_temp = (\\n    session.query(func.round(func.avg(Measurement.tobs)))\\n    .filter(extract(\\\"month\\\", Measurement.date) == \\\"6\\\")\\n    .first()[0]\\n)\\n\\navg_june_temp\";\n",
       "                var nbb_cells = Jupyter.notebook.get_cells();\n",
       "                for (var i = 0; i < nbb_cells.length; ++i) {\n",
       "                    if (nbb_cells[i].input_prompt_number == nbb_cell_id) {\n",
       "                        if (nbb_cells[i].get_text() == nbb_unformatted_code) {\n",
       "                             nbb_cells[i].set_text(nbb_formatted_code);\n",
       "                        }\n",
       "                        break;\n",
       "                    }\n",
       "                }\n",
       "            }, 500);\n",
       "            "
      ],
      "text/plain": [
       "<IPython.core.display.Javascript object>"
      ]
     },
     "metadata": {},
     "output_type": "display_data"
    }
   ],
   "source": [
    "# get the average temperature in June at all stations in all years\n",
    "\n",
    "avg_june_temp = session.query(func.round(func.avg(Measurement.tobs)))\\\n",
    "    .filter(extract(\"month\", Measurement.date) == \"6\").first()[0]\n",
    "\n",
    "avg_june_temp"
   ]
  },
  {
   "cell_type": "code",
   "execution_count": 14,
   "metadata": {},
   "outputs": [
    {
     "data": {
      "text/plain": [
       "71.0"
      ]
     },
     "execution_count": 14,
     "metadata": {},
     "output_type": "execute_result"
    },
    {
     "data": {
      "application/javascript": [
       "\n",
       "            setTimeout(function() {\n",
       "                var nbb_cell_id = 14;\n",
       "                var nbb_unformatted_code = \"# get the average temperature in December at all stations in all years\\n\\navg_dec_temp = session.query(func.round(func.avg(Measurement.tobs)))\\\\\\n    .filter(extract(\\\"month\\\", Measurement.date) == \\\"12\\\").first()[0]\\n\\navg_dec_temp\";\n",
       "                var nbb_formatted_code = \"# get the average temperature in December at all stations in all years\\n\\navg_dec_temp = (\\n    session.query(func.round(func.avg(Measurement.tobs)))\\n    .filter(extract(\\\"month\\\", Measurement.date) == \\\"12\\\")\\n    .first()[0]\\n)\\n\\navg_dec_temp\";\n",
       "                var nbb_cells = Jupyter.notebook.get_cells();\n",
       "                for (var i = 0; i < nbb_cells.length; ++i) {\n",
       "                    if (nbb_cells[i].input_prompt_number == nbb_cell_id) {\n",
       "                        if (nbb_cells[i].get_text() == nbb_unformatted_code) {\n",
       "                             nbb_cells[i].set_text(nbb_formatted_code);\n",
       "                        }\n",
       "                        break;\n",
       "                    }\n",
       "                }\n",
       "            }, 500);\n",
       "            "
      ],
      "text/plain": [
       "<IPython.core.display.Javascript object>"
      ]
     },
     "metadata": {},
     "output_type": "display_data"
    },
    {
     "data": {
      "application/javascript": [
       "\n",
       "            setTimeout(function() {\n",
       "                var nbb_cell_id = 14;\n",
       "                var nbb_unformatted_code = \"# get the average temperature in December at all stations in all years\\n\\navg_dec_temp = session.query(func.round(func.avg(Measurement.tobs)))\\\\\\n    .filter(extract(\\\"month\\\", Measurement.date) == \\\"12\\\").first()[0]\\n\\navg_dec_temp\";\n",
       "                var nbb_formatted_code = \"# get the average temperature in December at all stations in all years\\n\\navg_dec_temp = (\\n    session.query(func.round(func.avg(Measurement.tobs)))\\n    .filter(extract(\\\"month\\\", Measurement.date) == \\\"12\\\")\\n    .first()[0]\\n)\\n\\navg_dec_temp\";\n",
       "                var nbb_cells = Jupyter.notebook.get_cells();\n",
       "                for (var i = 0; i < nbb_cells.length; ++i) {\n",
       "                    if (nbb_cells[i].input_prompt_number == nbb_cell_id) {\n",
       "                        if (nbb_cells[i].get_text() == nbb_unformatted_code) {\n",
       "                             nbb_cells[i].set_text(nbb_formatted_code);\n",
       "                        }\n",
       "                        break;\n",
       "                    }\n",
       "                }\n",
       "            }, 500);\n",
       "            "
      ],
      "text/plain": [
       "<IPython.core.display.Javascript object>"
      ]
     },
     "metadata": {},
     "output_type": "display_data"
    }
   ],
   "source": [
    "# get the average temperature in December at all stations in all years\n",
    "\n",
    "avg_dec_temp = session.query(func.round(func.avg(Measurement.tobs)))\\\n",
    "    .filter(extract(\"month\", Measurement.date) == \"12\").first()[0]\n",
    "\n",
    "avg_dec_temp"
   ]
  },
  {
   "cell_type": "code",
   "execution_count": null,
   "metadata": {},
   "outputs": [],
   "source": []
  }
 ],
 "metadata": {
  "environment": {
   "name": "common-cpu.m54",
   "type": "gcloud",
   "uri": "gcr.io/deeplearning-platform-release/base-cpu:m54"
  },
  "kernelspec": {
   "display_name": "Python 3",
   "language": "python",
   "name": "python3"
  },
  "language_info": {
   "codemirror_mode": {
    "name": "ipython",
    "version": 3
   },
   "file_extension": ".py",
   "mimetype": "text/x-python",
   "name": "python",
   "nbconvert_exporter": "python",
   "pygments_lexer": "ipython3",
   "version": "3.7.8"
  }
 },
 "nbformat": 4,
 "nbformat_minor": 4
}
