{
 "cells": [
  {
   "cell_type": "code",
   "execution_count": 206,
   "metadata": {},
   "outputs": [
    {
     "data": {
      "application/javascript": [
       "\n",
       "            setTimeout(function() {\n",
       "                var nbb_cell_id = 206;\n",
       "                var nbb_unformatted_code = \"# set up and dependencies\\nimport matplotlib.pyplot as plt\\nfrom matplotlib import style\\nstyle.use('fivethirtyeight')\\nfrom sqlalchemy import create_engine\\nfrom sqlalchemy.ext.declarative import declarative_base\\nfrom sqlalchemy import Column, Integer, String, Float\\nfrom sqlalchemy.types import Date\\nfrom sqlalchemy.orm import Session\\nfrom sqlalchemy import func\\nfrom sqlalchemy.sql.expression import extract\\nimport pandas as pd \\nfrom scipy.stats import ttest_ind\\nimport numpy as np\\n\\n\\n%reload_ext nb_black\";\n",
       "                var nbb_formatted_code = \"# set up and dependencies\\nimport matplotlib.pyplot as plt\\nfrom matplotlib import style\\n\\nstyle.use(\\\"fivethirtyeight\\\")\\nfrom sqlalchemy import create_engine\\nfrom sqlalchemy.ext.declarative import declarative_base\\nfrom sqlalchemy import Column, Integer, String, Float\\nfrom sqlalchemy.types import Date\\nfrom sqlalchemy.orm import Session\\nfrom sqlalchemy import func\\nfrom sqlalchemy.sql.expression import extract\\nimport pandas as pd\\nfrom scipy.stats import ttest_ind\\nimport numpy as np\\n\\n\\n%reload_ext nb_black\";\n",
       "                var nbb_cells = Jupyter.notebook.get_cells();\n",
       "                for (var i = 0; i < nbb_cells.length; ++i) {\n",
       "                    if (nbb_cells[i].input_prompt_number == nbb_cell_id) {\n",
       "                        if (nbb_cells[i].get_text() == nbb_unformatted_code) {\n",
       "                             nbb_cells[i].set_text(nbb_formatted_code);\n",
       "                        }\n",
       "                        break;\n",
       "                    }\n",
       "                }\n",
       "            }, 500);\n",
       "            "
      ],
      "text/plain": [
       "<IPython.core.display.Javascript object>"
      ]
     },
     "metadata": {},
     "output_type": "display_data"
    },
    {
     "data": {
      "application/javascript": [
       "\n",
       "            setTimeout(function() {\n",
       "                var nbb_cell_id = 206;\n",
       "                var nbb_unformatted_code = \"# set up and dependencies\\nimport matplotlib.pyplot as plt\\nfrom matplotlib import style\\nstyle.use('fivethirtyeight')\\nfrom sqlalchemy import create_engine\\nfrom sqlalchemy.ext.declarative import declarative_base\\nfrom sqlalchemy import Column, Integer, String, Float\\nfrom sqlalchemy.types import Date\\nfrom sqlalchemy.orm import Session\\nfrom sqlalchemy import func\\nfrom sqlalchemy.sql.expression import extract\\nimport pandas as pd \\nfrom scipy.stats import ttest_ind\\nimport numpy as np\\n\\n\\n%reload_ext nb_black\";\n",
       "                var nbb_formatted_code = \"# set up and dependencies\\nimport matplotlib.pyplot as plt\\nfrom matplotlib import style\\n\\nstyle.use(\\\"fivethirtyeight\\\")\\nfrom sqlalchemy import create_engine\\nfrom sqlalchemy.ext.declarative import declarative_base\\nfrom sqlalchemy import Column, Integer, String, Float\\nfrom sqlalchemy.types import Date\\nfrom sqlalchemy.orm import Session\\nfrom sqlalchemy import func\\nfrom sqlalchemy.sql.expression import extract\\nimport pandas as pd\\nfrom scipy.stats import ttest_ind\\nimport numpy as np\\n\\n\\n%reload_ext nb_black\";\n",
       "                var nbb_cells = Jupyter.notebook.get_cells();\n",
       "                for (var i = 0; i < nbb_cells.length; ++i) {\n",
       "                    if (nbb_cells[i].input_prompt_number == nbb_cell_id) {\n",
       "                        if (nbb_cells[i].get_text() == nbb_unformatted_code) {\n",
       "                             nbb_cells[i].set_text(nbb_formatted_code);\n",
       "                        }\n",
       "                        break;\n",
       "                    }\n",
       "                }\n",
       "            }, 500);\n",
       "            "
      ],
      "text/plain": [
       "<IPython.core.display.Javascript object>"
      ]
     },
     "metadata": {},
     "output_type": "display_data"
    },
    {
     "data": {
      "application/javascript": [
       "\n",
       "            setTimeout(function() {\n",
       "                var nbb_cell_id = 206;\n",
       "                var nbb_unformatted_code = \"# set up and dependencies\\nimport matplotlib.pyplot as plt\\nfrom matplotlib import style\\nstyle.use('fivethirtyeight')\\nfrom sqlalchemy import create_engine\\nfrom sqlalchemy.ext.declarative import declarative_base\\nfrom sqlalchemy import Column, Integer, String, Float\\nfrom sqlalchemy.types import Date\\nfrom sqlalchemy.orm import Session\\nfrom sqlalchemy import func\\nfrom sqlalchemy.sql.expression import extract\\nimport pandas as pd \\nfrom scipy.stats import ttest_ind\\nimport numpy as np\\n\\n\\n%reload_ext nb_black\";\n",
       "                var nbb_formatted_code = \"# set up and dependencies\\nimport matplotlib.pyplot as plt\\nfrom matplotlib import style\\n\\nstyle.use(\\\"fivethirtyeight\\\")\\nfrom sqlalchemy import create_engine\\nfrom sqlalchemy.ext.declarative import declarative_base\\nfrom sqlalchemy import Column, Integer, String, Float\\nfrom sqlalchemy.types import Date\\nfrom sqlalchemy.orm import Session\\nfrom sqlalchemy import func\\nfrom sqlalchemy.sql.expression import extract\\nimport pandas as pd\\nfrom scipy.stats import ttest_ind\\nimport numpy as np\\n\\n\\n%reload_ext nb_black\";\n",
       "                var nbb_cells = Jupyter.notebook.get_cells();\n",
       "                for (var i = 0; i < nbb_cells.length; ++i) {\n",
       "                    if (nbb_cells[i].input_prompt_number == nbb_cell_id) {\n",
       "                        if (nbb_cells[i].get_text() == nbb_unformatted_code) {\n",
       "                             nbb_cells[i].set_text(nbb_formatted_code);\n",
       "                        }\n",
       "                        break;\n",
       "                    }\n",
       "                }\n",
       "            }, 500);\n",
       "            "
      ],
      "text/plain": [
       "<IPython.core.display.Javascript object>"
      ]
     },
     "metadata": {},
     "output_type": "display_data"
    },
    {
     "data": {
      "application/javascript": [
       "\n",
       "            setTimeout(function() {\n",
       "                var nbb_cell_id = 206;\n",
       "                var nbb_unformatted_code = \"# set up and dependencies\\nimport matplotlib.pyplot as plt\\nfrom matplotlib import style\\nstyle.use('fivethirtyeight')\\nfrom sqlalchemy import create_engine\\nfrom sqlalchemy.ext.declarative import declarative_base\\nfrom sqlalchemy import Column, Integer, String, Float\\nfrom sqlalchemy.types import Date\\nfrom sqlalchemy.orm import Session\\nfrom sqlalchemy import func\\nfrom sqlalchemy.sql.expression import extract\\nimport pandas as pd \\nfrom scipy.stats import ttest_ind\\nimport numpy as np\\n\\n\\n%reload_ext nb_black\";\n",
       "                var nbb_formatted_code = \"# set up and dependencies\\nimport matplotlib.pyplot as plt\\nfrom matplotlib import style\\n\\nstyle.use(\\\"fivethirtyeight\\\")\\nfrom sqlalchemy import create_engine\\nfrom sqlalchemy.ext.declarative import declarative_base\\nfrom sqlalchemy import Column, Integer, String, Float\\nfrom sqlalchemy.types import Date\\nfrom sqlalchemy.orm import Session\\nfrom sqlalchemy import func\\nfrom sqlalchemy.sql.expression import extract\\nimport pandas as pd\\nfrom scipy.stats import ttest_ind\\nimport numpy as np\\n\\n\\n%reload_ext nb_black\";\n",
       "                var nbb_cells = Jupyter.notebook.get_cells();\n",
       "                for (var i = 0; i < nbb_cells.length; ++i) {\n",
       "                    if (nbb_cells[i].input_prompt_number == nbb_cell_id) {\n",
       "                        if (nbb_cells[i].get_text() == nbb_unformatted_code) {\n",
       "                             nbb_cells[i].set_text(nbb_formatted_code);\n",
       "                        }\n",
       "                        break;\n",
       "                    }\n",
       "                }\n",
       "            }, 500);\n",
       "            "
      ],
      "text/plain": [
       "<IPython.core.display.Javascript object>"
      ]
     },
     "metadata": {},
     "output_type": "display_data"
    },
    {
     "data": {
      "application/javascript": [
       "\n",
       "            setTimeout(function() {\n",
       "                var nbb_cell_id = 206;\n",
       "                var nbb_unformatted_code = \"# set up and dependencies\\nimport matplotlib.pyplot as plt\\nfrom matplotlib import style\\nstyle.use('fivethirtyeight')\\nfrom sqlalchemy import create_engine\\nfrom sqlalchemy.ext.declarative import declarative_base\\nfrom sqlalchemy import Column, Integer, String, Float\\nfrom sqlalchemy.types import Date\\nfrom sqlalchemy.orm import Session\\nfrom sqlalchemy import func\\nfrom sqlalchemy.sql.expression import extract\\nimport pandas as pd \\nfrom scipy.stats import ttest_ind\\nimport numpy as np\\n\\n\\n%reload_ext nb_black\";\n",
       "                var nbb_formatted_code = \"# set up and dependencies\\nimport matplotlib.pyplot as plt\\nfrom matplotlib import style\\n\\nstyle.use(\\\"fivethirtyeight\\\")\\nfrom sqlalchemy import create_engine\\nfrom sqlalchemy.ext.declarative import declarative_base\\nfrom sqlalchemy import Column, Integer, String, Float\\nfrom sqlalchemy.types import Date\\nfrom sqlalchemy.orm import Session\\nfrom sqlalchemy import func\\nfrom sqlalchemy.sql.expression import extract\\nimport pandas as pd\\nfrom scipy.stats import ttest_ind\\nimport numpy as np\\n\\n\\n%reload_ext nb_black\";\n",
       "                var nbb_cells = Jupyter.notebook.get_cells();\n",
       "                for (var i = 0; i < nbb_cells.length; ++i) {\n",
       "                    if (nbb_cells[i].input_prompt_number == nbb_cell_id) {\n",
       "                        if (nbb_cells[i].get_text() == nbb_unformatted_code) {\n",
       "                             nbb_cells[i].set_text(nbb_formatted_code);\n",
       "                        }\n",
       "                        break;\n",
       "                    }\n",
       "                }\n",
       "            }, 500);\n",
       "            "
      ],
      "text/plain": [
       "<IPython.core.display.Javascript object>"
      ]
     },
     "metadata": {},
     "output_type": "display_data"
    },
    {
     "data": {
      "application/javascript": [
       "\n",
       "            setTimeout(function() {\n",
       "                var nbb_cell_id = 206;\n",
       "                var nbb_unformatted_code = \"# set up and dependencies\\nimport matplotlib.pyplot as plt\\nfrom matplotlib import style\\nstyle.use('fivethirtyeight')\\nfrom sqlalchemy import create_engine\\nfrom sqlalchemy.ext.declarative import declarative_base\\nfrom sqlalchemy import Column, Integer, String, Float\\nfrom sqlalchemy.types import Date\\nfrom sqlalchemy.orm import Session\\nfrom sqlalchemy import func\\nfrom sqlalchemy.sql.expression import extract\\nimport pandas as pd \\nfrom scipy.stats import ttest_ind\\nimport numpy as np\\n\\n\\n%reload_ext nb_black\";\n",
       "                var nbb_formatted_code = \"# set up and dependencies\\nimport matplotlib.pyplot as plt\\nfrom matplotlib import style\\n\\nstyle.use(\\\"fivethirtyeight\\\")\\nfrom sqlalchemy import create_engine\\nfrom sqlalchemy.ext.declarative import declarative_base\\nfrom sqlalchemy import Column, Integer, String, Float\\nfrom sqlalchemy.types import Date\\nfrom sqlalchemy.orm import Session\\nfrom sqlalchemy import func\\nfrom sqlalchemy.sql.expression import extract\\nimport pandas as pd\\nfrom scipy.stats import ttest_ind\\nimport numpy as np\\n\\n\\n%reload_ext nb_black\";\n",
       "                var nbb_cells = Jupyter.notebook.get_cells();\n",
       "                for (var i = 0; i < nbb_cells.length; ++i) {\n",
       "                    if (nbb_cells[i].input_prompt_number == nbb_cell_id) {\n",
       "                        if (nbb_cells[i].get_text() == nbb_unformatted_code) {\n",
       "                             nbb_cells[i].set_text(nbb_formatted_code);\n",
       "                        }\n",
       "                        break;\n",
       "                    }\n",
       "                }\n",
       "            }, 500);\n",
       "            "
      ],
      "text/plain": [
       "<IPython.core.display.Javascript object>"
      ]
     },
     "metadata": {},
     "output_type": "display_data"
    },
    {
     "data": {
      "application/javascript": [
       "\n",
       "            setTimeout(function() {\n",
       "                var nbb_cell_id = 206;\n",
       "                var nbb_unformatted_code = \"# set up and dependencies\\nimport matplotlib.pyplot as plt\\nfrom matplotlib import style\\nstyle.use('fivethirtyeight')\\nfrom sqlalchemy import create_engine\\nfrom sqlalchemy.ext.declarative import declarative_base\\nfrom sqlalchemy import Column, Integer, String, Float\\nfrom sqlalchemy.types import Date\\nfrom sqlalchemy.orm import Session\\nfrom sqlalchemy import func\\nfrom sqlalchemy.sql.expression import extract\\nimport pandas as pd \\nfrom scipy.stats import ttest_ind\\nimport numpy as np\\n\\n\\n%reload_ext nb_black\";\n",
       "                var nbb_formatted_code = \"# set up and dependencies\\nimport matplotlib.pyplot as plt\\nfrom matplotlib import style\\n\\nstyle.use(\\\"fivethirtyeight\\\")\\nfrom sqlalchemy import create_engine\\nfrom sqlalchemy.ext.declarative import declarative_base\\nfrom sqlalchemy import Column, Integer, String, Float\\nfrom sqlalchemy.types import Date\\nfrom sqlalchemy.orm import Session\\nfrom sqlalchemy import func\\nfrom sqlalchemy.sql.expression import extract\\nimport pandas as pd\\nfrom scipy.stats import ttest_ind\\nimport numpy as np\\n\\n\\n%reload_ext nb_black\";\n",
       "                var nbb_cells = Jupyter.notebook.get_cells();\n",
       "                for (var i = 0; i < nbb_cells.length; ++i) {\n",
       "                    if (nbb_cells[i].input_prompt_number == nbb_cell_id) {\n",
       "                        if (nbb_cells[i].get_text() == nbb_unformatted_code) {\n",
       "                             nbb_cells[i].set_text(nbb_formatted_code);\n",
       "                        }\n",
       "                        break;\n",
       "                    }\n",
       "                }\n",
       "            }, 500);\n",
       "            "
      ],
      "text/plain": [
       "<IPython.core.display.Javascript object>"
      ]
     },
     "metadata": {},
     "output_type": "display_data"
    },
    {
     "data": {
      "application/javascript": [
       "\n",
       "            setTimeout(function() {\n",
       "                var nbb_cell_id = 206;\n",
       "                var nbb_unformatted_code = \"# set up and dependencies\\nimport matplotlib.pyplot as plt\\nfrom matplotlib import style\\nstyle.use('fivethirtyeight')\\nfrom sqlalchemy import create_engine\\nfrom sqlalchemy.ext.declarative import declarative_base\\nfrom sqlalchemy import Column, Integer, String, Float\\nfrom sqlalchemy.types import Date\\nfrom sqlalchemy.orm import Session\\nfrom sqlalchemy import func\\nfrom sqlalchemy.sql.expression import extract\\nimport pandas as pd \\nfrom scipy.stats import ttest_ind\\nimport numpy as np\\n\\n\\n%reload_ext nb_black\";\n",
       "                var nbb_formatted_code = \"# set up and dependencies\\nimport matplotlib.pyplot as plt\\nfrom matplotlib import style\\n\\nstyle.use(\\\"fivethirtyeight\\\")\\nfrom sqlalchemy import create_engine\\nfrom sqlalchemy.ext.declarative import declarative_base\\nfrom sqlalchemy import Column, Integer, String, Float\\nfrom sqlalchemy.types import Date\\nfrom sqlalchemy.orm import Session\\nfrom sqlalchemy import func\\nfrom sqlalchemy.sql.expression import extract\\nimport pandas as pd\\nfrom scipy.stats import ttest_ind\\nimport numpy as np\\n\\n\\n%reload_ext nb_black\";\n",
       "                var nbb_cells = Jupyter.notebook.get_cells();\n",
       "                for (var i = 0; i < nbb_cells.length; ++i) {\n",
       "                    if (nbb_cells[i].input_prompt_number == nbb_cell_id) {\n",
       "                        if (nbb_cells[i].get_text() == nbb_unformatted_code) {\n",
       "                             nbb_cells[i].set_text(nbb_formatted_code);\n",
       "                        }\n",
       "                        break;\n",
       "                    }\n",
       "                }\n",
       "            }, 500);\n",
       "            "
      ],
      "text/plain": [
       "<IPython.core.display.Javascript object>"
      ]
     },
     "metadata": {},
     "output_type": "display_data"
    }
   ],
   "source": [
    "# set up and dependencies\n",
    "import matplotlib.pyplot as plt\n",
    "from matplotlib import style\n",
    "style.use('fivethirtyeight')\n",
    "from sqlalchemy import create_engine\n",
    "from sqlalchemy.ext.declarative import declarative_base\n",
    "from sqlalchemy import Column, Integer, String, Float\n",
    "from sqlalchemy.types import Date\n",
    "from sqlalchemy.orm import Session\n",
    "from sqlalchemy import func\n",
    "from sqlalchemy.sql.expression import extract\n",
    "import pandas as pd \n",
    "from scipy.stats import ttest_ind\n",
    "import numpy as np\n",
    "\n",
    "\n",
    "%reload_ext nb_black"
   ]
  },
  {
   "cell_type": "code",
   "execution_count": 207,
   "metadata": {},
   "outputs": [
    {
     "data": {
      "application/javascript": [
       "\n",
       "            setTimeout(function() {\n",
       "                var nbb_cell_id = 207;\n",
       "                var nbb_unformatted_code = \"# set up Base\\n\\nBase = declarative_base()\";\n",
       "                var nbb_formatted_code = \"# set up Base\\n\\nBase = declarative_base()\";\n",
       "                var nbb_cells = Jupyter.notebook.get_cells();\n",
       "                for (var i = 0; i < nbb_cells.length; ++i) {\n",
       "                    if (nbb_cells[i].input_prompt_number == nbb_cell_id) {\n",
       "                        if (nbb_cells[i].get_text() == nbb_unformatted_code) {\n",
       "                             nbb_cells[i].set_text(nbb_formatted_code);\n",
       "                        }\n",
       "                        break;\n",
       "                    }\n",
       "                }\n",
       "            }, 500);\n",
       "            "
      ],
      "text/plain": [
       "<IPython.core.display.Javascript object>"
      ]
     },
     "metadata": {},
     "output_type": "display_data"
    },
    {
     "data": {
      "application/javascript": [
       "\n",
       "            setTimeout(function() {\n",
       "                var nbb_cell_id = 207;\n",
       "                var nbb_unformatted_code = \"# set up Base\\n\\nBase = declarative_base()\";\n",
       "                var nbb_formatted_code = \"# set up Base\\n\\nBase = declarative_base()\";\n",
       "                var nbb_cells = Jupyter.notebook.get_cells();\n",
       "                for (var i = 0; i < nbb_cells.length; ++i) {\n",
       "                    if (nbb_cells[i].input_prompt_number == nbb_cell_id) {\n",
       "                        if (nbb_cells[i].get_text() == nbb_unformatted_code) {\n",
       "                             nbb_cells[i].set_text(nbb_formatted_code);\n",
       "                        }\n",
       "                        break;\n",
       "                    }\n",
       "                }\n",
       "            }, 500);\n",
       "            "
      ],
      "text/plain": [
       "<IPython.core.display.Javascript object>"
      ]
     },
     "metadata": {},
     "output_type": "display_data"
    },
    {
     "data": {
      "application/javascript": [
       "\n",
       "            setTimeout(function() {\n",
       "                var nbb_cell_id = 207;\n",
       "                var nbb_unformatted_code = \"# set up Base\\n\\nBase = declarative_base()\";\n",
       "                var nbb_formatted_code = \"# set up Base\\n\\nBase = declarative_base()\";\n",
       "                var nbb_cells = Jupyter.notebook.get_cells();\n",
       "                for (var i = 0; i < nbb_cells.length; ++i) {\n",
       "                    if (nbb_cells[i].input_prompt_number == nbb_cell_id) {\n",
       "                        if (nbb_cells[i].get_text() == nbb_unformatted_code) {\n",
       "                             nbb_cells[i].set_text(nbb_formatted_code);\n",
       "                        }\n",
       "                        break;\n",
       "                    }\n",
       "                }\n",
       "            }, 500);\n",
       "            "
      ],
      "text/plain": [
       "<IPython.core.display.Javascript object>"
      ]
     },
     "metadata": {},
     "output_type": "display_data"
    },
    {
     "data": {
      "application/javascript": [
       "\n",
       "            setTimeout(function() {\n",
       "                var nbb_cell_id = 207;\n",
       "                var nbb_unformatted_code = \"# set up Base\\n\\nBase = declarative_base()\";\n",
       "                var nbb_formatted_code = \"# set up Base\\n\\nBase = declarative_base()\";\n",
       "                var nbb_cells = Jupyter.notebook.get_cells();\n",
       "                for (var i = 0; i < nbb_cells.length; ++i) {\n",
       "                    if (nbb_cells[i].input_prompt_number == nbb_cell_id) {\n",
       "                        if (nbb_cells[i].get_text() == nbb_unformatted_code) {\n",
       "                             nbb_cells[i].set_text(nbb_formatted_code);\n",
       "                        }\n",
       "                        break;\n",
       "                    }\n",
       "                }\n",
       "            }, 500);\n",
       "            "
      ],
      "text/plain": [
       "<IPython.core.display.Javascript object>"
      ]
     },
     "metadata": {},
     "output_type": "display_data"
    },
    {
     "data": {
      "application/javascript": [
       "\n",
       "            setTimeout(function() {\n",
       "                var nbb_cell_id = 207;\n",
       "                var nbb_unformatted_code = \"# set up Base\\n\\nBase = declarative_base()\";\n",
       "                var nbb_formatted_code = \"# set up Base\\n\\nBase = declarative_base()\";\n",
       "                var nbb_cells = Jupyter.notebook.get_cells();\n",
       "                for (var i = 0; i < nbb_cells.length; ++i) {\n",
       "                    if (nbb_cells[i].input_prompt_number == nbb_cell_id) {\n",
       "                        if (nbb_cells[i].get_text() == nbb_unformatted_code) {\n",
       "                             nbb_cells[i].set_text(nbb_formatted_code);\n",
       "                        }\n",
       "                        break;\n",
       "                    }\n",
       "                }\n",
       "            }, 500);\n",
       "            "
      ],
      "text/plain": [
       "<IPython.core.display.Javascript object>"
      ]
     },
     "metadata": {},
     "output_type": "display_data"
    },
    {
     "data": {
      "application/javascript": [
       "\n",
       "            setTimeout(function() {\n",
       "                var nbb_cell_id = 207;\n",
       "                var nbb_unformatted_code = \"# set up Base\\n\\nBase = declarative_base()\";\n",
       "                var nbb_formatted_code = \"# set up Base\\n\\nBase = declarative_base()\";\n",
       "                var nbb_cells = Jupyter.notebook.get_cells();\n",
       "                for (var i = 0; i < nbb_cells.length; ++i) {\n",
       "                    if (nbb_cells[i].input_prompt_number == nbb_cell_id) {\n",
       "                        if (nbb_cells[i].get_text() == nbb_unformatted_code) {\n",
       "                             nbb_cells[i].set_text(nbb_formatted_code);\n",
       "                        }\n",
       "                        break;\n",
       "                    }\n",
       "                }\n",
       "            }, 500);\n",
       "            "
      ],
      "text/plain": [
       "<IPython.core.display.Javascript object>"
      ]
     },
     "metadata": {},
     "output_type": "display_data"
    },
    {
     "data": {
      "application/javascript": [
       "\n",
       "            setTimeout(function() {\n",
       "                var nbb_cell_id = 207;\n",
       "                var nbb_unformatted_code = \"# set up Base\\n\\nBase = declarative_base()\";\n",
       "                var nbb_formatted_code = \"# set up Base\\n\\nBase = declarative_base()\";\n",
       "                var nbb_cells = Jupyter.notebook.get_cells();\n",
       "                for (var i = 0; i < nbb_cells.length; ++i) {\n",
       "                    if (nbb_cells[i].input_prompt_number == nbb_cell_id) {\n",
       "                        if (nbb_cells[i].get_text() == nbb_unformatted_code) {\n",
       "                             nbb_cells[i].set_text(nbb_formatted_code);\n",
       "                        }\n",
       "                        break;\n",
       "                    }\n",
       "                }\n",
       "            }, 500);\n",
       "            "
      ],
      "text/plain": [
       "<IPython.core.display.Javascript object>"
      ]
     },
     "metadata": {},
     "output_type": "display_data"
    },
    {
     "data": {
      "application/javascript": [
       "\n",
       "            setTimeout(function() {\n",
       "                var nbb_cell_id = 207;\n",
       "                var nbb_unformatted_code = \"# set up Base\\n\\nBase = declarative_base()\";\n",
       "                var nbb_formatted_code = \"# set up Base\\n\\nBase = declarative_base()\";\n",
       "                var nbb_cells = Jupyter.notebook.get_cells();\n",
       "                for (var i = 0; i < nbb_cells.length; ++i) {\n",
       "                    if (nbb_cells[i].input_prompt_number == nbb_cell_id) {\n",
       "                        if (nbb_cells[i].get_text() == nbb_unformatted_code) {\n",
       "                             nbb_cells[i].set_text(nbb_formatted_code);\n",
       "                        }\n",
       "                        break;\n",
       "                    }\n",
       "                }\n",
       "            }, 500);\n",
       "            "
      ],
      "text/plain": [
       "<IPython.core.display.Javascript object>"
      ]
     },
     "metadata": {},
     "output_type": "display_data"
    }
   ],
   "source": [
    "# set up Base\n",
    "\n",
    "Base = declarative_base()"
   ]
  },
  {
   "cell_type": "code",
   "execution_count": 208,
   "metadata": {},
   "outputs": [
    {
     "data": {
      "application/javascript": [
       "\n",
       "            setTimeout(function() {\n",
       "                var nbb_cell_id = 208;\n",
       "                var nbb_unformatted_code = \"#create class for measurement table\\n\\nclass Measurement(Base):\\n    __tablename__ = \\\"measurement\\\"\\n    \\n    id = Column(Integer, primary_key=True)\\n    station = Column(String)\\n    date = Column(Date)\\n    prcp = Column(Float)\\n    tobs = Column(Float)\";\n",
       "                var nbb_formatted_code = \"# create class for measurement table\\n\\n\\nclass Measurement(Base):\\n    __tablename__ = \\\"measurement\\\"\\n\\n    id = Column(Integer, primary_key=True)\\n    station = Column(String)\\n    date = Column(Date)\\n    prcp = Column(Float)\\n    tobs = Column(Float)\";\n",
       "                var nbb_cells = Jupyter.notebook.get_cells();\n",
       "                for (var i = 0; i < nbb_cells.length; ++i) {\n",
       "                    if (nbb_cells[i].input_prompt_number == nbb_cell_id) {\n",
       "                        if (nbb_cells[i].get_text() == nbb_unformatted_code) {\n",
       "                             nbb_cells[i].set_text(nbb_formatted_code);\n",
       "                        }\n",
       "                        break;\n",
       "                    }\n",
       "                }\n",
       "            }, 500);\n",
       "            "
      ],
      "text/plain": [
       "<IPython.core.display.Javascript object>"
      ]
     },
     "metadata": {},
     "output_type": "display_data"
    },
    {
     "data": {
      "application/javascript": [
       "\n",
       "            setTimeout(function() {\n",
       "                var nbb_cell_id = 208;\n",
       "                var nbb_unformatted_code = \"#create class for measurement table\\n\\nclass Measurement(Base):\\n    __tablename__ = \\\"measurement\\\"\\n    \\n    id = Column(Integer, primary_key=True)\\n    station = Column(String)\\n    date = Column(Date)\\n    prcp = Column(Float)\\n    tobs = Column(Float)\";\n",
       "                var nbb_formatted_code = \"# create class for measurement table\\n\\n\\nclass Measurement(Base):\\n    __tablename__ = \\\"measurement\\\"\\n\\n    id = Column(Integer, primary_key=True)\\n    station = Column(String)\\n    date = Column(Date)\\n    prcp = Column(Float)\\n    tobs = Column(Float)\";\n",
       "                var nbb_cells = Jupyter.notebook.get_cells();\n",
       "                for (var i = 0; i < nbb_cells.length; ++i) {\n",
       "                    if (nbb_cells[i].input_prompt_number == nbb_cell_id) {\n",
       "                        if (nbb_cells[i].get_text() == nbb_unformatted_code) {\n",
       "                             nbb_cells[i].set_text(nbb_formatted_code);\n",
       "                        }\n",
       "                        break;\n",
       "                    }\n",
       "                }\n",
       "            }, 500);\n",
       "            "
      ],
      "text/plain": [
       "<IPython.core.display.Javascript object>"
      ]
     },
     "metadata": {},
     "output_type": "display_data"
    },
    {
     "data": {
      "application/javascript": [
       "\n",
       "            setTimeout(function() {\n",
       "                var nbb_cell_id = 208;\n",
       "                var nbb_unformatted_code = \"#create class for measurement table\\n\\nclass Measurement(Base):\\n    __tablename__ = \\\"measurement\\\"\\n    \\n    id = Column(Integer, primary_key=True)\\n    station = Column(String)\\n    date = Column(Date)\\n    prcp = Column(Float)\\n    tobs = Column(Float)\";\n",
       "                var nbb_formatted_code = \"# create class for measurement table\\n\\n\\nclass Measurement(Base):\\n    __tablename__ = \\\"measurement\\\"\\n\\n    id = Column(Integer, primary_key=True)\\n    station = Column(String)\\n    date = Column(Date)\\n    prcp = Column(Float)\\n    tobs = Column(Float)\";\n",
       "                var nbb_cells = Jupyter.notebook.get_cells();\n",
       "                for (var i = 0; i < nbb_cells.length; ++i) {\n",
       "                    if (nbb_cells[i].input_prompt_number == nbb_cell_id) {\n",
       "                        if (nbb_cells[i].get_text() == nbb_unformatted_code) {\n",
       "                             nbb_cells[i].set_text(nbb_formatted_code);\n",
       "                        }\n",
       "                        break;\n",
       "                    }\n",
       "                }\n",
       "            }, 500);\n",
       "            "
      ],
      "text/plain": [
       "<IPython.core.display.Javascript object>"
      ]
     },
     "metadata": {},
     "output_type": "display_data"
    },
    {
     "data": {
      "application/javascript": [
       "\n",
       "            setTimeout(function() {\n",
       "                var nbb_cell_id = 208;\n",
       "                var nbb_unformatted_code = \"#create class for measurement table\\n\\nclass Measurement(Base):\\n    __tablename__ = \\\"measurement\\\"\\n    \\n    id = Column(Integer, primary_key=True)\\n    station = Column(String)\\n    date = Column(Date)\\n    prcp = Column(Float)\\n    tobs = Column(Float)\";\n",
       "                var nbb_formatted_code = \"# create class for measurement table\\n\\n\\nclass Measurement(Base):\\n    __tablename__ = \\\"measurement\\\"\\n\\n    id = Column(Integer, primary_key=True)\\n    station = Column(String)\\n    date = Column(Date)\\n    prcp = Column(Float)\\n    tobs = Column(Float)\";\n",
       "                var nbb_cells = Jupyter.notebook.get_cells();\n",
       "                for (var i = 0; i < nbb_cells.length; ++i) {\n",
       "                    if (nbb_cells[i].input_prompt_number == nbb_cell_id) {\n",
       "                        if (nbb_cells[i].get_text() == nbb_unformatted_code) {\n",
       "                             nbb_cells[i].set_text(nbb_formatted_code);\n",
       "                        }\n",
       "                        break;\n",
       "                    }\n",
       "                }\n",
       "            }, 500);\n",
       "            "
      ],
      "text/plain": [
       "<IPython.core.display.Javascript object>"
      ]
     },
     "metadata": {},
     "output_type": "display_data"
    },
    {
     "data": {
      "application/javascript": [
       "\n",
       "            setTimeout(function() {\n",
       "                var nbb_cell_id = 208;\n",
       "                var nbb_unformatted_code = \"#create class for measurement table\\n\\nclass Measurement(Base):\\n    __tablename__ = \\\"measurement\\\"\\n    \\n    id = Column(Integer, primary_key=True)\\n    station = Column(String)\\n    date = Column(Date)\\n    prcp = Column(Float)\\n    tobs = Column(Float)\";\n",
       "                var nbb_formatted_code = \"# create class for measurement table\\n\\n\\nclass Measurement(Base):\\n    __tablename__ = \\\"measurement\\\"\\n\\n    id = Column(Integer, primary_key=True)\\n    station = Column(String)\\n    date = Column(Date)\\n    prcp = Column(Float)\\n    tobs = Column(Float)\";\n",
       "                var nbb_cells = Jupyter.notebook.get_cells();\n",
       "                for (var i = 0; i < nbb_cells.length; ++i) {\n",
       "                    if (nbb_cells[i].input_prompt_number == nbb_cell_id) {\n",
       "                        if (nbb_cells[i].get_text() == nbb_unformatted_code) {\n",
       "                             nbb_cells[i].set_text(nbb_formatted_code);\n",
       "                        }\n",
       "                        break;\n",
       "                    }\n",
       "                }\n",
       "            }, 500);\n",
       "            "
      ],
      "text/plain": [
       "<IPython.core.display.Javascript object>"
      ]
     },
     "metadata": {},
     "output_type": "display_data"
    },
    {
     "data": {
      "application/javascript": [
       "\n",
       "            setTimeout(function() {\n",
       "                var nbb_cell_id = 208;\n",
       "                var nbb_unformatted_code = \"#create class for measurement table\\n\\nclass Measurement(Base):\\n    __tablename__ = \\\"measurement\\\"\\n    \\n    id = Column(Integer, primary_key=True)\\n    station = Column(String)\\n    date = Column(Date)\\n    prcp = Column(Float)\\n    tobs = Column(Float)\";\n",
       "                var nbb_formatted_code = \"# create class for measurement table\\n\\n\\nclass Measurement(Base):\\n    __tablename__ = \\\"measurement\\\"\\n\\n    id = Column(Integer, primary_key=True)\\n    station = Column(String)\\n    date = Column(Date)\\n    prcp = Column(Float)\\n    tobs = Column(Float)\";\n",
       "                var nbb_cells = Jupyter.notebook.get_cells();\n",
       "                for (var i = 0; i < nbb_cells.length; ++i) {\n",
       "                    if (nbb_cells[i].input_prompt_number == nbb_cell_id) {\n",
       "                        if (nbb_cells[i].get_text() == nbb_unformatted_code) {\n",
       "                             nbb_cells[i].set_text(nbb_formatted_code);\n",
       "                        }\n",
       "                        break;\n",
       "                    }\n",
       "                }\n",
       "            }, 500);\n",
       "            "
      ],
      "text/plain": [
       "<IPython.core.display.Javascript object>"
      ]
     },
     "metadata": {},
     "output_type": "display_data"
    },
    {
     "data": {
      "application/javascript": [
       "\n",
       "            setTimeout(function() {\n",
       "                var nbb_cell_id = 208;\n",
       "                var nbb_unformatted_code = \"#create class for measurement table\\n\\nclass Measurement(Base):\\n    __tablename__ = \\\"measurement\\\"\\n    \\n    id = Column(Integer, primary_key=True)\\n    station = Column(String)\\n    date = Column(Date)\\n    prcp = Column(Float)\\n    tobs = Column(Float)\";\n",
       "                var nbb_formatted_code = \"# create class for measurement table\\n\\n\\nclass Measurement(Base):\\n    __tablename__ = \\\"measurement\\\"\\n\\n    id = Column(Integer, primary_key=True)\\n    station = Column(String)\\n    date = Column(Date)\\n    prcp = Column(Float)\\n    tobs = Column(Float)\";\n",
       "                var nbb_cells = Jupyter.notebook.get_cells();\n",
       "                for (var i = 0; i < nbb_cells.length; ++i) {\n",
       "                    if (nbb_cells[i].input_prompt_number == nbb_cell_id) {\n",
       "                        if (nbb_cells[i].get_text() == nbb_unformatted_code) {\n",
       "                             nbb_cells[i].set_text(nbb_formatted_code);\n",
       "                        }\n",
       "                        break;\n",
       "                    }\n",
       "                }\n",
       "            }, 500);\n",
       "            "
      ],
      "text/plain": [
       "<IPython.core.display.Javascript object>"
      ]
     },
     "metadata": {},
     "output_type": "display_data"
    },
    {
     "data": {
      "application/javascript": [
       "\n",
       "            setTimeout(function() {\n",
       "                var nbb_cell_id = 208;\n",
       "                var nbb_unformatted_code = \"#create class for measurement table\\n\\nclass Measurement(Base):\\n    __tablename__ = \\\"measurement\\\"\\n    \\n    id = Column(Integer, primary_key=True)\\n    station = Column(String)\\n    date = Column(Date)\\n    prcp = Column(Float)\\n    tobs = Column(Float)\";\n",
       "                var nbb_formatted_code = \"# create class for measurement table\\n\\n\\nclass Measurement(Base):\\n    __tablename__ = \\\"measurement\\\"\\n\\n    id = Column(Integer, primary_key=True)\\n    station = Column(String)\\n    date = Column(Date)\\n    prcp = Column(Float)\\n    tobs = Column(Float)\";\n",
       "                var nbb_cells = Jupyter.notebook.get_cells();\n",
       "                for (var i = 0; i < nbb_cells.length; ++i) {\n",
       "                    if (nbb_cells[i].input_prompt_number == nbb_cell_id) {\n",
       "                        if (nbb_cells[i].get_text() == nbb_unformatted_code) {\n",
       "                             nbb_cells[i].set_text(nbb_formatted_code);\n",
       "                        }\n",
       "                        break;\n",
       "                    }\n",
       "                }\n",
       "            }, 500);\n",
       "            "
      ],
      "text/plain": [
       "<IPython.core.display.Javascript object>"
      ]
     },
     "metadata": {},
     "output_type": "display_data"
    }
   ],
   "source": [
    "#create class for measurement table\n",
    "\n",
    "class Measurement(Base):\n",
    "    __tablename__ = \"measurement\"\n",
    "    \n",
    "    id = Column(Integer, primary_key=True)\n",
    "    station = Column(String)\n",
    "    date = Column(Date)\n",
    "    prcp = Column(Float)\n",
    "    tobs = Column(Float)"
   ]
  },
  {
   "cell_type": "code",
   "execution_count": 209,
   "metadata": {},
   "outputs": [
    {
     "data": {
      "application/javascript": [
       "\n",
       "            setTimeout(function() {\n",
       "                var nbb_cell_id = 209;\n",
       "                var nbb_unformatted_code = \"#create class for station table\\n\\nclass Station(Base):\\n    __tablename__ = \\\"station\\\"\\n    \\n    id = Column(Integer, primary_key=True)\\n    station = Column(String)\\n    name = Column(String)\\n    latitude = Column(Float)\\n    longitude = Column(Float)\\n    elevation =  Column(Float)\";\n",
       "                var nbb_formatted_code = \"# create class for station table\\n\\n\\nclass Station(Base):\\n    __tablename__ = \\\"station\\\"\\n\\n    id = Column(Integer, primary_key=True)\\n    station = Column(String)\\n    name = Column(String)\\n    latitude = Column(Float)\\n    longitude = Column(Float)\\n    elevation = Column(Float)\";\n",
       "                var nbb_cells = Jupyter.notebook.get_cells();\n",
       "                for (var i = 0; i < nbb_cells.length; ++i) {\n",
       "                    if (nbb_cells[i].input_prompt_number == nbb_cell_id) {\n",
       "                        if (nbb_cells[i].get_text() == nbb_unformatted_code) {\n",
       "                             nbb_cells[i].set_text(nbb_formatted_code);\n",
       "                        }\n",
       "                        break;\n",
       "                    }\n",
       "                }\n",
       "            }, 500);\n",
       "            "
      ],
      "text/plain": [
       "<IPython.core.display.Javascript object>"
      ]
     },
     "metadata": {},
     "output_type": "display_data"
    },
    {
     "data": {
      "application/javascript": [
       "\n",
       "            setTimeout(function() {\n",
       "                var nbb_cell_id = 209;\n",
       "                var nbb_unformatted_code = \"#create class for station table\\n\\nclass Station(Base):\\n    __tablename__ = \\\"station\\\"\\n    \\n    id = Column(Integer, primary_key=True)\\n    station = Column(String)\\n    name = Column(String)\\n    latitude = Column(Float)\\n    longitude = Column(Float)\\n    elevation =  Column(Float)\";\n",
       "                var nbb_formatted_code = \"# create class for station table\\n\\n\\nclass Station(Base):\\n    __tablename__ = \\\"station\\\"\\n\\n    id = Column(Integer, primary_key=True)\\n    station = Column(String)\\n    name = Column(String)\\n    latitude = Column(Float)\\n    longitude = Column(Float)\\n    elevation = Column(Float)\";\n",
       "                var nbb_cells = Jupyter.notebook.get_cells();\n",
       "                for (var i = 0; i < nbb_cells.length; ++i) {\n",
       "                    if (nbb_cells[i].input_prompt_number == nbb_cell_id) {\n",
       "                        if (nbb_cells[i].get_text() == nbb_unformatted_code) {\n",
       "                             nbb_cells[i].set_text(nbb_formatted_code);\n",
       "                        }\n",
       "                        break;\n",
       "                    }\n",
       "                }\n",
       "            }, 500);\n",
       "            "
      ],
      "text/plain": [
       "<IPython.core.display.Javascript object>"
      ]
     },
     "metadata": {},
     "output_type": "display_data"
    },
    {
     "data": {
      "application/javascript": [
       "\n",
       "            setTimeout(function() {\n",
       "                var nbb_cell_id = 209;\n",
       "                var nbb_unformatted_code = \"#create class for station table\\n\\nclass Station(Base):\\n    __tablename__ = \\\"station\\\"\\n    \\n    id = Column(Integer, primary_key=True)\\n    station = Column(String)\\n    name = Column(String)\\n    latitude = Column(Float)\\n    longitude = Column(Float)\\n    elevation =  Column(Float)\";\n",
       "                var nbb_formatted_code = \"# create class for station table\\n\\n\\nclass Station(Base):\\n    __tablename__ = \\\"station\\\"\\n\\n    id = Column(Integer, primary_key=True)\\n    station = Column(String)\\n    name = Column(String)\\n    latitude = Column(Float)\\n    longitude = Column(Float)\\n    elevation = Column(Float)\";\n",
       "                var nbb_cells = Jupyter.notebook.get_cells();\n",
       "                for (var i = 0; i < nbb_cells.length; ++i) {\n",
       "                    if (nbb_cells[i].input_prompt_number == nbb_cell_id) {\n",
       "                        if (nbb_cells[i].get_text() == nbb_unformatted_code) {\n",
       "                             nbb_cells[i].set_text(nbb_formatted_code);\n",
       "                        }\n",
       "                        break;\n",
       "                    }\n",
       "                }\n",
       "            }, 500);\n",
       "            "
      ],
      "text/plain": [
       "<IPython.core.display.Javascript object>"
      ]
     },
     "metadata": {},
     "output_type": "display_data"
    },
    {
     "data": {
      "application/javascript": [
       "\n",
       "            setTimeout(function() {\n",
       "                var nbb_cell_id = 209;\n",
       "                var nbb_unformatted_code = \"#create class for station table\\n\\nclass Station(Base):\\n    __tablename__ = \\\"station\\\"\\n    \\n    id = Column(Integer, primary_key=True)\\n    station = Column(String)\\n    name = Column(String)\\n    latitude = Column(Float)\\n    longitude = Column(Float)\\n    elevation =  Column(Float)\";\n",
       "                var nbb_formatted_code = \"# create class for station table\\n\\n\\nclass Station(Base):\\n    __tablename__ = \\\"station\\\"\\n\\n    id = Column(Integer, primary_key=True)\\n    station = Column(String)\\n    name = Column(String)\\n    latitude = Column(Float)\\n    longitude = Column(Float)\\n    elevation = Column(Float)\";\n",
       "                var nbb_cells = Jupyter.notebook.get_cells();\n",
       "                for (var i = 0; i < nbb_cells.length; ++i) {\n",
       "                    if (nbb_cells[i].input_prompt_number == nbb_cell_id) {\n",
       "                        if (nbb_cells[i].get_text() == nbb_unformatted_code) {\n",
       "                             nbb_cells[i].set_text(nbb_formatted_code);\n",
       "                        }\n",
       "                        break;\n",
       "                    }\n",
       "                }\n",
       "            }, 500);\n",
       "            "
      ],
      "text/plain": [
       "<IPython.core.display.Javascript object>"
      ]
     },
     "metadata": {},
     "output_type": "display_data"
    },
    {
     "data": {
      "application/javascript": [
       "\n",
       "            setTimeout(function() {\n",
       "                var nbb_cell_id = 209;\n",
       "                var nbb_unformatted_code = \"#create class for station table\\n\\nclass Station(Base):\\n    __tablename__ = \\\"station\\\"\\n    \\n    id = Column(Integer, primary_key=True)\\n    station = Column(String)\\n    name = Column(String)\\n    latitude = Column(Float)\\n    longitude = Column(Float)\\n    elevation =  Column(Float)\";\n",
       "                var nbb_formatted_code = \"# create class for station table\\n\\n\\nclass Station(Base):\\n    __tablename__ = \\\"station\\\"\\n\\n    id = Column(Integer, primary_key=True)\\n    station = Column(String)\\n    name = Column(String)\\n    latitude = Column(Float)\\n    longitude = Column(Float)\\n    elevation = Column(Float)\";\n",
       "                var nbb_cells = Jupyter.notebook.get_cells();\n",
       "                for (var i = 0; i < nbb_cells.length; ++i) {\n",
       "                    if (nbb_cells[i].input_prompt_number == nbb_cell_id) {\n",
       "                        if (nbb_cells[i].get_text() == nbb_unformatted_code) {\n",
       "                             nbb_cells[i].set_text(nbb_formatted_code);\n",
       "                        }\n",
       "                        break;\n",
       "                    }\n",
       "                }\n",
       "            }, 500);\n",
       "            "
      ],
      "text/plain": [
       "<IPython.core.display.Javascript object>"
      ]
     },
     "metadata": {},
     "output_type": "display_data"
    },
    {
     "data": {
      "application/javascript": [
       "\n",
       "            setTimeout(function() {\n",
       "                var nbb_cell_id = 209;\n",
       "                var nbb_unformatted_code = \"#create class for station table\\n\\nclass Station(Base):\\n    __tablename__ = \\\"station\\\"\\n    \\n    id = Column(Integer, primary_key=True)\\n    station = Column(String)\\n    name = Column(String)\\n    latitude = Column(Float)\\n    longitude = Column(Float)\\n    elevation =  Column(Float)\";\n",
       "                var nbb_formatted_code = \"# create class for station table\\n\\n\\nclass Station(Base):\\n    __tablename__ = \\\"station\\\"\\n\\n    id = Column(Integer, primary_key=True)\\n    station = Column(String)\\n    name = Column(String)\\n    latitude = Column(Float)\\n    longitude = Column(Float)\\n    elevation = Column(Float)\";\n",
       "                var nbb_cells = Jupyter.notebook.get_cells();\n",
       "                for (var i = 0; i < nbb_cells.length; ++i) {\n",
       "                    if (nbb_cells[i].input_prompt_number == nbb_cell_id) {\n",
       "                        if (nbb_cells[i].get_text() == nbb_unformatted_code) {\n",
       "                             nbb_cells[i].set_text(nbb_formatted_code);\n",
       "                        }\n",
       "                        break;\n",
       "                    }\n",
       "                }\n",
       "            }, 500);\n",
       "            "
      ],
      "text/plain": [
       "<IPython.core.display.Javascript object>"
      ]
     },
     "metadata": {},
     "output_type": "display_data"
    },
    {
     "data": {
      "application/javascript": [
       "\n",
       "            setTimeout(function() {\n",
       "                var nbb_cell_id = 209;\n",
       "                var nbb_unformatted_code = \"#create class for station table\\n\\nclass Station(Base):\\n    __tablename__ = \\\"station\\\"\\n    \\n    id = Column(Integer, primary_key=True)\\n    station = Column(String)\\n    name = Column(String)\\n    latitude = Column(Float)\\n    longitude = Column(Float)\\n    elevation =  Column(Float)\";\n",
       "                var nbb_formatted_code = \"# create class for station table\\n\\n\\nclass Station(Base):\\n    __tablename__ = \\\"station\\\"\\n\\n    id = Column(Integer, primary_key=True)\\n    station = Column(String)\\n    name = Column(String)\\n    latitude = Column(Float)\\n    longitude = Column(Float)\\n    elevation = Column(Float)\";\n",
       "                var nbb_cells = Jupyter.notebook.get_cells();\n",
       "                for (var i = 0; i < nbb_cells.length; ++i) {\n",
       "                    if (nbb_cells[i].input_prompt_number == nbb_cell_id) {\n",
       "                        if (nbb_cells[i].get_text() == nbb_unformatted_code) {\n",
       "                             nbb_cells[i].set_text(nbb_formatted_code);\n",
       "                        }\n",
       "                        break;\n",
       "                    }\n",
       "                }\n",
       "            }, 500);\n",
       "            "
      ],
      "text/plain": [
       "<IPython.core.display.Javascript object>"
      ]
     },
     "metadata": {},
     "output_type": "display_data"
    },
    {
     "data": {
      "application/javascript": [
       "\n",
       "            setTimeout(function() {\n",
       "                var nbb_cell_id = 209;\n",
       "                var nbb_unformatted_code = \"#create class for station table\\n\\nclass Station(Base):\\n    __tablename__ = \\\"station\\\"\\n    \\n    id = Column(Integer, primary_key=True)\\n    station = Column(String)\\n    name = Column(String)\\n    latitude = Column(Float)\\n    longitude = Column(Float)\\n    elevation =  Column(Float)\";\n",
       "                var nbb_formatted_code = \"# create class for station table\\n\\n\\nclass Station(Base):\\n    __tablename__ = \\\"station\\\"\\n\\n    id = Column(Integer, primary_key=True)\\n    station = Column(String)\\n    name = Column(String)\\n    latitude = Column(Float)\\n    longitude = Column(Float)\\n    elevation = Column(Float)\";\n",
       "                var nbb_cells = Jupyter.notebook.get_cells();\n",
       "                for (var i = 0; i < nbb_cells.length; ++i) {\n",
       "                    if (nbb_cells[i].input_prompt_number == nbb_cell_id) {\n",
       "                        if (nbb_cells[i].get_text() == nbb_unformatted_code) {\n",
       "                             nbb_cells[i].set_text(nbb_formatted_code);\n",
       "                        }\n",
       "                        break;\n",
       "                    }\n",
       "                }\n",
       "            }, 500);\n",
       "            "
      ],
      "text/plain": [
       "<IPython.core.display.Javascript object>"
      ]
     },
     "metadata": {},
     "output_type": "display_data"
    }
   ],
   "source": [
    "#create class for station table\n",
    "\n",
    "class Station(Base):\n",
    "    __tablename__ = \"station\"\n",
    "    \n",
    "    id = Column(Integer, primary_key=True)\n",
    "    station = Column(String)\n",
    "    name = Column(String)\n",
    "    latitude = Column(Float)\n",
    "    longitude = Column(Float)\n",
    "    elevation =  Column(Float)"
   ]
  },
  {
   "cell_type": "code",
   "execution_count": 210,
   "metadata": {},
   "outputs": [
    {
     "data": {
      "application/javascript": [
       "\n",
       "            setTimeout(function() {\n",
       "                var nbb_cell_id = 210;\n",
       "                var nbb_unformatted_code = \"# create engine and session to link to the database\\n\\nengine = create_engine(\\\"sqlite:///Resources/hawaii.sqlite\\\")\\nconn = engine.connect()\\nsession = Session(bind=engine) # If something breaks, check here <-\";\n",
       "                var nbb_formatted_code = \"# create engine and session to link to the database\\n\\nengine = create_engine(\\\"sqlite:///Resources/hawaii.sqlite\\\")\\nconn = engine.connect()\\nsession = Session(bind=engine)  # If something breaks, check here <-\";\n",
       "                var nbb_cells = Jupyter.notebook.get_cells();\n",
       "                for (var i = 0; i < nbb_cells.length; ++i) {\n",
       "                    if (nbb_cells[i].input_prompt_number == nbb_cell_id) {\n",
       "                        if (nbb_cells[i].get_text() == nbb_unformatted_code) {\n",
       "                             nbb_cells[i].set_text(nbb_formatted_code);\n",
       "                        }\n",
       "                        break;\n",
       "                    }\n",
       "                }\n",
       "            }, 500);\n",
       "            "
      ],
      "text/plain": [
       "<IPython.core.display.Javascript object>"
      ]
     },
     "metadata": {},
     "output_type": "display_data"
    },
    {
     "data": {
      "application/javascript": [
       "\n",
       "            setTimeout(function() {\n",
       "                var nbb_cell_id = 210;\n",
       "                var nbb_unformatted_code = \"# create engine and session to link to the database\\n\\nengine = create_engine(\\\"sqlite:///Resources/hawaii.sqlite\\\")\\nconn = engine.connect()\\nsession = Session(bind=engine) # If something breaks, check here <-\";\n",
       "                var nbb_formatted_code = \"# create engine and session to link to the database\\n\\nengine = create_engine(\\\"sqlite:///Resources/hawaii.sqlite\\\")\\nconn = engine.connect()\\nsession = Session(bind=engine)  # If something breaks, check here <-\";\n",
       "                var nbb_cells = Jupyter.notebook.get_cells();\n",
       "                for (var i = 0; i < nbb_cells.length; ++i) {\n",
       "                    if (nbb_cells[i].input_prompt_number == nbb_cell_id) {\n",
       "                        if (nbb_cells[i].get_text() == nbb_unformatted_code) {\n",
       "                             nbb_cells[i].set_text(nbb_formatted_code);\n",
       "                        }\n",
       "                        break;\n",
       "                    }\n",
       "                }\n",
       "            }, 500);\n",
       "            "
      ],
      "text/plain": [
       "<IPython.core.display.Javascript object>"
      ]
     },
     "metadata": {},
     "output_type": "display_data"
    },
    {
     "data": {
      "application/javascript": [
       "\n",
       "            setTimeout(function() {\n",
       "                var nbb_cell_id = 210;\n",
       "                var nbb_unformatted_code = \"# create engine and session to link to the database\\n\\nengine = create_engine(\\\"sqlite:///Resources/hawaii.sqlite\\\")\\nconn = engine.connect()\\nsession = Session(bind=engine) # If something breaks, check here <-\";\n",
       "                var nbb_formatted_code = \"# create engine and session to link to the database\\n\\nengine = create_engine(\\\"sqlite:///Resources/hawaii.sqlite\\\")\\nconn = engine.connect()\\nsession = Session(bind=engine)  # If something breaks, check here <-\";\n",
       "                var nbb_cells = Jupyter.notebook.get_cells();\n",
       "                for (var i = 0; i < nbb_cells.length; ++i) {\n",
       "                    if (nbb_cells[i].input_prompt_number == nbb_cell_id) {\n",
       "                        if (nbb_cells[i].get_text() == nbb_unformatted_code) {\n",
       "                             nbb_cells[i].set_text(nbb_formatted_code);\n",
       "                        }\n",
       "                        break;\n",
       "                    }\n",
       "                }\n",
       "            }, 500);\n",
       "            "
      ],
      "text/plain": [
       "<IPython.core.display.Javascript object>"
      ]
     },
     "metadata": {},
     "output_type": "display_data"
    },
    {
     "data": {
      "application/javascript": [
       "\n",
       "            setTimeout(function() {\n",
       "                var nbb_cell_id = 210;\n",
       "                var nbb_unformatted_code = \"# create engine and session to link to the database\\n\\nengine = create_engine(\\\"sqlite:///Resources/hawaii.sqlite\\\")\\nconn = engine.connect()\\nsession = Session(bind=engine) # If something breaks, check here <-\";\n",
       "                var nbb_formatted_code = \"# create engine and session to link to the database\\n\\nengine = create_engine(\\\"sqlite:///Resources/hawaii.sqlite\\\")\\nconn = engine.connect()\\nsession = Session(bind=engine)  # If something breaks, check here <-\";\n",
       "                var nbb_cells = Jupyter.notebook.get_cells();\n",
       "                for (var i = 0; i < nbb_cells.length; ++i) {\n",
       "                    if (nbb_cells[i].input_prompt_number == nbb_cell_id) {\n",
       "                        if (nbb_cells[i].get_text() == nbb_unformatted_code) {\n",
       "                             nbb_cells[i].set_text(nbb_formatted_code);\n",
       "                        }\n",
       "                        break;\n",
       "                    }\n",
       "                }\n",
       "            }, 500);\n",
       "            "
      ],
      "text/plain": [
       "<IPython.core.display.Javascript object>"
      ]
     },
     "metadata": {},
     "output_type": "display_data"
    },
    {
     "data": {
      "application/javascript": [
       "\n",
       "            setTimeout(function() {\n",
       "                var nbb_cell_id = 210;\n",
       "                var nbb_unformatted_code = \"# create engine and session to link to the database\\n\\nengine = create_engine(\\\"sqlite:///Resources/hawaii.sqlite\\\")\\nconn = engine.connect()\\nsession = Session(bind=engine) # If something breaks, check here <-\";\n",
       "                var nbb_formatted_code = \"# create engine and session to link to the database\\n\\nengine = create_engine(\\\"sqlite:///Resources/hawaii.sqlite\\\")\\nconn = engine.connect()\\nsession = Session(bind=engine)  # If something breaks, check here <-\";\n",
       "                var nbb_cells = Jupyter.notebook.get_cells();\n",
       "                for (var i = 0; i < nbb_cells.length; ++i) {\n",
       "                    if (nbb_cells[i].input_prompt_number == nbb_cell_id) {\n",
       "                        if (nbb_cells[i].get_text() == nbb_unformatted_code) {\n",
       "                             nbb_cells[i].set_text(nbb_formatted_code);\n",
       "                        }\n",
       "                        break;\n",
       "                    }\n",
       "                }\n",
       "            }, 500);\n",
       "            "
      ],
      "text/plain": [
       "<IPython.core.display.Javascript object>"
      ]
     },
     "metadata": {},
     "output_type": "display_data"
    },
    {
     "data": {
      "application/javascript": [
       "\n",
       "            setTimeout(function() {\n",
       "                var nbb_cell_id = 210;\n",
       "                var nbb_unformatted_code = \"# create engine and session to link to the database\\n\\nengine = create_engine(\\\"sqlite:///Resources/hawaii.sqlite\\\")\\nconn = engine.connect()\\nsession = Session(bind=engine) # If something breaks, check here <-\";\n",
       "                var nbb_formatted_code = \"# create engine and session to link to the database\\n\\nengine = create_engine(\\\"sqlite:///Resources/hawaii.sqlite\\\")\\nconn = engine.connect()\\nsession = Session(bind=engine)  # If something breaks, check here <-\";\n",
       "                var nbb_cells = Jupyter.notebook.get_cells();\n",
       "                for (var i = 0; i < nbb_cells.length; ++i) {\n",
       "                    if (nbb_cells[i].input_prompt_number == nbb_cell_id) {\n",
       "                        if (nbb_cells[i].get_text() == nbb_unformatted_code) {\n",
       "                             nbb_cells[i].set_text(nbb_formatted_code);\n",
       "                        }\n",
       "                        break;\n",
       "                    }\n",
       "                }\n",
       "            }, 500);\n",
       "            "
      ],
      "text/plain": [
       "<IPython.core.display.Javascript object>"
      ]
     },
     "metadata": {},
     "output_type": "display_data"
    },
    {
     "data": {
      "application/javascript": [
       "\n",
       "            setTimeout(function() {\n",
       "                var nbb_cell_id = 210;\n",
       "                var nbb_unformatted_code = \"# create engine and session to link to the database\\n\\nengine = create_engine(\\\"sqlite:///Resources/hawaii.sqlite\\\")\\nconn = engine.connect()\\nsession = Session(bind=engine) # If something breaks, check here <-\";\n",
       "                var nbb_formatted_code = \"# create engine and session to link to the database\\n\\nengine = create_engine(\\\"sqlite:///Resources/hawaii.sqlite\\\")\\nconn = engine.connect()\\nsession = Session(bind=engine)  # If something breaks, check here <-\";\n",
       "                var nbb_cells = Jupyter.notebook.get_cells();\n",
       "                for (var i = 0; i < nbb_cells.length; ++i) {\n",
       "                    if (nbb_cells[i].input_prompt_number == nbb_cell_id) {\n",
       "                        if (nbb_cells[i].get_text() == nbb_unformatted_code) {\n",
       "                             nbb_cells[i].set_text(nbb_formatted_code);\n",
       "                        }\n",
       "                        break;\n",
       "                    }\n",
       "                }\n",
       "            }, 500);\n",
       "            "
      ],
      "text/plain": [
       "<IPython.core.display.Javascript object>"
      ]
     },
     "metadata": {},
     "output_type": "display_data"
    },
    {
     "data": {
      "application/javascript": [
       "\n",
       "            setTimeout(function() {\n",
       "                var nbb_cell_id = 210;\n",
       "                var nbb_unformatted_code = \"# create engine and session to link to the database\\n\\nengine = create_engine(\\\"sqlite:///Resources/hawaii.sqlite\\\")\\nconn = engine.connect()\\nsession = Session(bind=engine) # If something breaks, check here <-\";\n",
       "                var nbb_formatted_code = \"# create engine and session to link to the database\\n\\nengine = create_engine(\\\"sqlite:///Resources/hawaii.sqlite\\\")\\nconn = engine.connect()\\nsession = Session(bind=engine)  # If something breaks, check here <-\";\n",
       "                var nbb_cells = Jupyter.notebook.get_cells();\n",
       "                for (var i = 0; i < nbb_cells.length; ++i) {\n",
       "                    if (nbb_cells[i].input_prompt_number == nbb_cell_id) {\n",
       "                        if (nbb_cells[i].get_text() == nbb_unformatted_code) {\n",
       "                             nbb_cells[i].set_text(nbb_formatted_code);\n",
       "                        }\n",
       "                        break;\n",
       "                    }\n",
       "                }\n",
       "            }, 500);\n",
       "            "
      ],
      "text/plain": [
       "<IPython.core.display.Javascript object>"
      ]
     },
     "metadata": {},
     "output_type": "display_data"
    }
   ],
   "source": [
    "# create engine and session to link to the database\n",
    "\n",
    "engine = create_engine(\"sqlite:///Resources/hawaii.sqlite\")\n",
    "conn = engine.connect()\n",
    "session = Session(bind=engine) # If something breaks, check here <-"
   ]
  },
  {
   "cell_type": "markdown",
   "metadata": {},
   "source": [
    "### Temperature Analysis I"
   ]
  },
  {
   "cell_type": "code",
   "execution_count": 211,
   "metadata": {},
   "outputs": [
    {
     "data": {
      "application/javascript": [
       "\n",
       "            setTimeout(function() {\n",
       "                var nbb_cell_id = 211;\n",
       "                var nbb_unformatted_code = \"# get all temperatures during June at all stations in all years\\n\\njune_temps = session.query(Measurement.date, Measurement.tobs)\\\\\\n    .filter(extract(\\\"month\\\", Measurement.date) == \\\"6\\\").all()\";\n",
       "                var nbb_formatted_code = \"# get all temperatures during June at all stations in all years\\n\\njune_temps = (\\n    session.query(Measurement.date, Measurement.tobs)\\n    .filter(extract(\\\"month\\\", Measurement.date) == \\\"6\\\")\\n    .all()\\n)\";\n",
       "                var nbb_cells = Jupyter.notebook.get_cells();\n",
       "                for (var i = 0; i < nbb_cells.length; ++i) {\n",
       "                    if (nbb_cells[i].input_prompt_number == nbb_cell_id) {\n",
       "                        if (nbb_cells[i].get_text() == nbb_unformatted_code) {\n",
       "                             nbb_cells[i].set_text(nbb_formatted_code);\n",
       "                        }\n",
       "                        break;\n",
       "                    }\n",
       "                }\n",
       "            }, 500);\n",
       "            "
      ],
      "text/plain": [
       "<IPython.core.display.Javascript object>"
      ]
     },
     "metadata": {},
     "output_type": "display_data"
    },
    {
     "data": {
      "application/javascript": [
       "\n",
       "            setTimeout(function() {\n",
       "                var nbb_cell_id = 211;\n",
       "                var nbb_unformatted_code = \"# get all temperatures during June at all stations in all years\\n\\njune_temps = session.query(Measurement.date, Measurement.tobs)\\\\\\n    .filter(extract(\\\"month\\\", Measurement.date) == \\\"6\\\").all()\";\n",
       "                var nbb_formatted_code = \"# get all temperatures during June at all stations in all years\\n\\njune_temps = (\\n    session.query(Measurement.date, Measurement.tobs)\\n    .filter(extract(\\\"month\\\", Measurement.date) == \\\"6\\\")\\n    .all()\\n)\";\n",
       "                var nbb_cells = Jupyter.notebook.get_cells();\n",
       "                for (var i = 0; i < nbb_cells.length; ++i) {\n",
       "                    if (nbb_cells[i].input_prompt_number == nbb_cell_id) {\n",
       "                        if (nbb_cells[i].get_text() == nbb_unformatted_code) {\n",
       "                             nbb_cells[i].set_text(nbb_formatted_code);\n",
       "                        }\n",
       "                        break;\n",
       "                    }\n",
       "                }\n",
       "            }, 500);\n",
       "            "
      ],
      "text/plain": [
       "<IPython.core.display.Javascript object>"
      ]
     },
     "metadata": {},
     "output_type": "display_data"
    },
    {
     "data": {
      "application/javascript": [
       "\n",
       "            setTimeout(function() {\n",
       "                var nbb_cell_id = 211;\n",
       "                var nbb_unformatted_code = \"# get all temperatures during June at all stations in all years\\n\\njune_temps = session.query(Measurement.date, Measurement.tobs)\\\\\\n    .filter(extract(\\\"month\\\", Measurement.date) == \\\"6\\\").all()\";\n",
       "                var nbb_formatted_code = \"# get all temperatures during June at all stations in all years\\n\\njune_temps = (\\n    session.query(Measurement.date, Measurement.tobs)\\n    .filter(extract(\\\"month\\\", Measurement.date) == \\\"6\\\")\\n    .all()\\n)\";\n",
       "                var nbb_cells = Jupyter.notebook.get_cells();\n",
       "                for (var i = 0; i < nbb_cells.length; ++i) {\n",
       "                    if (nbb_cells[i].input_prompt_number == nbb_cell_id) {\n",
       "                        if (nbb_cells[i].get_text() == nbb_unformatted_code) {\n",
       "                             nbb_cells[i].set_text(nbb_formatted_code);\n",
       "                        }\n",
       "                        break;\n",
       "                    }\n",
       "                }\n",
       "            }, 500);\n",
       "            "
      ],
      "text/plain": [
       "<IPython.core.display.Javascript object>"
      ]
     },
     "metadata": {},
     "output_type": "display_data"
    },
    {
     "data": {
      "application/javascript": [
       "\n",
       "            setTimeout(function() {\n",
       "                var nbb_cell_id = 211;\n",
       "                var nbb_unformatted_code = \"# get all temperatures during June at all stations in all years\\n\\njune_temps = session.query(Measurement.date, Measurement.tobs)\\\\\\n    .filter(extract(\\\"month\\\", Measurement.date) == \\\"6\\\").all()\";\n",
       "                var nbb_formatted_code = \"# get all temperatures during June at all stations in all years\\n\\njune_temps = (\\n    session.query(Measurement.date, Measurement.tobs)\\n    .filter(extract(\\\"month\\\", Measurement.date) == \\\"6\\\")\\n    .all()\\n)\";\n",
       "                var nbb_cells = Jupyter.notebook.get_cells();\n",
       "                for (var i = 0; i < nbb_cells.length; ++i) {\n",
       "                    if (nbb_cells[i].input_prompt_number == nbb_cell_id) {\n",
       "                        if (nbb_cells[i].get_text() == nbb_unformatted_code) {\n",
       "                             nbb_cells[i].set_text(nbb_formatted_code);\n",
       "                        }\n",
       "                        break;\n",
       "                    }\n",
       "                }\n",
       "            }, 500);\n",
       "            "
      ],
      "text/plain": [
       "<IPython.core.display.Javascript object>"
      ]
     },
     "metadata": {},
     "output_type": "display_data"
    },
    {
     "data": {
      "application/javascript": [
       "\n",
       "            setTimeout(function() {\n",
       "                var nbb_cell_id = 211;\n",
       "                var nbb_unformatted_code = \"# get all temperatures during June at all stations in all years\\n\\njune_temps = session.query(Measurement.date, Measurement.tobs)\\\\\\n    .filter(extract(\\\"month\\\", Measurement.date) == \\\"6\\\").all()\";\n",
       "                var nbb_formatted_code = \"# get all temperatures during June at all stations in all years\\n\\njune_temps = (\\n    session.query(Measurement.date, Measurement.tobs)\\n    .filter(extract(\\\"month\\\", Measurement.date) == \\\"6\\\")\\n    .all()\\n)\";\n",
       "                var nbb_cells = Jupyter.notebook.get_cells();\n",
       "                for (var i = 0; i < nbb_cells.length; ++i) {\n",
       "                    if (nbb_cells[i].input_prompt_number == nbb_cell_id) {\n",
       "                        if (nbb_cells[i].get_text() == nbb_unformatted_code) {\n",
       "                             nbb_cells[i].set_text(nbb_formatted_code);\n",
       "                        }\n",
       "                        break;\n",
       "                    }\n",
       "                }\n",
       "            }, 500);\n",
       "            "
      ],
      "text/plain": [
       "<IPython.core.display.Javascript object>"
      ]
     },
     "metadata": {},
     "output_type": "display_data"
    },
    {
     "data": {
      "application/javascript": [
       "\n",
       "            setTimeout(function() {\n",
       "                var nbb_cell_id = 211;\n",
       "                var nbb_unformatted_code = \"# get all temperatures during June at all stations in all years\\n\\njune_temps = session.query(Measurement.date, Measurement.tobs)\\\\\\n    .filter(extract(\\\"month\\\", Measurement.date) == \\\"6\\\").all()\";\n",
       "                var nbb_formatted_code = \"# get all temperatures during June at all stations in all years\\n\\njune_temps = (\\n    session.query(Measurement.date, Measurement.tobs)\\n    .filter(extract(\\\"month\\\", Measurement.date) == \\\"6\\\")\\n    .all()\\n)\";\n",
       "                var nbb_cells = Jupyter.notebook.get_cells();\n",
       "                for (var i = 0; i < nbb_cells.length; ++i) {\n",
       "                    if (nbb_cells[i].input_prompt_number == nbb_cell_id) {\n",
       "                        if (nbb_cells[i].get_text() == nbb_unformatted_code) {\n",
       "                             nbb_cells[i].set_text(nbb_formatted_code);\n",
       "                        }\n",
       "                        break;\n",
       "                    }\n",
       "                }\n",
       "            }, 500);\n",
       "            "
      ],
      "text/plain": [
       "<IPython.core.display.Javascript object>"
      ]
     },
     "metadata": {},
     "output_type": "display_data"
    },
    {
     "data": {
      "application/javascript": [
       "\n",
       "            setTimeout(function() {\n",
       "                var nbb_cell_id = 211;\n",
       "                var nbb_unformatted_code = \"# get all temperatures during June at all stations in all years\\n\\njune_temps = session.query(Measurement.date, Measurement.tobs)\\\\\\n    .filter(extract(\\\"month\\\", Measurement.date) == \\\"6\\\").all()\";\n",
       "                var nbb_formatted_code = \"# get all temperatures during June at all stations in all years\\n\\njune_temps = (\\n    session.query(Measurement.date, Measurement.tobs)\\n    .filter(extract(\\\"month\\\", Measurement.date) == \\\"6\\\")\\n    .all()\\n)\";\n",
       "                var nbb_cells = Jupyter.notebook.get_cells();\n",
       "                for (var i = 0; i < nbb_cells.length; ++i) {\n",
       "                    if (nbb_cells[i].input_prompt_number == nbb_cell_id) {\n",
       "                        if (nbb_cells[i].get_text() == nbb_unformatted_code) {\n",
       "                             nbb_cells[i].set_text(nbb_formatted_code);\n",
       "                        }\n",
       "                        break;\n",
       "                    }\n",
       "                }\n",
       "            }, 500);\n",
       "            "
      ],
      "text/plain": [
       "<IPython.core.display.Javascript object>"
      ]
     },
     "metadata": {},
     "output_type": "display_data"
    },
    {
     "data": {
      "application/javascript": [
       "\n",
       "            setTimeout(function() {\n",
       "                var nbb_cell_id = 211;\n",
       "                var nbb_unformatted_code = \"# get all temperatures during June at all stations in all years\\n\\njune_temps = session.query(Measurement.date, Measurement.tobs)\\\\\\n    .filter(extract(\\\"month\\\", Measurement.date) == \\\"6\\\").all()\";\n",
       "                var nbb_formatted_code = \"# get all temperatures during June at all stations in all years\\n\\njune_temps = (\\n    session.query(Measurement.date, Measurement.tobs)\\n    .filter(extract(\\\"month\\\", Measurement.date) == \\\"6\\\")\\n    .all()\\n)\";\n",
       "                var nbb_cells = Jupyter.notebook.get_cells();\n",
       "                for (var i = 0; i < nbb_cells.length; ++i) {\n",
       "                    if (nbb_cells[i].input_prompt_number == nbb_cell_id) {\n",
       "                        if (nbb_cells[i].get_text() == nbb_unformatted_code) {\n",
       "                             nbb_cells[i].set_text(nbb_formatted_code);\n",
       "                        }\n",
       "                        break;\n",
       "                    }\n",
       "                }\n",
       "            }, 500);\n",
       "            "
      ],
      "text/plain": [
       "<IPython.core.display.Javascript object>"
      ]
     },
     "metadata": {},
     "output_type": "display_data"
    }
   ],
   "source": [
    "# get all temperatures during June at all stations in all years\n",
    "\n",
    "june_temps = session.query(Measurement.date, Measurement.tobs)\\\n",
    "    .filter(extract(\"month\", Measurement.date) == \"6\").all()\n"
   ]
  },
  {
   "cell_type": "code",
   "execution_count": 212,
   "metadata": {},
   "outputs": [
    {
     "data": {
      "text/html": [
       "<div>\n",
       "<style scoped>\n",
       "    .dataframe tbody tr th:only-of-type {\n",
       "        vertical-align: middle;\n",
       "    }\n",
       "\n",
       "    .dataframe tbody tr th {\n",
       "        vertical-align: top;\n",
       "    }\n",
       "\n",
       "    .dataframe thead th {\n",
       "        text-align: right;\n",
       "    }\n",
       "</style>\n",
       "<table border=\"1\" class=\"dataframe\">\n",
       "  <thead>\n",
       "    <tr style=\"text-align: right;\">\n",
       "      <th></th>\n",
       "      <th>Date</th>\n",
       "      <th>Temperature</th>\n",
       "    </tr>\n",
       "  </thead>\n",
       "  <tbody>\n",
       "    <tr>\n",
       "      <th>0</th>\n",
       "      <td>2010-06-01</td>\n",
       "      <td>78.0</td>\n",
       "    </tr>\n",
       "    <tr>\n",
       "      <th>1</th>\n",
       "      <td>2010-06-02</td>\n",
       "      <td>76.0</td>\n",
       "    </tr>\n",
       "    <tr>\n",
       "      <th>2</th>\n",
       "      <td>2010-06-03</td>\n",
       "      <td>78.0</td>\n",
       "    </tr>\n",
       "    <tr>\n",
       "      <th>3</th>\n",
       "      <td>2010-06-04</td>\n",
       "      <td>76.0</td>\n",
       "    </tr>\n",
       "    <tr>\n",
       "      <th>4</th>\n",
       "      <td>2010-06-05</td>\n",
       "      <td>77.0</td>\n",
       "    </tr>\n",
       "    <tr>\n",
       "      <th>...</th>\n",
       "      <td>...</td>\n",
       "      <td>...</td>\n",
       "    </tr>\n",
       "    <tr>\n",
       "      <th>1695</th>\n",
       "      <td>2017-06-26</td>\n",
       "      <td>79.0</td>\n",
       "    </tr>\n",
       "    <tr>\n",
       "      <th>1696</th>\n",
       "      <td>2017-06-27</td>\n",
       "      <td>74.0</td>\n",
       "    </tr>\n",
       "    <tr>\n",
       "      <th>1697</th>\n",
       "      <td>2017-06-28</td>\n",
       "      <td>74.0</td>\n",
       "    </tr>\n",
       "    <tr>\n",
       "      <th>1698</th>\n",
       "      <td>2017-06-29</td>\n",
       "      <td>76.0</td>\n",
       "    </tr>\n",
       "    <tr>\n",
       "      <th>1699</th>\n",
       "      <td>2017-06-30</td>\n",
       "      <td>75.0</td>\n",
       "    </tr>\n",
       "  </tbody>\n",
       "</table>\n",
       "<p>1700 rows × 2 columns</p>\n",
       "</div>"
      ],
      "text/plain": [
       "            Date  Temperature\n",
       "0     2010-06-01         78.0\n",
       "1     2010-06-02         76.0\n",
       "2     2010-06-03         78.0\n",
       "3     2010-06-04         76.0\n",
       "4     2010-06-05         77.0\n",
       "...          ...          ...\n",
       "1695  2017-06-26         79.0\n",
       "1696  2017-06-27         74.0\n",
       "1697  2017-06-28         74.0\n",
       "1698  2017-06-29         76.0\n",
       "1699  2017-06-30         75.0\n",
       "\n",
       "[1700 rows x 2 columns]"
      ]
     },
     "execution_count": 212,
     "metadata": {},
     "output_type": "execute_result"
    },
    {
     "data": {
      "application/javascript": [
       "\n",
       "            setTimeout(function() {\n",
       "                var nbb_cell_id = 212;\n",
       "                var nbb_unformatted_code = \"# convert to dataframe\\njune_temps = pd.DataFrame(june_temps, columns = [\\\"Date\\\", \\\"Temperature\\\"])\\n\\njune_temps\";\n",
       "                var nbb_formatted_code = \"# convert to dataframe\\njune_temps = pd.DataFrame(june_temps, columns=[\\\"Date\\\", \\\"Temperature\\\"])\\n\\njune_temps\";\n",
       "                var nbb_cells = Jupyter.notebook.get_cells();\n",
       "                for (var i = 0; i < nbb_cells.length; ++i) {\n",
       "                    if (nbb_cells[i].input_prompt_number == nbb_cell_id) {\n",
       "                        if (nbb_cells[i].get_text() == nbb_unformatted_code) {\n",
       "                             nbb_cells[i].set_text(nbb_formatted_code);\n",
       "                        }\n",
       "                        break;\n",
       "                    }\n",
       "                }\n",
       "            }, 500);\n",
       "            "
      ],
      "text/plain": [
       "<IPython.core.display.Javascript object>"
      ]
     },
     "metadata": {},
     "output_type": "display_data"
    },
    {
     "data": {
      "application/javascript": [
       "\n",
       "            setTimeout(function() {\n",
       "                var nbb_cell_id = 212;\n",
       "                var nbb_unformatted_code = \"# convert to dataframe\\njune_temps = pd.DataFrame(june_temps, columns = [\\\"Date\\\", \\\"Temperature\\\"])\\n\\njune_temps\";\n",
       "                var nbb_formatted_code = \"# convert to dataframe\\njune_temps = pd.DataFrame(june_temps, columns=[\\\"Date\\\", \\\"Temperature\\\"])\\n\\njune_temps\";\n",
       "                var nbb_cells = Jupyter.notebook.get_cells();\n",
       "                for (var i = 0; i < nbb_cells.length; ++i) {\n",
       "                    if (nbb_cells[i].input_prompt_number == nbb_cell_id) {\n",
       "                        if (nbb_cells[i].get_text() == nbb_unformatted_code) {\n",
       "                             nbb_cells[i].set_text(nbb_formatted_code);\n",
       "                        }\n",
       "                        break;\n",
       "                    }\n",
       "                }\n",
       "            }, 500);\n",
       "            "
      ],
      "text/plain": [
       "<IPython.core.display.Javascript object>"
      ]
     },
     "metadata": {},
     "output_type": "display_data"
    },
    {
     "data": {
      "application/javascript": [
       "\n",
       "            setTimeout(function() {\n",
       "                var nbb_cell_id = 212;\n",
       "                var nbb_unformatted_code = \"# convert to dataframe\\njune_temps = pd.DataFrame(june_temps, columns = [\\\"Date\\\", \\\"Temperature\\\"])\\n\\njune_temps\";\n",
       "                var nbb_formatted_code = \"# convert to dataframe\\njune_temps = pd.DataFrame(june_temps, columns=[\\\"Date\\\", \\\"Temperature\\\"])\\n\\njune_temps\";\n",
       "                var nbb_cells = Jupyter.notebook.get_cells();\n",
       "                for (var i = 0; i < nbb_cells.length; ++i) {\n",
       "                    if (nbb_cells[i].input_prompt_number == nbb_cell_id) {\n",
       "                        if (nbb_cells[i].get_text() == nbb_unformatted_code) {\n",
       "                             nbb_cells[i].set_text(nbb_formatted_code);\n",
       "                        }\n",
       "                        break;\n",
       "                    }\n",
       "                }\n",
       "            }, 500);\n",
       "            "
      ],
      "text/plain": [
       "<IPython.core.display.Javascript object>"
      ]
     },
     "metadata": {},
     "output_type": "display_data"
    },
    {
     "data": {
      "application/javascript": [
       "\n",
       "            setTimeout(function() {\n",
       "                var nbb_cell_id = 212;\n",
       "                var nbb_unformatted_code = \"# convert to dataframe\\njune_temps = pd.DataFrame(june_temps, columns = [\\\"Date\\\", \\\"Temperature\\\"])\\n\\njune_temps\";\n",
       "                var nbb_formatted_code = \"# convert to dataframe\\njune_temps = pd.DataFrame(june_temps, columns=[\\\"Date\\\", \\\"Temperature\\\"])\\n\\njune_temps\";\n",
       "                var nbb_cells = Jupyter.notebook.get_cells();\n",
       "                for (var i = 0; i < nbb_cells.length; ++i) {\n",
       "                    if (nbb_cells[i].input_prompt_number == nbb_cell_id) {\n",
       "                        if (nbb_cells[i].get_text() == nbb_unformatted_code) {\n",
       "                             nbb_cells[i].set_text(nbb_formatted_code);\n",
       "                        }\n",
       "                        break;\n",
       "                    }\n",
       "                }\n",
       "            }, 500);\n",
       "            "
      ],
      "text/plain": [
       "<IPython.core.display.Javascript object>"
      ]
     },
     "metadata": {},
     "output_type": "display_data"
    },
    {
     "data": {
      "application/javascript": [
       "\n",
       "            setTimeout(function() {\n",
       "                var nbb_cell_id = 212;\n",
       "                var nbb_unformatted_code = \"# convert to dataframe\\njune_temps = pd.DataFrame(june_temps, columns = [\\\"Date\\\", \\\"Temperature\\\"])\\n\\njune_temps\";\n",
       "                var nbb_formatted_code = \"# convert to dataframe\\njune_temps = pd.DataFrame(june_temps, columns=[\\\"Date\\\", \\\"Temperature\\\"])\\n\\njune_temps\";\n",
       "                var nbb_cells = Jupyter.notebook.get_cells();\n",
       "                for (var i = 0; i < nbb_cells.length; ++i) {\n",
       "                    if (nbb_cells[i].input_prompt_number == nbb_cell_id) {\n",
       "                        if (nbb_cells[i].get_text() == nbb_unformatted_code) {\n",
       "                             nbb_cells[i].set_text(nbb_formatted_code);\n",
       "                        }\n",
       "                        break;\n",
       "                    }\n",
       "                }\n",
       "            }, 500);\n",
       "            "
      ],
      "text/plain": [
       "<IPython.core.display.Javascript object>"
      ]
     },
     "metadata": {},
     "output_type": "display_data"
    },
    {
     "data": {
      "application/javascript": [
       "\n",
       "            setTimeout(function() {\n",
       "                var nbb_cell_id = 212;\n",
       "                var nbb_unformatted_code = \"# convert to dataframe\\njune_temps = pd.DataFrame(june_temps, columns = [\\\"Date\\\", \\\"Temperature\\\"])\\n\\njune_temps\";\n",
       "                var nbb_formatted_code = \"# convert to dataframe\\njune_temps = pd.DataFrame(june_temps, columns=[\\\"Date\\\", \\\"Temperature\\\"])\\n\\njune_temps\";\n",
       "                var nbb_cells = Jupyter.notebook.get_cells();\n",
       "                for (var i = 0; i < nbb_cells.length; ++i) {\n",
       "                    if (nbb_cells[i].input_prompt_number == nbb_cell_id) {\n",
       "                        if (nbb_cells[i].get_text() == nbb_unformatted_code) {\n",
       "                             nbb_cells[i].set_text(nbb_formatted_code);\n",
       "                        }\n",
       "                        break;\n",
       "                    }\n",
       "                }\n",
       "            }, 500);\n",
       "            "
      ],
      "text/plain": [
       "<IPython.core.display.Javascript object>"
      ]
     },
     "metadata": {},
     "output_type": "display_data"
    },
    {
     "data": {
      "application/javascript": [
       "\n",
       "            setTimeout(function() {\n",
       "                var nbb_cell_id = 212;\n",
       "                var nbb_unformatted_code = \"# convert to dataframe\\njune_temps = pd.DataFrame(june_temps, columns = [\\\"Date\\\", \\\"Temperature\\\"])\\n\\njune_temps\";\n",
       "                var nbb_formatted_code = \"# convert to dataframe\\njune_temps = pd.DataFrame(june_temps, columns=[\\\"Date\\\", \\\"Temperature\\\"])\\n\\njune_temps\";\n",
       "                var nbb_cells = Jupyter.notebook.get_cells();\n",
       "                for (var i = 0; i < nbb_cells.length; ++i) {\n",
       "                    if (nbb_cells[i].input_prompt_number == nbb_cell_id) {\n",
       "                        if (nbb_cells[i].get_text() == nbb_unformatted_code) {\n",
       "                             nbb_cells[i].set_text(nbb_formatted_code);\n",
       "                        }\n",
       "                        break;\n",
       "                    }\n",
       "                }\n",
       "            }, 500);\n",
       "            "
      ],
      "text/plain": [
       "<IPython.core.display.Javascript object>"
      ]
     },
     "metadata": {},
     "output_type": "display_data"
    },
    {
     "data": {
      "application/javascript": [
       "\n",
       "            setTimeout(function() {\n",
       "                var nbb_cell_id = 212;\n",
       "                var nbb_unformatted_code = \"# convert to dataframe\\njune_temps = pd.DataFrame(june_temps, columns = [\\\"Date\\\", \\\"Temperature\\\"])\\n\\njune_temps\";\n",
       "                var nbb_formatted_code = \"# convert to dataframe\\njune_temps = pd.DataFrame(june_temps, columns=[\\\"Date\\\", \\\"Temperature\\\"])\\n\\njune_temps\";\n",
       "                var nbb_cells = Jupyter.notebook.get_cells();\n",
       "                for (var i = 0; i < nbb_cells.length; ++i) {\n",
       "                    if (nbb_cells[i].input_prompt_number == nbb_cell_id) {\n",
       "                        if (nbb_cells[i].get_text() == nbb_unformatted_code) {\n",
       "                             nbb_cells[i].set_text(nbb_formatted_code);\n",
       "                        }\n",
       "                        break;\n",
       "                    }\n",
       "                }\n",
       "            }, 500);\n",
       "            "
      ],
      "text/plain": [
       "<IPython.core.display.Javascript object>"
      ]
     },
     "metadata": {},
     "output_type": "display_data"
    }
   ],
   "source": [
    "# convert to dataframe\n",
    "june_temps = pd.DataFrame(june_temps, columns = [\"Date\", \"Temperature\"])\n",
    "\n",
    "june_temps\n"
   ]
  },
  {
   "cell_type": "code",
   "execution_count": 213,
   "metadata": {},
   "outputs": [
    {
     "data": {
      "text/plain": [
       "74.94411764705882"
      ]
     },
     "execution_count": 213,
     "metadata": {},
     "output_type": "execute_result"
    },
    {
     "data": {
      "application/javascript": [
       "\n",
       "            setTimeout(function() {\n",
       "                var nbb_cell_id = 213;\n",
       "                var nbb_unformatted_code = \"# get average June temperature\\njune_avg = june_temps[\\\"Temperature\\\"].mean()\\njune_avg\";\n",
       "                var nbb_formatted_code = \"# get average June temperature\\njune_avg = june_temps[\\\"Temperature\\\"].mean()\\njune_avg\";\n",
       "                var nbb_cells = Jupyter.notebook.get_cells();\n",
       "                for (var i = 0; i < nbb_cells.length; ++i) {\n",
       "                    if (nbb_cells[i].input_prompt_number == nbb_cell_id) {\n",
       "                        if (nbb_cells[i].get_text() == nbb_unformatted_code) {\n",
       "                             nbb_cells[i].set_text(nbb_formatted_code);\n",
       "                        }\n",
       "                        break;\n",
       "                    }\n",
       "                }\n",
       "            }, 500);\n",
       "            "
      ],
      "text/plain": [
       "<IPython.core.display.Javascript object>"
      ]
     },
     "metadata": {},
     "output_type": "display_data"
    },
    {
     "data": {
      "application/javascript": [
       "\n",
       "            setTimeout(function() {\n",
       "                var nbb_cell_id = 213;\n",
       "                var nbb_unformatted_code = \"# get average June temperature\\njune_avg = june_temps[\\\"Temperature\\\"].mean()\\njune_avg\";\n",
       "                var nbb_formatted_code = \"# get average June temperature\\njune_avg = june_temps[\\\"Temperature\\\"].mean()\\njune_avg\";\n",
       "                var nbb_cells = Jupyter.notebook.get_cells();\n",
       "                for (var i = 0; i < nbb_cells.length; ++i) {\n",
       "                    if (nbb_cells[i].input_prompt_number == nbb_cell_id) {\n",
       "                        if (nbb_cells[i].get_text() == nbb_unformatted_code) {\n",
       "                             nbb_cells[i].set_text(nbb_formatted_code);\n",
       "                        }\n",
       "                        break;\n",
       "                    }\n",
       "                }\n",
       "            }, 500);\n",
       "            "
      ],
      "text/plain": [
       "<IPython.core.display.Javascript object>"
      ]
     },
     "metadata": {},
     "output_type": "display_data"
    },
    {
     "data": {
      "application/javascript": [
       "\n",
       "            setTimeout(function() {\n",
       "                var nbb_cell_id = 213;\n",
       "                var nbb_unformatted_code = \"# get average June temperature\\njune_avg = june_temps[\\\"Temperature\\\"].mean()\\njune_avg\";\n",
       "                var nbb_formatted_code = \"# get average June temperature\\njune_avg = june_temps[\\\"Temperature\\\"].mean()\\njune_avg\";\n",
       "                var nbb_cells = Jupyter.notebook.get_cells();\n",
       "                for (var i = 0; i < nbb_cells.length; ++i) {\n",
       "                    if (nbb_cells[i].input_prompt_number == nbb_cell_id) {\n",
       "                        if (nbb_cells[i].get_text() == nbb_unformatted_code) {\n",
       "                             nbb_cells[i].set_text(nbb_formatted_code);\n",
       "                        }\n",
       "                        break;\n",
       "                    }\n",
       "                }\n",
       "            }, 500);\n",
       "            "
      ],
      "text/plain": [
       "<IPython.core.display.Javascript object>"
      ]
     },
     "metadata": {},
     "output_type": "display_data"
    },
    {
     "data": {
      "application/javascript": [
       "\n",
       "            setTimeout(function() {\n",
       "                var nbb_cell_id = 213;\n",
       "                var nbb_unformatted_code = \"# get average June temperature\\njune_avg = june_temps[\\\"Temperature\\\"].mean()\\njune_avg\";\n",
       "                var nbb_formatted_code = \"# get average June temperature\\njune_avg = june_temps[\\\"Temperature\\\"].mean()\\njune_avg\";\n",
       "                var nbb_cells = Jupyter.notebook.get_cells();\n",
       "                for (var i = 0; i < nbb_cells.length; ++i) {\n",
       "                    if (nbb_cells[i].input_prompt_number == nbb_cell_id) {\n",
       "                        if (nbb_cells[i].get_text() == nbb_unformatted_code) {\n",
       "                             nbb_cells[i].set_text(nbb_formatted_code);\n",
       "                        }\n",
       "                        break;\n",
       "                    }\n",
       "                }\n",
       "            }, 500);\n",
       "            "
      ],
      "text/plain": [
       "<IPython.core.display.Javascript object>"
      ]
     },
     "metadata": {},
     "output_type": "display_data"
    },
    {
     "data": {
      "application/javascript": [
       "\n",
       "            setTimeout(function() {\n",
       "                var nbb_cell_id = 213;\n",
       "                var nbb_unformatted_code = \"# get average June temperature\\njune_avg = june_temps[\\\"Temperature\\\"].mean()\\njune_avg\";\n",
       "                var nbb_formatted_code = \"# get average June temperature\\njune_avg = june_temps[\\\"Temperature\\\"].mean()\\njune_avg\";\n",
       "                var nbb_cells = Jupyter.notebook.get_cells();\n",
       "                for (var i = 0; i < nbb_cells.length; ++i) {\n",
       "                    if (nbb_cells[i].input_prompt_number == nbb_cell_id) {\n",
       "                        if (nbb_cells[i].get_text() == nbb_unformatted_code) {\n",
       "                             nbb_cells[i].set_text(nbb_formatted_code);\n",
       "                        }\n",
       "                        break;\n",
       "                    }\n",
       "                }\n",
       "            }, 500);\n",
       "            "
      ],
      "text/plain": [
       "<IPython.core.display.Javascript object>"
      ]
     },
     "metadata": {},
     "output_type": "display_data"
    },
    {
     "data": {
      "application/javascript": [
       "\n",
       "            setTimeout(function() {\n",
       "                var nbb_cell_id = 213;\n",
       "                var nbb_unformatted_code = \"# get average June temperature\\njune_avg = june_temps[\\\"Temperature\\\"].mean()\\njune_avg\";\n",
       "                var nbb_formatted_code = \"# get average June temperature\\njune_avg = june_temps[\\\"Temperature\\\"].mean()\\njune_avg\";\n",
       "                var nbb_cells = Jupyter.notebook.get_cells();\n",
       "                for (var i = 0; i < nbb_cells.length; ++i) {\n",
       "                    if (nbb_cells[i].input_prompt_number == nbb_cell_id) {\n",
       "                        if (nbb_cells[i].get_text() == nbb_unformatted_code) {\n",
       "                             nbb_cells[i].set_text(nbb_formatted_code);\n",
       "                        }\n",
       "                        break;\n",
       "                    }\n",
       "                }\n",
       "            }, 500);\n",
       "            "
      ],
      "text/plain": [
       "<IPython.core.display.Javascript object>"
      ]
     },
     "metadata": {},
     "output_type": "display_data"
    },
    {
     "data": {
      "application/javascript": [
       "\n",
       "            setTimeout(function() {\n",
       "                var nbb_cell_id = 213;\n",
       "                var nbb_unformatted_code = \"# get average June temperature\\njune_avg = june_temps[\\\"Temperature\\\"].mean()\\njune_avg\";\n",
       "                var nbb_formatted_code = \"# get average June temperature\\njune_avg = june_temps[\\\"Temperature\\\"].mean()\\njune_avg\";\n",
       "                var nbb_cells = Jupyter.notebook.get_cells();\n",
       "                for (var i = 0; i < nbb_cells.length; ++i) {\n",
       "                    if (nbb_cells[i].input_prompt_number == nbb_cell_id) {\n",
       "                        if (nbb_cells[i].get_text() == nbb_unformatted_code) {\n",
       "                             nbb_cells[i].set_text(nbb_formatted_code);\n",
       "                        }\n",
       "                        break;\n",
       "                    }\n",
       "                }\n",
       "            }, 500);\n",
       "            "
      ],
      "text/plain": [
       "<IPython.core.display.Javascript object>"
      ]
     },
     "metadata": {},
     "output_type": "display_data"
    },
    {
     "data": {
      "application/javascript": [
       "\n",
       "            setTimeout(function() {\n",
       "                var nbb_cell_id = 213;\n",
       "                var nbb_unformatted_code = \"# get average June temperature\\njune_avg = june_temps[\\\"Temperature\\\"].mean()\\njune_avg\";\n",
       "                var nbb_formatted_code = \"# get average June temperature\\njune_avg = june_temps[\\\"Temperature\\\"].mean()\\njune_avg\";\n",
       "                var nbb_cells = Jupyter.notebook.get_cells();\n",
       "                for (var i = 0; i < nbb_cells.length; ++i) {\n",
       "                    if (nbb_cells[i].input_prompt_number == nbb_cell_id) {\n",
       "                        if (nbb_cells[i].get_text() == nbb_unformatted_code) {\n",
       "                             nbb_cells[i].set_text(nbb_formatted_code);\n",
       "                        }\n",
       "                        break;\n",
       "                    }\n",
       "                }\n",
       "            }, 500);\n",
       "            "
      ],
      "text/plain": [
       "<IPython.core.display.Javascript object>"
      ]
     },
     "metadata": {},
     "output_type": "display_data"
    }
   ],
   "source": [
    "# get average June temperature\n",
    "june_avg = june_temps[\"Temperature\"].mean()\n",
    "june_avg"
   ]
  },
  {
   "cell_type": "code",
   "execution_count": 214,
   "metadata": {},
   "outputs": [
    {
     "data": {
      "application/javascript": [
       "\n",
       "            setTimeout(function() {\n",
       "                var nbb_cell_id = 214;\n",
       "                var nbb_unformatted_code = \"# get the average temperature in December at all stations in all years\\n\\ndec_temps = session.query(Measurement.date, Measurement.tobs)\\\\\\n    .filter(extract(\\\"month\\\", Measurement.date) == \\\"12\\\").all()\";\n",
       "                var nbb_formatted_code = \"# get the average temperature in December at all stations in all years\\n\\ndec_temps = (\\n    session.query(Measurement.date, Measurement.tobs)\\n    .filter(extract(\\\"month\\\", Measurement.date) == \\\"12\\\")\\n    .all()\\n)\";\n",
       "                var nbb_cells = Jupyter.notebook.get_cells();\n",
       "                for (var i = 0; i < nbb_cells.length; ++i) {\n",
       "                    if (nbb_cells[i].input_prompt_number == nbb_cell_id) {\n",
       "                        if (nbb_cells[i].get_text() == nbb_unformatted_code) {\n",
       "                             nbb_cells[i].set_text(nbb_formatted_code);\n",
       "                        }\n",
       "                        break;\n",
       "                    }\n",
       "                }\n",
       "            }, 500);\n",
       "            "
      ],
      "text/plain": [
       "<IPython.core.display.Javascript object>"
      ]
     },
     "metadata": {},
     "output_type": "display_data"
    },
    {
     "data": {
      "application/javascript": [
       "\n",
       "            setTimeout(function() {\n",
       "                var nbb_cell_id = 214;\n",
       "                var nbb_unformatted_code = \"# get the average temperature in December at all stations in all years\\n\\ndec_temps = session.query(Measurement.date, Measurement.tobs)\\\\\\n    .filter(extract(\\\"month\\\", Measurement.date) == \\\"12\\\").all()\";\n",
       "                var nbb_formatted_code = \"# get the average temperature in December at all stations in all years\\n\\ndec_temps = (\\n    session.query(Measurement.date, Measurement.tobs)\\n    .filter(extract(\\\"month\\\", Measurement.date) == \\\"12\\\")\\n    .all()\\n)\";\n",
       "                var nbb_cells = Jupyter.notebook.get_cells();\n",
       "                for (var i = 0; i < nbb_cells.length; ++i) {\n",
       "                    if (nbb_cells[i].input_prompt_number == nbb_cell_id) {\n",
       "                        if (nbb_cells[i].get_text() == nbb_unformatted_code) {\n",
       "                             nbb_cells[i].set_text(nbb_formatted_code);\n",
       "                        }\n",
       "                        break;\n",
       "                    }\n",
       "                }\n",
       "            }, 500);\n",
       "            "
      ],
      "text/plain": [
       "<IPython.core.display.Javascript object>"
      ]
     },
     "metadata": {},
     "output_type": "display_data"
    },
    {
     "data": {
      "application/javascript": [
       "\n",
       "            setTimeout(function() {\n",
       "                var nbb_cell_id = 214;\n",
       "                var nbb_unformatted_code = \"# get the average temperature in December at all stations in all years\\n\\ndec_temps = session.query(Measurement.date, Measurement.tobs)\\\\\\n    .filter(extract(\\\"month\\\", Measurement.date) == \\\"12\\\").all()\";\n",
       "                var nbb_formatted_code = \"# get the average temperature in December at all stations in all years\\n\\ndec_temps = (\\n    session.query(Measurement.date, Measurement.tobs)\\n    .filter(extract(\\\"month\\\", Measurement.date) == \\\"12\\\")\\n    .all()\\n)\";\n",
       "                var nbb_cells = Jupyter.notebook.get_cells();\n",
       "                for (var i = 0; i < nbb_cells.length; ++i) {\n",
       "                    if (nbb_cells[i].input_prompt_number == nbb_cell_id) {\n",
       "                        if (nbb_cells[i].get_text() == nbb_unformatted_code) {\n",
       "                             nbb_cells[i].set_text(nbb_formatted_code);\n",
       "                        }\n",
       "                        break;\n",
       "                    }\n",
       "                }\n",
       "            }, 500);\n",
       "            "
      ],
      "text/plain": [
       "<IPython.core.display.Javascript object>"
      ]
     },
     "metadata": {},
     "output_type": "display_data"
    },
    {
     "data": {
      "application/javascript": [
       "\n",
       "            setTimeout(function() {\n",
       "                var nbb_cell_id = 214;\n",
       "                var nbb_unformatted_code = \"# get the average temperature in December at all stations in all years\\n\\ndec_temps = session.query(Measurement.date, Measurement.tobs)\\\\\\n    .filter(extract(\\\"month\\\", Measurement.date) == \\\"12\\\").all()\";\n",
       "                var nbb_formatted_code = \"# get the average temperature in December at all stations in all years\\n\\ndec_temps = (\\n    session.query(Measurement.date, Measurement.tobs)\\n    .filter(extract(\\\"month\\\", Measurement.date) == \\\"12\\\")\\n    .all()\\n)\";\n",
       "                var nbb_cells = Jupyter.notebook.get_cells();\n",
       "                for (var i = 0; i < nbb_cells.length; ++i) {\n",
       "                    if (nbb_cells[i].input_prompt_number == nbb_cell_id) {\n",
       "                        if (nbb_cells[i].get_text() == nbb_unformatted_code) {\n",
       "                             nbb_cells[i].set_text(nbb_formatted_code);\n",
       "                        }\n",
       "                        break;\n",
       "                    }\n",
       "                }\n",
       "            }, 500);\n",
       "            "
      ],
      "text/plain": [
       "<IPython.core.display.Javascript object>"
      ]
     },
     "metadata": {},
     "output_type": "display_data"
    },
    {
     "data": {
      "application/javascript": [
       "\n",
       "            setTimeout(function() {\n",
       "                var nbb_cell_id = 214;\n",
       "                var nbb_unformatted_code = \"# get the average temperature in December at all stations in all years\\n\\ndec_temps = session.query(Measurement.date, Measurement.tobs)\\\\\\n    .filter(extract(\\\"month\\\", Measurement.date) == \\\"12\\\").all()\";\n",
       "                var nbb_formatted_code = \"# get the average temperature in December at all stations in all years\\n\\ndec_temps = (\\n    session.query(Measurement.date, Measurement.tobs)\\n    .filter(extract(\\\"month\\\", Measurement.date) == \\\"12\\\")\\n    .all()\\n)\";\n",
       "                var nbb_cells = Jupyter.notebook.get_cells();\n",
       "                for (var i = 0; i < nbb_cells.length; ++i) {\n",
       "                    if (nbb_cells[i].input_prompt_number == nbb_cell_id) {\n",
       "                        if (nbb_cells[i].get_text() == nbb_unformatted_code) {\n",
       "                             nbb_cells[i].set_text(nbb_formatted_code);\n",
       "                        }\n",
       "                        break;\n",
       "                    }\n",
       "                }\n",
       "            }, 500);\n",
       "            "
      ],
      "text/plain": [
       "<IPython.core.display.Javascript object>"
      ]
     },
     "metadata": {},
     "output_type": "display_data"
    },
    {
     "data": {
      "application/javascript": [
       "\n",
       "            setTimeout(function() {\n",
       "                var nbb_cell_id = 214;\n",
       "                var nbb_unformatted_code = \"# get the average temperature in December at all stations in all years\\n\\ndec_temps = session.query(Measurement.date, Measurement.tobs)\\\\\\n    .filter(extract(\\\"month\\\", Measurement.date) == \\\"12\\\").all()\";\n",
       "                var nbb_formatted_code = \"# get the average temperature in December at all stations in all years\\n\\ndec_temps = (\\n    session.query(Measurement.date, Measurement.tobs)\\n    .filter(extract(\\\"month\\\", Measurement.date) == \\\"12\\\")\\n    .all()\\n)\";\n",
       "                var nbb_cells = Jupyter.notebook.get_cells();\n",
       "                for (var i = 0; i < nbb_cells.length; ++i) {\n",
       "                    if (nbb_cells[i].input_prompt_number == nbb_cell_id) {\n",
       "                        if (nbb_cells[i].get_text() == nbb_unformatted_code) {\n",
       "                             nbb_cells[i].set_text(nbb_formatted_code);\n",
       "                        }\n",
       "                        break;\n",
       "                    }\n",
       "                }\n",
       "            }, 500);\n",
       "            "
      ],
      "text/plain": [
       "<IPython.core.display.Javascript object>"
      ]
     },
     "metadata": {},
     "output_type": "display_data"
    },
    {
     "data": {
      "application/javascript": [
       "\n",
       "            setTimeout(function() {\n",
       "                var nbb_cell_id = 214;\n",
       "                var nbb_unformatted_code = \"# get the average temperature in December at all stations in all years\\n\\ndec_temps = session.query(Measurement.date, Measurement.tobs)\\\\\\n    .filter(extract(\\\"month\\\", Measurement.date) == \\\"12\\\").all()\";\n",
       "                var nbb_formatted_code = \"# get the average temperature in December at all stations in all years\\n\\ndec_temps = (\\n    session.query(Measurement.date, Measurement.tobs)\\n    .filter(extract(\\\"month\\\", Measurement.date) == \\\"12\\\")\\n    .all()\\n)\";\n",
       "                var nbb_cells = Jupyter.notebook.get_cells();\n",
       "                for (var i = 0; i < nbb_cells.length; ++i) {\n",
       "                    if (nbb_cells[i].input_prompt_number == nbb_cell_id) {\n",
       "                        if (nbb_cells[i].get_text() == nbb_unformatted_code) {\n",
       "                             nbb_cells[i].set_text(nbb_formatted_code);\n",
       "                        }\n",
       "                        break;\n",
       "                    }\n",
       "                }\n",
       "            }, 500);\n",
       "            "
      ],
      "text/plain": [
       "<IPython.core.display.Javascript object>"
      ]
     },
     "metadata": {},
     "output_type": "display_data"
    },
    {
     "data": {
      "application/javascript": [
       "\n",
       "            setTimeout(function() {\n",
       "                var nbb_cell_id = 214;\n",
       "                var nbb_unformatted_code = \"# get the average temperature in December at all stations in all years\\n\\ndec_temps = session.query(Measurement.date, Measurement.tobs)\\\\\\n    .filter(extract(\\\"month\\\", Measurement.date) == \\\"12\\\").all()\";\n",
       "                var nbb_formatted_code = \"# get the average temperature in December at all stations in all years\\n\\ndec_temps = (\\n    session.query(Measurement.date, Measurement.tobs)\\n    .filter(extract(\\\"month\\\", Measurement.date) == \\\"12\\\")\\n    .all()\\n)\";\n",
       "                var nbb_cells = Jupyter.notebook.get_cells();\n",
       "                for (var i = 0; i < nbb_cells.length; ++i) {\n",
       "                    if (nbb_cells[i].input_prompt_number == nbb_cell_id) {\n",
       "                        if (nbb_cells[i].get_text() == nbb_unformatted_code) {\n",
       "                             nbb_cells[i].set_text(nbb_formatted_code);\n",
       "                        }\n",
       "                        break;\n",
       "                    }\n",
       "                }\n",
       "            }, 500);\n",
       "            "
      ],
      "text/plain": [
       "<IPython.core.display.Javascript object>"
      ]
     },
     "metadata": {},
     "output_type": "display_data"
    }
   ],
   "source": [
    "# get the average temperature in December at all stations in all years\n",
    "\n",
    "dec_temps = session.query(Measurement.date, Measurement.tobs)\\\n",
    "    .filter(extract(\"month\", Measurement.date) == \"12\").all()"
   ]
  },
  {
   "cell_type": "code",
   "execution_count": 215,
   "metadata": {},
   "outputs": [
    {
     "data": {
      "text/html": [
       "<div>\n",
       "<style scoped>\n",
       "    .dataframe tbody tr th:only-of-type {\n",
       "        vertical-align: middle;\n",
       "    }\n",
       "\n",
       "    .dataframe tbody tr th {\n",
       "        vertical-align: top;\n",
       "    }\n",
       "\n",
       "    .dataframe thead th {\n",
       "        text-align: right;\n",
       "    }\n",
       "</style>\n",
       "<table border=\"1\" class=\"dataframe\">\n",
       "  <thead>\n",
       "    <tr style=\"text-align: right;\">\n",
       "      <th></th>\n",
       "      <th>Date</th>\n",
       "      <th>Temperature</th>\n",
       "    </tr>\n",
       "  </thead>\n",
       "  <tbody>\n",
       "    <tr>\n",
       "      <th>0</th>\n",
       "      <td>2010-12-01</td>\n",
       "      <td>76.0</td>\n",
       "    </tr>\n",
       "    <tr>\n",
       "      <th>1</th>\n",
       "      <td>2010-12-03</td>\n",
       "      <td>74.0</td>\n",
       "    </tr>\n",
       "    <tr>\n",
       "      <th>2</th>\n",
       "      <td>2010-12-04</td>\n",
       "      <td>74.0</td>\n",
       "    </tr>\n",
       "    <tr>\n",
       "      <th>3</th>\n",
       "      <td>2010-12-06</td>\n",
       "      <td>64.0</td>\n",
       "    </tr>\n",
       "    <tr>\n",
       "      <th>4</th>\n",
       "      <td>2010-12-07</td>\n",
       "      <td>64.0</td>\n",
       "    </tr>\n",
       "    <tr>\n",
       "      <th>...</th>\n",
       "      <td>...</td>\n",
       "      <td>...</td>\n",
       "    </tr>\n",
       "    <tr>\n",
       "      <th>1512</th>\n",
       "      <td>2016-12-27</td>\n",
       "      <td>71.0</td>\n",
       "    </tr>\n",
       "    <tr>\n",
       "      <th>1513</th>\n",
       "      <td>2016-12-28</td>\n",
       "      <td>71.0</td>\n",
       "    </tr>\n",
       "    <tr>\n",
       "      <th>1514</th>\n",
       "      <td>2016-12-29</td>\n",
       "      <td>69.0</td>\n",
       "    </tr>\n",
       "    <tr>\n",
       "      <th>1515</th>\n",
       "      <td>2016-12-30</td>\n",
       "      <td>65.0</td>\n",
       "    </tr>\n",
       "    <tr>\n",
       "      <th>1516</th>\n",
       "      <td>2016-12-31</td>\n",
       "      <td>65.0</td>\n",
       "    </tr>\n",
       "  </tbody>\n",
       "</table>\n",
       "<p>1517 rows × 2 columns</p>\n",
       "</div>"
      ],
      "text/plain": [
       "            Date  Temperature\n",
       "0     2010-12-01         76.0\n",
       "1     2010-12-03         74.0\n",
       "2     2010-12-04         74.0\n",
       "3     2010-12-06         64.0\n",
       "4     2010-12-07         64.0\n",
       "...          ...          ...\n",
       "1512  2016-12-27         71.0\n",
       "1513  2016-12-28         71.0\n",
       "1514  2016-12-29         69.0\n",
       "1515  2016-12-30         65.0\n",
       "1516  2016-12-31         65.0\n",
       "\n",
       "[1517 rows x 2 columns]"
      ]
     },
     "execution_count": 215,
     "metadata": {},
     "output_type": "execute_result"
    },
    {
     "data": {
      "application/javascript": [
       "\n",
       "            setTimeout(function() {\n",
       "                var nbb_cell_id = 215;\n",
       "                var nbb_unformatted_code = \"# convert to dataframe\\ndec_temps = pd.DataFrame(dec_temps, columns = [\\\"Date\\\", \\\"Temperature\\\"])\\n\\ndec_temps\";\n",
       "                var nbb_formatted_code = \"# convert to dataframe\\ndec_temps = pd.DataFrame(dec_temps, columns=[\\\"Date\\\", \\\"Temperature\\\"])\\n\\ndec_temps\";\n",
       "                var nbb_cells = Jupyter.notebook.get_cells();\n",
       "                for (var i = 0; i < nbb_cells.length; ++i) {\n",
       "                    if (nbb_cells[i].input_prompt_number == nbb_cell_id) {\n",
       "                        if (nbb_cells[i].get_text() == nbb_unformatted_code) {\n",
       "                             nbb_cells[i].set_text(nbb_formatted_code);\n",
       "                        }\n",
       "                        break;\n",
       "                    }\n",
       "                }\n",
       "            }, 500);\n",
       "            "
      ],
      "text/plain": [
       "<IPython.core.display.Javascript object>"
      ]
     },
     "metadata": {},
     "output_type": "display_data"
    },
    {
     "data": {
      "application/javascript": [
       "\n",
       "            setTimeout(function() {\n",
       "                var nbb_cell_id = 215;\n",
       "                var nbb_unformatted_code = \"# convert to dataframe\\ndec_temps = pd.DataFrame(dec_temps, columns = [\\\"Date\\\", \\\"Temperature\\\"])\\n\\ndec_temps\";\n",
       "                var nbb_formatted_code = \"# convert to dataframe\\ndec_temps = pd.DataFrame(dec_temps, columns=[\\\"Date\\\", \\\"Temperature\\\"])\\n\\ndec_temps\";\n",
       "                var nbb_cells = Jupyter.notebook.get_cells();\n",
       "                for (var i = 0; i < nbb_cells.length; ++i) {\n",
       "                    if (nbb_cells[i].input_prompt_number == nbb_cell_id) {\n",
       "                        if (nbb_cells[i].get_text() == nbb_unformatted_code) {\n",
       "                             nbb_cells[i].set_text(nbb_formatted_code);\n",
       "                        }\n",
       "                        break;\n",
       "                    }\n",
       "                }\n",
       "            }, 500);\n",
       "            "
      ],
      "text/plain": [
       "<IPython.core.display.Javascript object>"
      ]
     },
     "metadata": {},
     "output_type": "display_data"
    },
    {
     "data": {
      "application/javascript": [
       "\n",
       "            setTimeout(function() {\n",
       "                var nbb_cell_id = 215;\n",
       "                var nbb_unformatted_code = \"# convert to dataframe\\ndec_temps = pd.DataFrame(dec_temps, columns = [\\\"Date\\\", \\\"Temperature\\\"])\\n\\ndec_temps\";\n",
       "                var nbb_formatted_code = \"# convert to dataframe\\ndec_temps = pd.DataFrame(dec_temps, columns=[\\\"Date\\\", \\\"Temperature\\\"])\\n\\ndec_temps\";\n",
       "                var nbb_cells = Jupyter.notebook.get_cells();\n",
       "                for (var i = 0; i < nbb_cells.length; ++i) {\n",
       "                    if (nbb_cells[i].input_prompt_number == nbb_cell_id) {\n",
       "                        if (nbb_cells[i].get_text() == nbb_unformatted_code) {\n",
       "                             nbb_cells[i].set_text(nbb_formatted_code);\n",
       "                        }\n",
       "                        break;\n",
       "                    }\n",
       "                }\n",
       "            }, 500);\n",
       "            "
      ],
      "text/plain": [
       "<IPython.core.display.Javascript object>"
      ]
     },
     "metadata": {},
     "output_type": "display_data"
    },
    {
     "data": {
      "application/javascript": [
       "\n",
       "            setTimeout(function() {\n",
       "                var nbb_cell_id = 215;\n",
       "                var nbb_unformatted_code = \"# convert to dataframe\\ndec_temps = pd.DataFrame(dec_temps, columns = [\\\"Date\\\", \\\"Temperature\\\"])\\n\\ndec_temps\";\n",
       "                var nbb_formatted_code = \"# convert to dataframe\\ndec_temps = pd.DataFrame(dec_temps, columns=[\\\"Date\\\", \\\"Temperature\\\"])\\n\\ndec_temps\";\n",
       "                var nbb_cells = Jupyter.notebook.get_cells();\n",
       "                for (var i = 0; i < nbb_cells.length; ++i) {\n",
       "                    if (nbb_cells[i].input_prompt_number == nbb_cell_id) {\n",
       "                        if (nbb_cells[i].get_text() == nbb_unformatted_code) {\n",
       "                             nbb_cells[i].set_text(nbb_formatted_code);\n",
       "                        }\n",
       "                        break;\n",
       "                    }\n",
       "                }\n",
       "            }, 500);\n",
       "            "
      ],
      "text/plain": [
       "<IPython.core.display.Javascript object>"
      ]
     },
     "metadata": {},
     "output_type": "display_data"
    },
    {
     "data": {
      "application/javascript": [
       "\n",
       "            setTimeout(function() {\n",
       "                var nbb_cell_id = 215;\n",
       "                var nbb_unformatted_code = \"# convert to dataframe\\ndec_temps = pd.DataFrame(dec_temps, columns = [\\\"Date\\\", \\\"Temperature\\\"])\\n\\ndec_temps\";\n",
       "                var nbb_formatted_code = \"# convert to dataframe\\ndec_temps = pd.DataFrame(dec_temps, columns=[\\\"Date\\\", \\\"Temperature\\\"])\\n\\ndec_temps\";\n",
       "                var nbb_cells = Jupyter.notebook.get_cells();\n",
       "                for (var i = 0; i < nbb_cells.length; ++i) {\n",
       "                    if (nbb_cells[i].input_prompt_number == nbb_cell_id) {\n",
       "                        if (nbb_cells[i].get_text() == nbb_unformatted_code) {\n",
       "                             nbb_cells[i].set_text(nbb_formatted_code);\n",
       "                        }\n",
       "                        break;\n",
       "                    }\n",
       "                }\n",
       "            }, 500);\n",
       "            "
      ],
      "text/plain": [
       "<IPython.core.display.Javascript object>"
      ]
     },
     "metadata": {},
     "output_type": "display_data"
    },
    {
     "data": {
      "application/javascript": [
       "\n",
       "            setTimeout(function() {\n",
       "                var nbb_cell_id = 215;\n",
       "                var nbb_unformatted_code = \"# convert to dataframe\\ndec_temps = pd.DataFrame(dec_temps, columns = [\\\"Date\\\", \\\"Temperature\\\"])\\n\\ndec_temps\";\n",
       "                var nbb_formatted_code = \"# convert to dataframe\\ndec_temps = pd.DataFrame(dec_temps, columns=[\\\"Date\\\", \\\"Temperature\\\"])\\n\\ndec_temps\";\n",
       "                var nbb_cells = Jupyter.notebook.get_cells();\n",
       "                for (var i = 0; i < nbb_cells.length; ++i) {\n",
       "                    if (nbb_cells[i].input_prompt_number == nbb_cell_id) {\n",
       "                        if (nbb_cells[i].get_text() == nbb_unformatted_code) {\n",
       "                             nbb_cells[i].set_text(nbb_formatted_code);\n",
       "                        }\n",
       "                        break;\n",
       "                    }\n",
       "                }\n",
       "            }, 500);\n",
       "            "
      ],
      "text/plain": [
       "<IPython.core.display.Javascript object>"
      ]
     },
     "metadata": {},
     "output_type": "display_data"
    },
    {
     "data": {
      "application/javascript": [
       "\n",
       "            setTimeout(function() {\n",
       "                var nbb_cell_id = 215;\n",
       "                var nbb_unformatted_code = \"# convert to dataframe\\ndec_temps = pd.DataFrame(dec_temps, columns = [\\\"Date\\\", \\\"Temperature\\\"])\\n\\ndec_temps\";\n",
       "                var nbb_formatted_code = \"# convert to dataframe\\ndec_temps = pd.DataFrame(dec_temps, columns=[\\\"Date\\\", \\\"Temperature\\\"])\\n\\ndec_temps\";\n",
       "                var nbb_cells = Jupyter.notebook.get_cells();\n",
       "                for (var i = 0; i < nbb_cells.length; ++i) {\n",
       "                    if (nbb_cells[i].input_prompt_number == nbb_cell_id) {\n",
       "                        if (nbb_cells[i].get_text() == nbb_unformatted_code) {\n",
       "                             nbb_cells[i].set_text(nbb_formatted_code);\n",
       "                        }\n",
       "                        break;\n",
       "                    }\n",
       "                }\n",
       "            }, 500);\n",
       "            "
      ],
      "text/plain": [
       "<IPython.core.display.Javascript object>"
      ]
     },
     "metadata": {},
     "output_type": "display_data"
    },
    {
     "data": {
      "application/javascript": [
       "\n",
       "            setTimeout(function() {\n",
       "                var nbb_cell_id = 215;\n",
       "                var nbb_unformatted_code = \"# convert to dataframe\\ndec_temps = pd.DataFrame(dec_temps, columns = [\\\"Date\\\", \\\"Temperature\\\"])\\n\\ndec_temps\";\n",
       "                var nbb_formatted_code = \"# convert to dataframe\\ndec_temps = pd.DataFrame(dec_temps, columns=[\\\"Date\\\", \\\"Temperature\\\"])\\n\\ndec_temps\";\n",
       "                var nbb_cells = Jupyter.notebook.get_cells();\n",
       "                for (var i = 0; i < nbb_cells.length; ++i) {\n",
       "                    if (nbb_cells[i].input_prompt_number == nbb_cell_id) {\n",
       "                        if (nbb_cells[i].get_text() == nbb_unformatted_code) {\n",
       "                             nbb_cells[i].set_text(nbb_formatted_code);\n",
       "                        }\n",
       "                        break;\n",
       "                    }\n",
       "                }\n",
       "            }, 500);\n",
       "            "
      ],
      "text/plain": [
       "<IPython.core.display.Javascript object>"
      ]
     },
     "metadata": {},
     "output_type": "display_data"
    }
   ],
   "source": [
    "# convert to dataframe\n",
    "dec_temps = pd.DataFrame(dec_temps, columns = [\"Date\", \"Temperature\"])\n",
    "\n",
    "dec_temps"
   ]
  },
  {
   "cell_type": "code",
   "execution_count": 216,
   "metadata": {},
   "outputs": [
    {
     "data": {
      "text/plain": [
       "71.04152933421226"
      ]
     },
     "execution_count": 216,
     "metadata": {},
     "output_type": "execute_result"
    },
    {
     "data": {
      "application/javascript": [
       "\n",
       "            setTimeout(function() {\n",
       "                var nbb_cell_id = 216;\n",
       "                var nbb_unformatted_code = \"# get average December temperature\\ndec_avg = dec_temps[\\\"Temperature\\\"].mean()\\ndec_avg\";\n",
       "                var nbb_formatted_code = \"# get average December temperature\\ndec_avg = dec_temps[\\\"Temperature\\\"].mean()\\ndec_avg\";\n",
       "                var nbb_cells = Jupyter.notebook.get_cells();\n",
       "                for (var i = 0; i < nbb_cells.length; ++i) {\n",
       "                    if (nbb_cells[i].input_prompt_number == nbb_cell_id) {\n",
       "                        if (nbb_cells[i].get_text() == nbb_unformatted_code) {\n",
       "                             nbb_cells[i].set_text(nbb_formatted_code);\n",
       "                        }\n",
       "                        break;\n",
       "                    }\n",
       "                }\n",
       "            }, 500);\n",
       "            "
      ],
      "text/plain": [
       "<IPython.core.display.Javascript object>"
      ]
     },
     "metadata": {},
     "output_type": "display_data"
    },
    {
     "data": {
      "application/javascript": [
       "\n",
       "            setTimeout(function() {\n",
       "                var nbb_cell_id = 216;\n",
       "                var nbb_unformatted_code = \"# get average December temperature\\ndec_avg = dec_temps[\\\"Temperature\\\"].mean()\\ndec_avg\";\n",
       "                var nbb_formatted_code = \"# get average December temperature\\ndec_avg = dec_temps[\\\"Temperature\\\"].mean()\\ndec_avg\";\n",
       "                var nbb_cells = Jupyter.notebook.get_cells();\n",
       "                for (var i = 0; i < nbb_cells.length; ++i) {\n",
       "                    if (nbb_cells[i].input_prompt_number == nbb_cell_id) {\n",
       "                        if (nbb_cells[i].get_text() == nbb_unformatted_code) {\n",
       "                             nbb_cells[i].set_text(nbb_formatted_code);\n",
       "                        }\n",
       "                        break;\n",
       "                    }\n",
       "                }\n",
       "            }, 500);\n",
       "            "
      ],
      "text/plain": [
       "<IPython.core.display.Javascript object>"
      ]
     },
     "metadata": {},
     "output_type": "display_data"
    },
    {
     "data": {
      "application/javascript": [
       "\n",
       "            setTimeout(function() {\n",
       "                var nbb_cell_id = 216;\n",
       "                var nbb_unformatted_code = \"# get average December temperature\\ndec_avg = dec_temps[\\\"Temperature\\\"].mean()\\ndec_avg\";\n",
       "                var nbb_formatted_code = \"# get average December temperature\\ndec_avg = dec_temps[\\\"Temperature\\\"].mean()\\ndec_avg\";\n",
       "                var nbb_cells = Jupyter.notebook.get_cells();\n",
       "                for (var i = 0; i < nbb_cells.length; ++i) {\n",
       "                    if (nbb_cells[i].input_prompt_number == nbb_cell_id) {\n",
       "                        if (nbb_cells[i].get_text() == nbb_unformatted_code) {\n",
       "                             nbb_cells[i].set_text(nbb_formatted_code);\n",
       "                        }\n",
       "                        break;\n",
       "                    }\n",
       "                }\n",
       "            }, 500);\n",
       "            "
      ],
      "text/plain": [
       "<IPython.core.display.Javascript object>"
      ]
     },
     "metadata": {},
     "output_type": "display_data"
    },
    {
     "data": {
      "application/javascript": [
       "\n",
       "            setTimeout(function() {\n",
       "                var nbb_cell_id = 216;\n",
       "                var nbb_unformatted_code = \"# get average December temperature\\ndec_avg = dec_temps[\\\"Temperature\\\"].mean()\\ndec_avg\";\n",
       "                var nbb_formatted_code = \"# get average December temperature\\ndec_avg = dec_temps[\\\"Temperature\\\"].mean()\\ndec_avg\";\n",
       "                var nbb_cells = Jupyter.notebook.get_cells();\n",
       "                for (var i = 0; i < nbb_cells.length; ++i) {\n",
       "                    if (nbb_cells[i].input_prompt_number == nbb_cell_id) {\n",
       "                        if (nbb_cells[i].get_text() == nbb_unformatted_code) {\n",
       "                             nbb_cells[i].set_text(nbb_formatted_code);\n",
       "                        }\n",
       "                        break;\n",
       "                    }\n",
       "                }\n",
       "            }, 500);\n",
       "            "
      ],
      "text/plain": [
       "<IPython.core.display.Javascript object>"
      ]
     },
     "metadata": {},
     "output_type": "display_data"
    },
    {
     "data": {
      "application/javascript": [
       "\n",
       "            setTimeout(function() {\n",
       "                var nbb_cell_id = 216;\n",
       "                var nbb_unformatted_code = \"# get average December temperature\\ndec_avg = dec_temps[\\\"Temperature\\\"].mean()\\ndec_avg\";\n",
       "                var nbb_formatted_code = \"# get average December temperature\\ndec_avg = dec_temps[\\\"Temperature\\\"].mean()\\ndec_avg\";\n",
       "                var nbb_cells = Jupyter.notebook.get_cells();\n",
       "                for (var i = 0; i < nbb_cells.length; ++i) {\n",
       "                    if (nbb_cells[i].input_prompt_number == nbb_cell_id) {\n",
       "                        if (nbb_cells[i].get_text() == nbb_unformatted_code) {\n",
       "                             nbb_cells[i].set_text(nbb_formatted_code);\n",
       "                        }\n",
       "                        break;\n",
       "                    }\n",
       "                }\n",
       "            }, 500);\n",
       "            "
      ],
      "text/plain": [
       "<IPython.core.display.Javascript object>"
      ]
     },
     "metadata": {},
     "output_type": "display_data"
    },
    {
     "data": {
      "application/javascript": [
       "\n",
       "            setTimeout(function() {\n",
       "                var nbb_cell_id = 216;\n",
       "                var nbb_unformatted_code = \"# get average December temperature\\ndec_avg = dec_temps[\\\"Temperature\\\"].mean()\\ndec_avg\";\n",
       "                var nbb_formatted_code = \"# get average December temperature\\ndec_avg = dec_temps[\\\"Temperature\\\"].mean()\\ndec_avg\";\n",
       "                var nbb_cells = Jupyter.notebook.get_cells();\n",
       "                for (var i = 0; i < nbb_cells.length; ++i) {\n",
       "                    if (nbb_cells[i].input_prompt_number == nbb_cell_id) {\n",
       "                        if (nbb_cells[i].get_text() == nbb_unformatted_code) {\n",
       "                             nbb_cells[i].set_text(nbb_formatted_code);\n",
       "                        }\n",
       "                        break;\n",
       "                    }\n",
       "                }\n",
       "            }, 500);\n",
       "            "
      ],
      "text/plain": [
       "<IPython.core.display.Javascript object>"
      ]
     },
     "metadata": {},
     "output_type": "display_data"
    },
    {
     "data": {
      "application/javascript": [
       "\n",
       "            setTimeout(function() {\n",
       "                var nbb_cell_id = 216;\n",
       "                var nbb_unformatted_code = \"# get average December temperature\\ndec_avg = dec_temps[\\\"Temperature\\\"].mean()\\ndec_avg\";\n",
       "                var nbb_formatted_code = \"# get average December temperature\\ndec_avg = dec_temps[\\\"Temperature\\\"].mean()\\ndec_avg\";\n",
       "                var nbb_cells = Jupyter.notebook.get_cells();\n",
       "                for (var i = 0; i < nbb_cells.length; ++i) {\n",
       "                    if (nbb_cells[i].input_prompt_number == nbb_cell_id) {\n",
       "                        if (nbb_cells[i].get_text() == nbb_unformatted_code) {\n",
       "                             nbb_cells[i].set_text(nbb_formatted_code);\n",
       "                        }\n",
       "                        break;\n",
       "                    }\n",
       "                }\n",
       "            }, 500);\n",
       "            "
      ],
      "text/plain": [
       "<IPython.core.display.Javascript object>"
      ]
     },
     "metadata": {},
     "output_type": "display_data"
    },
    {
     "data": {
      "application/javascript": [
       "\n",
       "            setTimeout(function() {\n",
       "                var nbb_cell_id = 216;\n",
       "                var nbb_unformatted_code = \"# get average December temperature\\ndec_avg = dec_temps[\\\"Temperature\\\"].mean()\\ndec_avg\";\n",
       "                var nbb_formatted_code = \"# get average December temperature\\ndec_avg = dec_temps[\\\"Temperature\\\"].mean()\\ndec_avg\";\n",
       "                var nbb_cells = Jupyter.notebook.get_cells();\n",
       "                for (var i = 0; i < nbb_cells.length; ++i) {\n",
       "                    if (nbb_cells[i].input_prompt_number == nbb_cell_id) {\n",
       "                        if (nbb_cells[i].get_text() == nbb_unformatted_code) {\n",
       "                             nbb_cells[i].set_text(nbb_formatted_code);\n",
       "                        }\n",
       "                        break;\n",
       "                    }\n",
       "                }\n",
       "            }, 500);\n",
       "            "
      ],
      "text/plain": [
       "<IPython.core.display.Javascript object>"
      ]
     },
     "metadata": {},
     "output_type": "display_data"
    }
   ],
   "source": [
    "# get average December temperature\n",
    "dec_avg = dec_temps[\"Temperature\"].mean()\n",
    "dec_avg"
   ]
  },
  {
   "cell_type": "code",
   "execution_count": 217,
   "metadata": {},
   "outputs": [
    {
     "data": {
      "application/javascript": [
       "\n",
       "            setTimeout(function() {\n",
       "                var nbb_cell_id = 217;\n",
       "                var nbb_unformatted_code = \"# create temp variables from each dataframe\\n\\njune = june_temps[\\\"Temperature\\\"]\\n\\ndec = dec_temps[\\\"Temperature\\\"]\";\n",
       "                var nbb_formatted_code = \"# create temp variables from each dataframe\\n\\njune = june_temps[\\\"Temperature\\\"]\\n\\ndec = dec_temps[\\\"Temperature\\\"]\";\n",
       "                var nbb_cells = Jupyter.notebook.get_cells();\n",
       "                for (var i = 0; i < nbb_cells.length; ++i) {\n",
       "                    if (nbb_cells[i].input_prompt_number == nbb_cell_id) {\n",
       "                        if (nbb_cells[i].get_text() == nbb_unformatted_code) {\n",
       "                             nbb_cells[i].set_text(nbb_formatted_code);\n",
       "                        }\n",
       "                        break;\n",
       "                    }\n",
       "                }\n",
       "            }, 500);\n",
       "            "
      ],
      "text/plain": [
       "<IPython.core.display.Javascript object>"
      ]
     },
     "metadata": {},
     "output_type": "display_data"
    },
    {
     "data": {
      "application/javascript": [
       "\n",
       "            setTimeout(function() {\n",
       "                var nbb_cell_id = 217;\n",
       "                var nbb_unformatted_code = \"# create temp variables from each dataframe\\n\\njune = june_temps[\\\"Temperature\\\"]\\n\\ndec = dec_temps[\\\"Temperature\\\"]\";\n",
       "                var nbb_formatted_code = \"# create temp variables from each dataframe\\n\\njune = june_temps[\\\"Temperature\\\"]\\n\\ndec = dec_temps[\\\"Temperature\\\"]\";\n",
       "                var nbb_cells = Jupyter.notebook.get_cells();\n",
       "                for (var i = 0; i < nbb_cells.length; ++i) {\n",
       "                    if (nbb_cells[i].input_prompt_number == nbb_cell_id) {\n",
       "                        if (nbb_cells[i].get_text() == nbb_unformatted_code) {\n",
       "                             nbb_cells[i].set_text(nbb_formatted_code);\n",
       "                        }\n",
       "                        break;\n",
       "                    }\n",
       "                }\n",
       "            }, 500);\n",
       "            "
      ],
      "text/plain": [
       "<IPython.core.display.Javascript object>"
      ]
     },
     "metadata": {},
     "output_type": "display_data"
    },
    {
     "data": {
      "application/javascript": [
       "\n",
       "            setTimeout(function() {\n",
       "                var nbb_cell_id = 217;\n",
       "                var nbb_unformatted_code = \"# create temp variables from each dataframe\\n\\njune = june_temps[\\\"Temperature\\\"]\\n\\ndec = dec_temps[\\\"Temperature\\\"]\";\n",
       "                var nbb_formatted_code = \"# create temp variables from each dataframe\\n\\njune = june_temps[\\\"Temperature\\\"]\\n\\ndec = dec_temps[\\\"Temperature\\\"]\";\n",
       "                var nbb_cells = Jupyter.notebook.get_cells();\n",
       "                for (var i = 0; i < nbb_cells.length; ++i) {\n",
       "                    if (nbb_cells[i].input_prompt_number == nbb_cell_id) {\n",
       "                        if (nbb_cells[i].get_text() == nbb_unformatted_code) {\n",
       "                             nbb_cells[i].set_text(nbb_formatted_code);\n",
       "                        }\n",
       "                        break;\n",
       "                    }\n",
       "                }\n",
       "            }, 500);\n",
       "            "
      ],
      "text/plain": [
       "<IPython.core.display.Javascript object>"
      ]
     },
     "metadata": {},
     "output_type": "display_data"
    },
    {
     "data": {
      "application/javascript": [
       "\n",
       "            setTimeout(function() {\n",
       "                var nbb_cell_id = 217;\n",
       "                var nbb_unformatted_code = \"# create temp variables from each dataframe\\n\\njune = june_temps[\\\"Temperature\\\"]\\n\\ndec = dec_temps[\\\"Temperature\\\"]\";\n",
       "                var nbb_formatted_code = \"# create temp variables from each dataframe\\n\\njune = june_temps[\\\"Temperature\\\"]\\n\\ndec = dec_temps[\\\"Temperature\\\"]\";\n",
       "                var nbb_cells = Jupyter.notebook.get_cells();\n",
       "                for (var i = 0; i < nbb_cells.length; ++i) {\n",
       "                    if (nbb_cells[i].input_prompt_number == nbb_cell_id) {\n",
       "                        if (nbb_cells[i].get_text() == nbb_unformatted_code) {\n",
       "                             nbb_cells[i].set_text(nbb_formatted_code);\n",
       "                        }\n",
       "                        break;\n",
       "                    }\n",
       "                }\n",
       "            }, 500);\n",
       "            "
      ],
      "text/plain": [
       "<IPython.core.display.Javascript object>"
      ]
     },
     "metadata": {},
     "output_type": "display_data"
    },
    {
     "data": {
      "application/javascript": [
       "\n",
       "            setTimeout(function() {\n",
       "                var nbb_cell_id = 217;\n",
       "                var nbb_unformatted_code = \"# create temp variables from each dataframe\\n\\njune = june_temps[\\\"Temperature\\\"]\\n\\ndec = dec_temps[\\\"Temperature\\\"]\";\n",
       "                var nbb_formatted_code = \"# create temp variables from each dataframe\\n\\njune = june_temps[\\\"Temperature\\\"]\\n\\ndec = dec_temps[\\\"Temperature\\\"]\";\n",
       "                var nbb_cells = Jupyter.notebook.get_cells();\n",
       "                for (var i = 0; i < nbb_cells.length; ++i) {\n",
       "                    if (nbb_cells[i].input_prompt_number == nbb_cell_id) {\n",
       "                        if (nbb_cells[i].get_text() == nbb_unformatted_code) {\n",
       "                             nbb_cells[i].set_text(nbb_formatted_code);\n",
       "                        }\n",
       "                        break;\n",
       "                    }\n",
       "                }\n",
       "            }, 500);\n",
       "            "
      ],
      "text/plain": [
       "<IPython.core.display.Javascript object>"
      ]
     },
     "metadata": {},
     "output_type": "display_data"
    },
    {
     "data": {
      "application/javascript": [
       "\n",
       "            setTimeout(function() {\n",
       "                var nbb_cell_id = 217;\n",
       "                var nbb_unformatted_code = \"# create temp variables from each dataframe\\n\\njune = june_temps[\\\"Temperature\\\"]\\n\\ndec = dec_temps[\\\"Temperature\\\"]\";\n",
       "                var nbb_formatted_code = \"# create temp variables from each dataframe\\n\\njune = june_temps[\\\"Temperature\\\"]\\n\\ndec = dec_temps[\\\"Temperature\\\"]\";\n",
       "                var nbb_cells = Jupyter.notebook.get_cells();\n",
       "                for (var i = 0; i < nbb_cells.length; ++i) {\n",
       "                    if (nbb_cells[i].input_prompt_number == nbb_cell_id) {\n",
       "                        if (nbb_cells[i].get_text() == nbb_unformatted_code) {\n",
       "                             nbb_cells[i].set_text(nbb_formatted_code);\n",
       "                        }\n",
       "                        break;\n",
       "                    }\n",
       "                }\n",
       "            }, 500);\n",
       "            "
      ],
      "text/plain": [
       "<IPython.core.display.Javascript object>"
      ]
     },
     "metadata": {},
     "output_type": "display_data"
    },
    {
     "data": {
      "application/javascript": [
       "\n",
       "            setTimeout(function() {\n",
       "                var nbb_cell_id = 217;\n",
       "                var nbb_unformatted_code = \"# create temp variables from each dataframe\\n\\njune = june_temps[\\\"Temperature\\\"]\\n\\ndec = dec_temps[\\\"Temperature\\\"]\";\n",
       "                var nbb_formatted_code = \"# create temp variables from each dataframe\\n\\njune = june_temps[\\\"Temperature\\\"]\\n\\ndec = dec_temps[\\\"Temperature\\\"]\";\n",
       "                var nbb_cells = Jupyter.notebook.get_cells();\n",
       "                for (var i = 0; i < nbb_cells.length; ++i) {\n",
       "                    if (nbb_cells[i].input_prompt_number == nbb_cell_id) {\n",
       "                        if (nbb_cells[i].get_text() == nbb_unformatted_code) {\n",
       "                             nbb_cells[i].set_text(nbb_formatted_code);\n",
       "                        }\n",
       "                        break;\n",
       "                    }\n",
       "                }\n",
       "            }, 500);\n",
       "            "
      ],
      "text/plain": [
       "<IPython.core.display.Javascript object>"
      ]
     },
     "metadata": {},
     "output_type": "display_data"
    },
    {
     "data": {
      "application/javascript": [
       "\n",
       "            setTimeout(function() {\n",
       "                var nbb_cell_id = 217;\n",
       "                var nbb_unformatted_code = \"# create temp variables from each dataframe\\n\\njune = june_temps[\\\"Temperature\\\"]\\n\\ndec = dec_temps[\\\"Temperature\\\"]\";\n",
       "                var nbb_formatted_code = \"# create temp variables from each dataframe\\n\\njune = june_temps[\\\"Temperature\\\"]\\n\\ndec = dec_temps[\\\"Temperature\\\"]\";\n",
       "                var nbb_cells = Jupyter.notebook.get_cells();\n",
       "                for (var i = 0; i < nbb_cells.length; ++i) {\n",
       "                    if (nbb_cells[i].input_prompt_number == nbb_cell_id) {\n",
       "                        if (nbb_cells[i].get_text() == nbb_unformatted_code) {\n",
       "                             nbb_cells[i].set_text(nbb_formatted_code);\n",
       "                        }\n",
       "                        break;\n",
       "                    }\n",
       "                }\n",
       "            }, 500);\n",
       "            "
      ],
      "text/plain": [
       "<IPython.core.display.Javascript object>"
      ]
     },
     "metadata": {},
     "output_type": "display_data"
    }
   ],
   "source": [
    "# create temp variables from each dataframe\n",
    "\n",
    "june = june_temps[\"Temperature\"]\n",
    "\n",
    "dec = dec_temps[\"Temperature\"]"
   ]
  },
  {
   "cell_type": "code",
   "execution_count": 218,
   "metadata": {},
   "outputs": [
    {
     "data": {
      "text/plain": [
       "Ttest_indResult(statistic=31.60372399000329, pvalue=3.9025129038616655e-191)"
      ]
     },
     "execution_count": 218,
     "metadata": {},
     "output_type": "execute_result"
    },
    {
     "data": {
      "application/javascript": [
       "\n",
       "            setTimeout(function() {\n",
       "                var nbb_cell_id = 218;\n",
       "                var nbb_unformatted_code = \"# use the t-test to determine whether the difference in the means, if any, is statistically significant\\n\\nresults = ttest_ind(june, dec)\\n\\nresults\";\n",
       "                var nbb_formatted_code = \"# use the t-test to determine whether the difference in the means, if any, is statistically significant\\n\\nresults = ttest_ind(june, dec)\\n\\nresults\";\n",
       "                var nbb_cells = Jupyter.notebook.get_cells();\n",
       "                for (var i = 0; i < nbb_cells.length; ++i) {\n",
       "                    if (nbb_cells[i].input_prompt_number == nbb_cell_id) {\n",
       "                        if (nbb_cells[i].get_text() == nbb_unformatted_code) {\n",
       "                             nbb_cells[i].set_text(nbb_formatted_code);\n",
       "                        }\n",
       "                        break;\n",
       "                    }\n",
       "                }\n",
       "            }, 500);\n",
       "            "
      ],
      "text/plain": [
       "<IPython.core.display.Javascript object>"
      ]
     },
     "metadata": {},
     "output_type": "display_data"
    },
    {
     "data": {
      "application/javascript": [
       "\n",
       "            setTimeout(function() {\n",
       "                var nbb_cell_id = 218;\n",
       "                var nbb_unformatted_code = \"# use the t-test to determine whether the difference in the means, if any, is statistically significant\\n\\nresults = ttest_ind(june, dec)\\n\\nresults\";\n",
       "                var nbb_formatted_code = \"# use the t-test to determine whether the difference in the means, if any, is statistically significant\\n\\nresults = ttest_ind(june, dec)\\n\\nresults\";\n",
       "                var nbb_cells = Jupyter.notebook.get_cells();\n",
       "                for (var i = 0; i < nbb_cells.length; ++i) {\n",
       "                    if (nbb_cells[i].input_prompt_number == nbb_cell_id) {\n",
       "                        if (nbb_cells[i].get_text() == nbb_unformatted_code) {\n",
       "                             nbb_cells[i].set_text(nbb_formatted_code);\n",
       "                        }\n",
       "                        break;\n",
       "                    }\n",
       "                }\n",
       "            }, 500);\n",
       "            "
      ],
      "text/plain": [
       "<IPython.core.display.Javascript object>"
      ]
     },
     "metadata": {},
     "output_type": "display_data"
    },
    {
     "data": {
      "application/javascript": [
       "\n",
       "            setTimeout(function() {\n",
       "                var nbb_cell_id = 218;\n",
       "                var nbb_unformatted_code = \"# use the t-test to determine whether the difference in the means, if any, is statistically significant\\n\\nresults = ttest_ind(june, dec)\\n\\nresults\";\n",
       "                var nbb_formatted_code = \"# use the t-test to determine whether the difference in the means, if any, is statistically significant\\n\\nresults = ttest_ind(june, dec)\\n\\nresults\";\n",
       "                var nbb_cells = Jupyter.notebook.get_cells();\n",
       "                for (var i = 0; i < nbb_cells.length; ++i) {\n",
       "                    if (nbb_cells[i].input_prompt_number == nbb_cell_id) {\n",
       "                        if (nbb_cells[i].get_text() == nbb_unformatted_code) {\n",
       "                             nbb_cells[i].set_text(nbb_formatted_code);\n",
       "                        }\n",
       "                        break;\n",
       "                    }\n",
       "                }\n",
       "            }, 500);\n",
       "            "
      ],
      "text/plain": [
       "<IPython.core.display.Javascript object>"
      ]
     },
     "metadata": {},
     "output_type": "display_data"
    },
    {
     "data": {
      "application/javascript": [
       "\n",
       "            setTimeout(function() {\n",
       "                var nbb_cell_id = 218;\n",
       "                var nbb_unformatted_code = \"# use the t-test to determine whether the difference in the means, if any, is statistically significant\\n\\nresults = ttest_ind(june, dec)\\n\\nresults\";\n",
       "                var nbb_formatted_code = \"# use the t-test to determine whether the difference in the means, if any, is statistically significant\\n\\nresults = ttest_ind(june, dec)\\n\\nresults\";\n",
       "                var nbb_cells = Jupyter.notebook.get_cells();\n",
       "                for (var i = 0; i < nbb_cells.length; ++i) {\n",
       "                    if (nbb_cells[i].input_prompt_number == nbb_cell_id) {\n",
       "                        if (nbb_cells[i].get_text() == nbb_unformatted_code) {\n",
       "                             nbb_cells[i].set_text(nbb_formatted_code);\n",
       "                        }\n",
       "                        break;\n",
       "                    }\n",
       "                }\n",
       "            }, 500);\n",
       "            "
      ],
      "text/plain": [
       "<IPython.core.display.Javascript object>"
      ]
     },
     "metadata": {},
     "output_type": "display_data"
    },
    {
     "data": {
      "application/javascript": [
       "\n",
       "            setTimeout(function() {\n",
       "                var nbb_cell_id = 218;\n",
       "                var nbb_unformatted_code = \"# use the t-test to determine whether the difference in the means, if any, is statistically significant\\n\\nresults = ttest_ind(june, dec)\\n\\nresults\";\n",
       "                var nbb_formatted_code = \"# use the t-test to determine whether the difference in the means, if any, is statistically significant\\n\\nresults = ttest_ind(june, dec)\\n\\nresults\";\n",
       "                var nbb_cells = Jupyter.notebook.get_cells();\n",
       "                for (var i = 0; i < nbb_cells.length; ++i) {\n",
       "                    if (nbb_cells[i].input_prompt_number == nbb_cell_id) {\n",
       "                        if (nbb_cells[i].get_text() == nbb_unformatted_code) {\n",
       "                             nbb_cells[i].set_text(nbb_formatted_code);\n",
       "                        }\n",
       "                        break;\n",
       "                    }\n",
       "                }\n",
       "            }, 500);\n",
       "            "
      ],
      "text/plain": [
       "<IPython.core.display.Javascript object>"
      ]
     },
     "metadata": {},
     "output_type": "display_data"
    },
    {
     "data": {
      "application/javascript": [
       "\n",
       "            setTimeout(function() {\n",
       "                var nbb_cell_id = 218;\n",
       "                var nbb_unformatted_code = \"# use the t-test to determine whether the difference in the means, if any, is statistically significant\\n\\nresults = ttest_ind(june, dec)\\n\\nresults\";\n",
       "                var nbb_formatted_code = \"# use the t-test to determine whether the difference in the means, if any, is statistically significant\\n\\nresults = ttest_ind(june, dec)\\n\\nresults\";\n",
       "                var nbb_cells = Jupyter.notebook.get_cells();\n",
       "                for (var i = 0; i < nbb_cells.length; ++i) {\n",
       "                    if (nbb_cells[i].input_prompt_number == nbb_cell_id) {\n",
       "                        if (nbb_cells[i].get_text() == nbb_unformatted_code) {\n",
       "                             nbb_cells[i].set_text(nbb_formatted_code);\n",
       "                        }\n",
       "                        break;\n",
       "                    }\n",
       "                }\n",
       "            }, 500);\n",
       "            "
      ],
      "text/plain": [
       "<IPython.core.display.Javascript object>"
      ]
     },
     "metadata": {},
     "output_type": "display_data"
    },
    {
     "data": {
      "application/javascript": [
       "\n",
       "            setTimeout(function() {\n",
       "                var nbb_cell_id = 218;\n",
       "                var nbb_unformatted_code = \"# use the t-test to determine whether the difference in the means, if any, is statistically significant\\n\\nresults = ttest_ind(june, dec)\\n\\nresults\";\n",
       "                var nbb_formatted_code = \"# use the t-test to determine whether the difference in the means, if any, is statistically significant\\n\\nresults = ttest_ind(june, dec)\\n\\nresults\";\n",
       "                var nbb_cells = Jupyter.notebook.get_cells();\n",
       "                for (var i = 0; i < nbb_cells.length; ++i) {\n",
       "                    if (nbb_cells[i].input_prompt_number == nbb_cell_id) {\n",
       "                        if (nbb_cells[i].get_text() == nbb_unformatted_code) {\n",
       "                             nbb_cells[i].set_text(nbb_formatted_code);\n",
       "                        }\n",
       "                        break;\n",
       "                    }\n",
       "                }\n",
       "            }, 500);\n",
       "            "
      ],
      "text/plain": [
       "<IPython.core.display.Javascript object>"
      ]
     },
     "metadata": {},
     "output_type": "display_data"
    },
    {
     "data": {
      "application/javascript": [
       "\n",
       "            setTimeout(function() {\n",
       "                var nbb_cell_id = 218;\n",
       "                var nbb_unformatted_code = \"# use the t-test to determine whether the difference in the means, if any, is statistically significant\\n\\nresults = ttest_ind(june, dec)\\n\\nresults\";\n",
       "                var nbb_formatted_code = \"# use the t-test to determine whether the difference in the means, if any, is statistically significant\\n\\nresults = ttest_ind(june, dec)\\n\\nresults\";\n",
       "                var nbb_cells = Jupyter.notebook.get_cells();\n",
       "                for (var i = 0; i < nbb_cells.length; ++i) {\n",
       "                    if (nbb_cells[i].input_prompt_number == nbb_cell_id) {\n",
       "                        if (nbb_cells[i].get_text() == nbb_unformatted_code) {\n",
       "                             nbb_cells[i].set_text(nbb_formatted_code);\n",
       "                        }\n",
       "                        break;\n",
       "                    }\n",
       "                }\n",
       "            }, 500);\n",
       "            "
      ],
      "text/plain": [
       "<IPython.core.display.Javascript object>"
      ]
     },
     "metadata": {},
     "output_type": "display_data"
    }
   ],
   "source": [
    "# use the t-test to determine whether the difference in the means, if any, is statistically significant\n",
    "\n",
    "results = ttest_ind(june, dec)\n",
    "\n",
    "results"
   ]
  },
  {
   "cell_type": "markdown",
   "metadata": {},
   "source": [
    "#### T-test:\n",
    "\n",
    "Above, a paired t-test was used to calculate the means of two different independent samples: temperature for June vs temperature for December across all available years in the dataset. \n",
    "\n",
    "Results: t = 31.60, p = 3.90\n",
    "\n",
    "Concluion: With the p-value exceeding the 0.05 level of significance, there is not sufficient evidence to conclude that there is a significant difference in means between June and December temperatures across all years available. "
   ]
  },
  {
   "cell_type": "markdown",
   "metadata": {},
   "source": [
    "### Temperature Analysis II"
   ]
  },
  {
   "cell_type": "code",
   "execution_count": 219,
   "metadata": {},
   "outputs": [
    {
     "data": {
      "text/plain": [
       "(72.0, 77.0, 83.0)"
      ]
     },
     "execution_count": 219,
     "metadata": {},
     "output_type": "execute_result"
    },
    {
     "data": {
      "application/javascript": [
       "\n",
       "            setTimeout(function() {\n",
       "                var nbb_cell_id = 219;\n",
       "                var nbb_unformatted_code = \"# This function called `calc_temps` will accept start date and end date in the format '%Y-%m-%d' \\n# and return the minimum, average, and maximum temperatures for that range of dates\\ndef calc_temps(start_date, end_date):\\n    \\\"\\\"\\\"TMIN, TAVG, and TMAX for a list of dates.\\n    \\n    Args:\\n        start_date (string): A date string in the format %Y-%m-%d\\n        end_date (string): A date string in the format %Y-%m-%d\\n        \\n    Returns:\\n        TMIN, TAVE, and TMAX\\n    \\\"\\\"\\\"\\n    \\n    return session.query(func.min(Measurement.tobs), func.round(func.avg(Measurement.tobs)), func.max(Measurement.tobs))\\\\\\n        .filter(Measurement.date >= start_date).filter(Measurement.date <= end_date).all()[0]\\n\\n# display temp data for dates provided\\ntrip_temps = calc_temps(\\\"2017-06-10\\\", \\\"2017-06-20\\\")\\ntrip_temps\";\n",
       "                var nbb_formatted_code = \"# This function called `calc_temps` will accept start date and end date in the format '%Y-%m-%d'\\n# and return the minimum, average, and maximum temperatures for that range of dates\\ndef calc_temps(start_date, end_date):\\n    \\\"\\\"\\\"TMIN, TAVG, and TMAX for a list of dates.\\n    \\n    Args:\\n        start_date (string): A date string in the format %Y-%m-%d\\n        end_date (string): A date string in the format %Y-%m-%d\\n        \\n    Returns:\\n        TMIN, TAVE, and TMAX\\n    \\\"\\\"\\\"\\n\\n    return (\\n        session.query(\\n            func.min(Measurement.tobs),\\n            func.round(func.avg(Measurement.tobs)),\\n            func.max(Measurement.tobs),\\n        )\\n        .filter(Measurement.date >= start_date)\\n        .filter(Measurement.date <= end_date)\\n        .all()[0]\\n    )\\n\\n\\n# display temp data for dates provided\\ntrip_temps = calc_temps(\\\"2017-06-10\\\", \\\"2017-06-20\\\")\\ntrip_temps\";\n",
       "                var nbb_cells = Jupyter.notebook.get_cells();\n",
       "                for (var i = 0; i < nbb_cells.length; ++i) {\n",
       "                    if (nbb_cells[i].input_prompt_number == nbb_cell_id) {\n",
       "                        if (nbb_cells[i].get_text() == nbb_unformatted_code) {\n",
       "                             nbb_cells[i].set_text(nbb_formatted_code);\n",
       "                        }\n",
       "                        break;\n",
       "                    }\n",
       "                }\n",
       "            }, 500);\n",
       "            "
      ],
      "text/plain": [
       "<IPython.core.display.Javascript object>"
      ]
     },
     "metadata": {},
     "output_type": "display_data"
    },
    {
     "data": {
      "application/javascript": [
       "\n",
       "            setTimeout(function() {\n",
       "                var nbb_cell_id = 219;\n",
       "                var nbb_unformatted_code = \"# This function called `calc_temps` will accept start date and end date in the format '%Y-%m-%d' \\n# and return the minimum, average, and maximum temperatures for that range of dates\\ndef calc_temps(start_date, end_date):\\n    \\\"\\\"\\\"TMIN, TAVG, and TMAX for a list of dates.\\n    \\n    Args:\\n        start_date (string): A date string in the format %Y-%m-%d\\n        end_date (string): A date string in the format %Y-%m-%d\\n        \\n    Returns:\\n        TMIN, TAVE, and TMAX\\n    \\\"\\\"\\\"\\n    \\n    return session.query(func.min(Measurement.tobs), func.round(func.avg(Measurement.tobs)), func.max(Measurement.tobs))\\\\\\n        .filter(Measurement.date >= start_date).filter(Measurement.date <= end_date).all()[0]\\n\\n# display temp data for dates provided\\ntrip_temps = calc_temps(\\\"2017-06-10\\\", \\\"2017-06-20\\\")\\ntrip_temps\";\n",
       "                var nbb_formatted_code = \"# This function called `calc_temps` will accept start date and end date in the format '%Y-%m-%d'\\n# and return the minimum, average, and maximum temperatures for that range of dates\\ndef calc_temps(start_date, end_date):\\n    \\\"\\\"\\\"TMIN, TAVG, and TMAX for a list of dates.\\n    \\n    Args:\\n        start_date (string): A date string in the format %Y-%m-%d\\n        end_date (string): A date string in the format %Y-%m-%d\\n        \\n    Returns:\\n        TMIN, TAVE, and TMAX\\n    \\\"\\\"\\\"\\n\\n    return (\\n        session.query(\\n            func.min(Measurement.tobs),\\n            func.round(func.avg(Measurement.tobs)),\\n            func.max(Measurement.tobs),\\n        )\\n        .filter(Measurement.date >= start_date)\\n        .filter(Measurement.date <= end_date)\\n        .all()[0]\\n    )\\n\\n\\n# display temp data for dates provided\\ntrip_temps = calc_temps(\\\"2017-06-10\\\", \\\"2017-06-20\\\")\\ntrip_temps\";\n",
       "                var nbb_cells = Jupyter.notebook.get_cells();\n",
       "                for (var i = 0; i < nbb_cells.length; ++i) {\n",
       "                    if (nbb_cells[i].input_prompt_number == nbb_cell_id) {\n",
       "                        if (nbb_cells[i].get_text() == nbb_unformatted_code) {\n",
       "                             nbb_cells[i].set_text(nbb_formatted_code);\n",
       "                        }\n",
       "                        break;\n",
       "                    }\n",
       "                }\n",
       "            }, 500);\n",
       "            "
      ],
      "text/plain": [
       "<IPython.core.display.Javascript object>"
      ]
     },
     "metadata": {},
     "output_type": "display_data"
    },
    {
     "data": {
      "application/javascript": [
       "\n",
       "            setTimeout(function() {\n",
       "                var nbb_cell_id = 219;\n",
       "                var nbb_unformatted_code = \"# This function called `calc_temps` will accept start date and end date in the format '%Y-%m-%d' \\n# and return the minimum, average, and maximum temperatures for that range of dates\\ndef calc_temps(start_date, end_date):\\n    \\\"\\\"\\\"TMIN, TAVG, and TMAX for a list of dates.\\n    \\n    Args:\\n        start_date (string): A date string in the format %Y-%m-%d\\n        end_date (string): A date string in the format %Y-%m-%d\\n        \\n    Returns:\\n        TMIN, TAVE, and TMAX\\n    \\\"\\\"\\\"\\n    \\n    return session.query(func.min(Measurement.tobs), func.round(func.avg(Measurement.tobs)), func.max(Measurement.tobs))\\\\\\n        .filter(Measurement.date >= start_date).filter(Measurement.date <= end_date).all()[0]\\n\\n# display temp data for dates provided\\ntrip_temps = calc_temps(\\\"2017-06-10\\\", \\\"2017-06-20\\\")\\ntrip_temps\";\n",
       "                var nbb_formatted_code = \"# This function called `calc_temps` will accept start date and end date in the format '%Y-%m-%d'\\n# and return the minimum, average, and maximum temperatures for that range of dates\\ndef calc_temps(start_date, end_date):\\n    \\\"\\\"\\\"TMIN, TAVG, and TMAX for a list of dates.\\n    \\n    Args:\\n        start_date (string): A date string in the format %Y-%m-%d\\n        end_date (string): A date string in the format %Y-%m-%d\\n        \\n    Returns:\\n        TMIN, TAVE, and TMAX\\n    \\\"\\\"\\\"\\n\\n    return (\\n        session.query(\\n            func.min(Measurement.tobs),\\n            func.round(func.avg(Measurement.tobs)),\\n            func.max(Measurement.tobs),\\n        )\\n        .filter(Measurement.date >= start_date)\\n        .filter(Measurement.date <= end_date)\\n        .all()[0]\\n    )\\n\\n\\n# display temp data for dates provided\\ntrip_temps = calc_temps(\\\"2017-06-10\\\", \\\"2017-06-20\\\")\\ntrip_temps\";\n",
       "                var nbb_cells = Jupyter.notebook.get_cells();\n",
       "                for (var i = 0; i < nbb_cells.length; ++i) {\n",
       "                    if (nbb_cells[i].input_prompt_number == nbb_cell_id) {\n",
       "                        if (nbb_cells[i].get_text() == nbb_unformatted_code) {\n",
       "                             nbb_cells[i].set_text(nbb_formatted_code);\n",
       "                        }\n",
       "                        break;\n",
       "                    }\n",
       "                }\n",
       "            }, 500);\n",
       "            "
      ],
      "text/plain": [
       "<IPython.core.display.Javascript object>"
      ]
     },
     "metadata": {},
     "output_type": "display_data"
    },
    {
     "data": {
      "application/javascript": [
       "\n",
       "            setTimeout(function() {\n",
       "                var nbb_cell_id = 219;\n",
       "                var nbb_unformatted_code = \"# This function called `calc_temps` will accept start date and end date in the format '%Y-%m-%d' \\n# and return the minimum, average, and maximum temperatures for that range of dates\\ndef calc_temps(start_date, end_date):\\n    \\\"\\\"\\\"TMIN, TAVG, and TMAX for a list of dates.\\n    \\n    Args:\\n        start_date (string): A date string in the format %Y-%m-%d\\n        end_date (string): A date string in the format %Y-%m-%d\\n        \\n    Returns:\\n        TMIN, TAVE, and TMAX\\n    \\\"\\\"\\\"\\n    \\n    return session.query(func.min(Measurement.tobs), func.round(func.avg(Measurement.tobs)), func.max(Measurement.tobs))\\\\\\n        .filter(Measurement.date >= start_date).filter(Measurement.date <= end_date).all()[0]\\n\\n# display temp data for dates provided\\ntrip_temps = calc_temps(\\\"2017-06-10\\\", \\\"2017-06-20\\\")\\ntrip_temps\";\n",
       "                var nbb_formatted_code = \"# This function called `calc_temps` will accept start date and end date in the format '%Y-%m-%d'\\n# and return the minimum, average, and maximum temperatures for that range of dates\\ndef calc_temps(start_date, end_date):\\n    \\\"\\\"\\\"TMIN, TAVG, and TMAX for a list of dates.\\n    \\n    Args:\\n        start_date (string): A date string in the format %Y-%m-%d\\n        end_date (string): A date string in the format %Y-%m-%d\\n        \\n    Returns:\\n        TMIN, TAVE, and TMAX\\n    \\\"\\\"\\\"\\n\\n    return (\\n        session.query(\\n            func.min(Measurement.tobs),\\n            func.round(func.avg(Measurement.tobs)),\\n            func.max(Measurement.tobs),\\n        )\\n        .filter(Measurement.date >= start_date)\\n        .filter(Measurement.date <= end_date)\\n        .all()[0]\\n    )\\n\\n\\n# display temp data for dates provided\\ntrip_temps = calc_temps(\\\"2017-06-10\\\", \\\"2017-06-20\\\")\\ntrip_temps\";\n",
       "                var nbb_cells = Jupyter.notebook.get_cells();\n",
       "                for (var i = 0; i < nbb_cells.length; ++i) {\n",
       "                    if (nbb_cells[i].input_prompt_number == nbb_cell_id) {\n",
       "                        if (nbb_cells[i].get_text() == nbb_unformatted_code) {\n",
       "                             nbb_cells[i].set_text(nbb_formatted_code);\n",
       "                        }\n",
       "                        break;\n",
       "                    }\n",
       "                }\n",
       "            }, 500);\n",
       "            "
      ],
      "text/plain": [
       "<IPython.core.display.Javascript object>"
      ]
     },
     "metadata": {},
     "output_type": "display_data"
    },
    {
     "data": {
      "application/javascript": [
       "\n",
       "            setTimeout(function() {\n",
       "                var nbb_cell_id = 219;\n",
       "                var nbb_unformatted_code = \"# This function called `calc_temps` will accept start date and end date in the format '%Y-%m-%d' \\n# and return the minimum, average, and maximum temperatures for that range of dates\\ndef calc_temps(start_date, end_date):\\n    \\\"\\\"\\\"TMIN, TAVG, and TMAX for a list of dates.\\n    \\n    Args:\\n        start_date (string): A date string in the format %Y-%m-%d\\n        end_date (string): A date string in the format %Y-%m-%d\\n        \\n    Returns:\\n        TMIN, TAVE, and TMAX\\n    \\\"\\\"\\\"\\n    \\n    return session.query(func.min(Measurement.tobs), func.round(func.avg(Measurement.tobs)), func.max(Measurement.tobs))\\\\\\n        .filter(Measurement.date >= start_date).filter(Measurement.date <= end_date).all()[0]\\n\\n# display temp data for dates provided\\ntrip_temps = calc_temps(\\\"2017-06-10\\\", \\\"2017-06-20\\\")\\ntrip_temps\";\n",
       "                var nbb_formatted_code = \"# This function called `calc_temps` will accept start date and end date in the format '%Y-%m-%d'\\n# and return the minimum, average, and maximum temperatures for that range of dates\\ndef calc_temps(start_date, end_date):\\n    \\\"\\\"\\\"TMIN, TAVG, and TMAX for a list of dates.\\n    \\n    Args:\\n        start_date (string): A date string in the format %Y-%m-%d\\n        end_date (string): A date string in the format %Y-%m-%d\\n        \\n    Returns:\\n        TMIN, TAVE, and TMAX\\n    \\\"\\\"\\\"\\n\\n    return (\\n        session.query(\\n            func.min(Measurement.tobs),\\n            func.round(func.avg(Measurement.tobs)),\\n            func.max(Measurement.tobs),\\n        )\\n        .filter(Measurement.date >= start_date)\\n        .filter(Measurement.date <= end_date)\\n        .all()[0]\\n    )\\n\\n\\n# display temp data for dates provided\\ntrip_temps = calc_temps(\\\"2017-06-10\\\", \\\"2017-06-20\\\")\\ntrip_temps\";\n",
       "                var nbb_cells = Jupyter.notebook.get_cells();\n",
       "                for (var i = 0; i < nbb_cells.length; ++i) {\n",
       "                    if (nbb_cells[i].input_prompt_number == nbb_cell_id) {\n",
       "                        if (nbb_cells[i].get_text() == nbb_unformatted_code) {\n",
       "                             nbb_cells[i].set_text(nbb_formatted_code);\n",
       "                        }\n",
       "                        break;\n",
       "                    }\n",
       "                }\n",
       "            }, 500);\n",
       "            "
      ],
      "text/plain": [
       "<IPython.core.display.Javascript object>"
      ]
     },
     "metadata": {},
     "output_type": "display_data"
    },
    {
     "data": {
      "application/javascript": [
       "\n",
       "            setTimeout(function() {\n",
       "                var nbb_cell_id = 219;\n",
       "                var nbb_unformatted_code = \"# This function called `calc_temps` will accept start date and end date in the format '%Y-%m-%d' \\n# and return the minimum, average, and maximum temperatures for that range of dates\\ndef calc_temps(start_date, end_date):\\n    \\\"\\\"\\\"TMIN, TAVG, and TMAX for a list of dates.\\n    \\n    Args:\\n        start_date (string): A date string in the format %Y-%m-%d\\n        end_date (string): A date string in the format %Y-%m-%d\\n        \\n    Returns:\\n        TMIN, TAVE, and TMAX\\n    \\\"\\\"\\\"\\n    \\n    return session.query(func.min(Measurement.tobs), func.round(func.avg(Measurement.tobs)), func.max(Measurement.tobs))\\\\\\n        .filter(Measurement.date >= start_date).filter(Measurement.date <= end_date).all()[0]\\n\\n# display temp data for dates provided\\ntrip_temps = calc_temps(\\\"2017-06-10\\\", \\\"2017-06-20\\\")\\ntrip_temps\";\n",
       "                var nbb_formatted_code = \"# This function called `calc_temps` will accept start date and end date in the format '%Y-%m-%d'\\n# and return the minimum, average, and maximum temperatures for that range of dates\\ndef calc_temps(start_date, end_date):\\n    \\\"\\\"\\\"TMIN, TAVG, and TMAX for a list of dates.\\n    \\n    Args:\\n        start_date (string): A date string in the format %Y-%m-%d\\n        end_date (string): A date string in the format %Y-%m-%d\\n        \\n    Returns:\\n        TMIN, TAVE, and TMAX\\n    \\\"\\\"\\\"\\n\\n    return (\\n        session.query(\\n            func.min(Measurement.tobs),\\n            func.round(func.avg(Measurement.tobs)),\\n            func.max(Measurement.tobs),\\n        )\\n        .filter(Measurement.date >= start_date)\\n        .filter(Measurement.date <= end_date)\\n        .all()[0]\\n    )\\n\\n\\n# display temp data for dates provided\\ntrip_temps = calc_temps(\\\"2017-06-10\\\", \\\"2017-06-20\\\")\\ntrip_temps\";\n",
       "                var nbb_cells = Jupyter.notebook.get_cells();\n",
       "                for (var i = 0; i < nbb_cells.length; ++i) {\n",
       "                    if (nbb_cells[i].input_prompt_number == nbb_cell_id) {\n",
       "                        if (nbb_cells[i].get_text() == nbb_unformatted_code) {\n",
       "                             nbb_cells[i].set_text(nbb_formatted_code);\n",
       "                        }\n",
       "                        break;\n",
       "                    }\n",
       "                }\n",
       "            }, 500);\n",
       "            "
      ],
      "text/plain": [
       "<IPython.core.display.Javascript object>"
      ]
     },
     "metadata": {},
     "output_type": "display_data"
    },
    {
     "data": {
      "application/javascript": [
       "\n",
       "            setTimeout(function() {\n",
       "                var nbb_cell_id = 219;\n",
       "                var nbb_unformatted_code = \"# This function called `calc_temps` will accept start date and end date in the format '%Y-%m-%d' \\n# and return the minimum, average, and maximum temperatures for that range of dates\\ndef calc_temps(start_date, end_date):\\n    \\\"\\\"\\\"TMIN, TAVG, and TMAX for a list of dates.\\n    \\n    Args:\\n        start_date (string): A date string in the format %Y-%m-%d\\n        end_date (string): A date string in the format %Y-%m-%d\\n        \\n    Returns:\\n        TMIN, TAVE, and TMAX\\n    \\\"\\\"\\\"\\n    \\n    return session.query(func.min(Measurement.tobs), func.round(func.avg(Measurement.tobs)), func.max(Measurement.tobs))\\\\\\n        .filter(Measurement.date >= start_date).filter(Measurement.date <= end_date).all()[0]\\n\\n# display temp data for dates provided\\ntrip_temps = calc_temps(\\\"2017-06-10\\\", \\\"2017-06-20\\\")\\ntrip_temps\";\n",
       "                var nbb_formatted_code = \"# This function called `calc_temps` will accept start date and end date in the format '%Y-%m-%d'\\n# and return the minimum, average, and maximum temperatures for that range of dates\\ndef calc_temps(start_date, end_date):\\n    \\\"\\\"\\\"TMIN, TAVG, and TMAX for a list of dates.\\n    \\n    Args:\\n        start_date (string): A date string in the format %Y-%m-%d\\n        end_date (string): A date string in the format %Y-%m-%d\\n        \\n    Returns:\\n        TMIN, TAVE, and TMAX\\n    \\\"\\\"\\\"\\n\\n    return (\\n        session.query(\\n            func.min(Measurement.tobs),\\n            func.round(func.avg(Measurement.tobs)),\\n            func.max(Measurement.tobs),\\n        )\\n        .filter(Measurement.date >= start_date)\\n        .filter(Measurement.date <= end_date)\\n        .all()[0]\\n    )\\n\\n\\n# display temp data for dates provided\\ntrip_temps = calc_temps(\\\"2017-06-10\\\", \\\"2017-06-20\\\")\\ntrip_temps\";\n",
       "                var nbb_cells = Jupyter.notebook.get_cells();\n",
       "                for (var i = 0; i < nbb_cells.length; ++i) {\n",
       "                    if (nbb_cells[i].input_prompt_number == nbb_cell_id) {\n",
       "                        if (nbb_cells[i].get_text() == nbb_unformatted_code) {\n",
       "                             nbb_cells[i].set_text(nbb_formatted_code);\n",
       "                        }\n",
       "                        break;\n",
       "                    }\n",
       "                }\n",
       "            }, 500);\n",
       "            "
      ],
      "text/plain": [
       "<IPython.core.display.Javascript object>"
      ]
     },
     "metadata": {},
     "output_type": "display_data"
    },
    {
     "data": {
      "application/javascript": [
       "\n",
       "            setTimeout(function() {\n",
       "                var nbb_cell_id = 219;\n",
       "                var nbb_unformatted_code = \"# This function called `calc_temps` will accept start date and end date in the format '%Y-%m-%d' \\n# and return the minimum, average, and maximum temperatures for that range of dates\\ndef calc_temps(start_date, end_date):\\n    \\\"\\\"\\\"TMIN, TAVG, and TMAX for a list of dates.\\n    \\n    Args:\\n        start_date (string): A date string in the format %Y-%m-%d\\n        end_date (string): A date string in the format %Y-%m-%d\\n        \\n    Returns:\\n        TMIN, TAVE, and TMAX\\n    \\\"\\\"\\\"\\n    \\n    return session.query(func.min(Measurement.tobs), func.round(func.avg(Measurement.tobs)), func.max(Measurement.tobs))\\\\\\n        .filter(Measurement.date >= start_date).filter(Measurement.date <= end_date).all()[0]\\n\\n# display temp data for dates provided\\ntrip_temps = calc_temps(\\\"2017-06-10\\\", \\\"2017-06-20\\\")\\ntrip_temps\";\n",
       "                var nbb_formatted_code = \"# This function called `calc_temps` will accept start date and end date in the format '%Y-%m-%d'\\n# and return the minimum, average, and maximum temperatures for that range of dates\\ndef calc_temps(start_date, end_date):\\n    \\\"\\\"\\\"TMIN, TAVG, and TMAX for a list of dates.\\n    \\n    Args:\\n        start_date (string): A date string in the format %Y-%m-%d\\n        end_date (string): A date string in the format %Y-%m-%d\\n        \\n    Returns:\\n        TMIN, TAVE, and TMAX\\n    \\\"\\\"\\\"\\n\\n    return (\\n        session.query(\\n            func.min(Measurement.tobs),\\n            func.round(func.avg(Measurement.tobs)),\\n            func.max(Measurement.tobs),\\n        )\\n        .filter(Measurement.date >= start_date)\\n        .filter(Measurement.date <= end_date)\\n        .all()[0]\\n    )\\n\\n\\n# display temp data for dates provided\\ntrip_temps = calc_temps(\\\"2017-06-10\\\", \\\"2017-06-20\\\")\\ntrip_temps\";\n",
       "                var nbb_cells = Jupyter.notebook.get_cells();\n",
       "                for (var i = 0; i < nbb_cells.length; ++i) {\n",
       "                    if (nbb_cells[i].input_prompt_number == nbb_cell_id) {\n",
       "                        if (nbb_cells[i].get_text() == nbb_unformatted_code) {\n",
       "                             nbb_cells[i].set_text(nbb_formatted_code);\n",
       "                        }\n",
       "                        break;\n",
       "                    }\n",
       "                }\n",
       "            }, 500);\n",
       "            "
      ],
      "text/plain": [
       "<IPython.core.display.Javascript object>"
      ]
     },
     "metadata": {},
     "output_type": "display_data"
    }
   ],
   "source": [
    "# This function called `calc_temps` will accept start date and end date in the format '%Y-%m-%d' \n",
    "# and return the minimum, average, and maximum temperatures for that range of dates\n",
    "def calc_temps(start_date, end_date):\n",
    "    \"\"\"TMIN, TAVG, and TMAX for a list of dates.\n",
    "    \n",
    "    Args:\n",
    "        start_date (string): A date string in the format %Y-%m-%d\n",
    "        end_date (string): A date string in the format %Y-%m-%d\n",
    "        \n",
    "    Returns:\n",
    "        TMIN, TAVE, and TMAX\n",
    "    \"\"\"\n",
    "    \n",
    "    return session.query(func.min(Measurement.tobs), func.round(func.avg(Measurement.tobs)), func.max(Measurement.tobs))\\\n",
    "        .filter(Measurement.date >= start_date).filter(Measurement.date <= end_date).all()[0]\n",
    "\n",
    "# display temp data for dates provided\n",
    "trip_temps = calc_temps(\"2017-06-10\", \"2017-06-20\")\n",
    "trip_temps"
   ]
  },
  {
   "cell_type": "code",
   "execution_count": 220,
   "metadata": {},
   "outputs": [
    {
     "data": {
      "text/html": [
       "<div>\n",
       "<style scoped>\n",
       "    .dataframe tbody tr th:only-of-type {\n",
       "        vertical-align: middle;\n",
       "    }\n",
       "\n",
       "    .dataframe tbody tr th {\n",
       "        vertical-align: top;\n",
       "    }\n",
       "\n",
       "    .dataframe thead th {\n",
       "        text-align: right;\n",
       "    }\n",
       "</style>\n",
       "<table border=\"1\" class=\"dataframe\">\n",
       "  <thead>\n",
       "    <tr style=\"text-align: right;\">\n",
       "      <th></th>\n",
       "      <th>Temp</th>\n",
       "    </tr>\n",
       "  </thead>\n",
       "  <tbody>\n",
       "    <tr>\n",
       "      <th>Min</th>\n",
       "      <td>72.0</td>\n",
       "    </tr>\n",
       "    <tr>\n",
       "      <th>Avg</th>\n",
       "      <td>77.0</td>\n",
       "    </tr>\n",
       "    <tr>\n",
       "      <th>Max</th>\n",
       "      <td>83.0</td>\n",
       "    </tr>\n",
       "  </tbody>\n",
       "</table>\n",
       "</div>"
      ],
      "text/plain": [
       "     Temp\n",
       "Min  72.0\n",
       "Avg  77.0\n",
       "Max  83.0"
      ]
     },
     "execution_count": 220,
     "metadata": {},
     "output_type": "execute_result"
    },
    {
     "data": {
      "application/javascript": [
       "\n",
       "            setTimeout(function() {\n",
       "                var nbb_cell_id = 220;\n",
       "                var nbb_unformatted_code = \"# convert to dataframe for plotting\\n\\nkeys = [\\\"Min\\\", \\\"Avg\\\", \\\"Max\\\"]\\n\\ndict_temps = {keys[i]: trip_temps[i] for i in range(len(trip_temps))}\\n\\ntemp_df = pd.DataFrame.from_dict(dict_temps, orient=\\\"index\\\", columns=[\\\"Temp\\\"])\\n\\ntemp_df\";\n",
       "                var nbb_formatted_code = \"# convert to dataframe for plotting\\n\\nkeys = [\\\"Min\\\", \\\"Avg\\\", \\\"Max\\\"]\\n\\ndict_temps = {keys[i]: trip_temps[i] for i in range(len(trip_temps))}\\n\\ntemp_df = pd.DataFrame.from_dict(dict_temps, orient=\\\"index\\\", columns=[\\\"Temp\\\"])\\n\\ntemp_df\";\n",
       "                var nbb_cells = Jupyter.notebook.get_cells();\n",
       "                for (var i = 0; i < nbb_cells.length; ++i) {\n",
       "                    if (nbb_cells[i].input_prompt_number == nbb_cell_id) {\n",
       "                        if (nbb_cells[i].get_text() == nbb_unformatted_code) {\n",
       "                             nbb_cells[i].set_text(nbb_formatted_code);\n",
       "                        }\n",
       "                        break;\n",
       "                    }\n",
       "                }\n",
       "            }, 500);\n",
       "            "
      ],
      "text/plain": [
       "<IPython.core.display.Javascript object>"
      ]
     },
     "metadata": {},
     "output_type": "display_data"
    },
    {
     "data": {
      "application/javascript": [
       "\n",
       "            setTimeout(function() {\n",
       "                var nbb_cell_id = 220;\n",
       "                var nbb_unformatted_code = \"# convert to dataframe for plotting\\n\\nkeys = [\\\"Min\\\", \\\"Avg\\\", \\\"Max\\\"]\\n\\ndict_temps = {keys[i]: trip_temps[i] for i in range(len(trip_temps))}\\n\\ntemp_df = pd.DataFrame.from_dict(dict_temps, orient=\\\"index\\\", columns=[\\\"Temp\\\"])\\n\\ntemp_df\";\n",
       "                var nbb_formatted_code = \"# convert to dataframe for plotting\\n\\nkeys = [\\\"Min\\\", \\\"Avg\\\", \\\"Max\\\"]\\n\\ndict_temps = {keys[i]: trip_temps[i] for i in range(len(trip_temps))}\\n\\ntemp_df = pd.DataFrame.from_dict(dict_temps, orient=\\\"index\\\", columns=[\\\"Temp\\\"])\\n\\ntemp_df\";\n",
       "                var nbb_cells = Jupyter.notebook.get_cells();\n",
       "                for (var i = 0; i < nbb_cells.length; ++i) {\n",
       "                    if (nbb_cells[i].input_prompt_number == nbb_cell_id) {\n",
       "                        if (nbb_cells[i].get_text() == nbb_unformatted_code) {\n",
       "                             nbb_cells[i].set_text(nbb_formatted_code);\n",
       "                        }\n",
       "                        break;\n",
       "                    }\n",
       "                }\n",
       "            }, 500);\n",
       "            "
      ],
      "text/plain": [
       "<IPython.core.display.Javascript object>"
      ]
     },
     "metadata": {},
     "output_type": "display_data"
    },
    {
     "data": {
      "application/javascript": [
       "\n",
       "            setTimeout(function() {\n",
       "                var nbb_cell_id = 220;\n",
       "                var nbb_unformatted_code = \"# convert to dataframe for plotting\\n\\nkeys = [\\\"Min\\\", \\\"Avg\\\", \\\"Max\\\"]\\n\\ndict_temps = {keys[i]: trip_temps[i] for i in range(len(trip_temps))}\\n\\ntemp_df = pd.DataFrame.from_dict(dict_temps, orient=\\\"index\\\", columns=[\\\"Temp\\\"])\\n\\ntemp_df\";\n",
       "                var nbb_formatted_code = \"# convert to dataframe for plotting\\n\\nkeys = [\\\"Min\\\", \\\"Avg\\\", \\\"Max\\\"]\\n\\ndict_temps = {keys[i]: trip_temps[i] for i in range(len(trip_temps))}\\n\\ntemp_df = pd.DataFrame.from_dict(dict_temps, orient=\\\"index\\\", columns=[\\\"Temp\\\"])\\n\\ntemp_df\";\n",
       "                var nbb_cells = Jupyter.notebook.get_cells();\n",
       "                for (var i = 0; i < nbb_cells.length; ++i) {\n",
       "                    if (nbb_cells[i].input_prompt_number == nbb_cell_id) {\n",
       "                        if (nbb_cells[i].get_text() == nbb_unformatted_code) {\n",
       "                             nbb_cells[i].set_text(nbb_formatted_code);\n",
       "                        }\n",
       "                        break;\n",
       "                    }\n",
       "                }\n",
       "            }, 500);\n",
       "            "
      ],
      "text/plain": [
       "<IPython.core.display.Javascript object>"
      ]
     },
     "metadata": {},
     "output_type": "display_data"
    },
    {
     "data": {
      "application/javascript": [
       "\n",
       "            setTimeout(function() {\n",
       "                var nbb_cell_id = 220;\n",
       "                var nbb_unformatted_code = \"# convert to dataframe for plotting\\n\\nkeys = [\\\"Min\\\", \\\"Avg\\\", \\\"Max\\\"]\\n\\ndict_temps = {keys[i]: trip_temps[i] for i in range(len(trip_temps))}\\n\\ntemp_df = pd.DataFrame.from_dict(dict_temps, orient=\\\"index\\\", columns=[\\\"Temp\\\"])\\n\\ntemp_df\";\n",
       "                var nbb_formatted_code = \"# convert to dataframe for plotting\\n\\nkeys = [\\\"Min\\\", \\\"Avg\\\", \\\"Max\\\"]\\n\\ndict_temps = {keys[i]: trip_temps[i] for i in range(len(trip_temps))}\\n\\ntemp_df = pd.DataFrame.from_dict(dict_temps, orient=\\\"index\\\", columns=[\\\"Temp\\\"])\\n\\ntemp_df\";\n",
       "                var nbb_cells = Jupyter.notebook.get_cells();\n",
       "                for (var i = 0; i < nbb_cells.length; ++i) {\n",
       "                    if (nbb_cells[i].input_prompt_number == nbb_cell_id) {\n",
       "                        if (nbb_cells[i].get_text() == nbb_unformatted_code) {\n",
       "                             nbb_cells[i].set_text(nbb_formatted_code);\n",
       "                        }\n",
       "                        break;\n",
       "                    }\n",
       "                }\n",
       "            }, 500);\n",
       "            "
      ],
      "text/plain": [
       "<IPython.core.display.Javascript object>"
      ]
     },
     "metadata": {},
     "output_type": "display_data"
    },
    {
     "data": {
      "application/javascript": [
       "\n",
       "            setTimeout(function() {\n",
       "                var nbb_cell_id = 220;\n",
       "                var nbb_unformatted_code = \"# convert to dataframe for plotting\\n\\nkeys = [\\\"Min\\\", \\\"Avg\\\", \\\"Max\\\"]\\n\\ndict_temps = {keys[i]: trip_temps[i] for i in range(len(trip_temps))}\\n\\ntemp_df = pd.DataFrame.from_dict(dict_temps, orient=\\\"index\\\", columns=[\\\"Temp\\\"])\\n\\ntemp_df\";\n",
       "                var nbb_formatted_code = \"# convert to dataframe for plotting\\n\\nkeys = [\\\"Min\\\", \\\"Avg\\\", \\\"Max\\\"]\\n\\ndict_temps = {keys[i]: trip_temps[i] for i in range(len(trip_temps))}\\n\\ntemp_df = pd.DataFrame.from_dict(dict_temps, orient=\\\"index\\\", columns=[\\\"Temp\\\"])\\n\\ntemp_df\";\n",
       "                var nbb_cells = Jupyter.notebook.get_cells();\n",
       "                for (var i = 0; i < nbb_cells.length; ++i) {\n",
       "                    if (nbb_cells[i].input_prompt_number == nbb_cell_id) {\n",
       "                        if (nbb_cells[i].get_text() == nbb_unformatted_code) {\n",
       "                             nbb_cells[i].set_text(nbb_formatted_code);\n",
       "                        }\n",
       "                        break;\n",
       "                    }\n",
       "                }\n",
       "            }, 500);\n",
       "            "
      ],
      "text/plain": [
       "<IPython.core.display.Javascript object>"
      ]
     },
     "metadata": {},
     "output_type": "display_data"
    },
    {
     "data": {
      "application/javascript": [
       "\n",
       "            setTimeout(function() {\n",
       "                var nbb_cell_id = 220;\n",
       "                var nbb_unformatted_code = \"# convert to dataframe for plotting\\n\\nkeys = [\\\"Min\\\", \\\"Avg\\\", \\\"Max\\\"]\\n\\ndict_temps = {keys[i]: trip_temps[i] for i in range(len(trip_temps))}\\n\\ntemp_df = pd.DataFrame.from_dict(dict_temps, orient=\\\"index\\\", columns=[\\\"Temp\\\"])\\n\\ntemp_df\";\n",
       "                var nbb_formatted_code = \"# convert to dataframe for plotting\\n\\nkeys = [\\\"Min\\\", \\\"Avg\\\", \\\"Max\\\"]\\n\\ndict_temps = {keys[i]: trip_temps[i] for i in range(len(trip_temps))}\\n\\ntemp_df = pd.DataFrame.from_dict(dict_temps, orient=\\\"index\\\", columns=[\\\"Temp\\\"])\\n\\ntemp_df\";\n",
       "                var nbb_cells = Jupyter.notebook.get_cells();\n",
       "                for (var i = 0; i < nbb_cells.length; ++i) {\n",
       "                    if (nbb_cells[i].input_prompt_number == nbb_cell_id) {\n",
       "                        if (nbb_cells[i].get_text() == nbb_unformatted_code) {\n",
       "                             nbb_cells[i].set_text(nbb_formatted_code);\n",
       "                        }\n",
       "                        break;\n",
       "                    }\n",
       "                }\n",
       "            }, 500);\n",
       "            "
      ],
      "text/plain": [
       "<IPython.core.display.Javascript object>"
      ]
     },
     "metadata": {},
     "output_type": "display_data"
    },
    {
     "data": {
      "application/javascript": [
       "\n",
       "            setTimeout(function() {\n",
       "                var nbb_cell_id = 220;\n",
       "                var nbb_unformatted_code = \"# convert to dataframe for plotting\\n\\nkeys = [\\\"Min\\\", \\\"Avg\\\", \\\"Max\\\"]\\n\\ndict_temps = {keys[i]: trip_temps[i] for i in range(len(trip_temps))}\\n\\ntemp_df = pd.DataFrame.from_dict(dict_temps, orient=\\\"index\\\", columns=[\\\"Temp\\\"])\\n\\ntemp_df\";\n",
       "                var nbb_formatted_code = \"# convert to dataframe for plotting\\n\\nkeys = [\\\"Min\\\", \\\"Avg\\\", \\\"Max\\\"]\\n\\ndict_temps = {keys[i]: trip_temps[i] for i in range(len(trip_temps))}\\n\\ntemp_df = pd.DataFrame.from_dict(dict_temps, orient=\\\"index\\\", columns=[\\\"Temp\\\"])\\n\\ntemp_df\";\n",
       "                var nbb_cells = Jupyter.notebook.get_cells();\n",
       "                for (var i = 0; i < nbb_cells.length; ++i) {\n",
       "                    if (nbb_cells[i].input_prompt_number == nbb_cell_id) {\n",
       "                        if (nbb_cells[i].get_text() == nbb_unformatted_code) {\n",
       "                             nbb_cells[i].set_text(nbb_formatted_code);\n",
       "                        }\n",
       "                        break;\n",
       "                    }\n",
       "                }\n",
       "            }, 500);\n",
       "            "
      ],
      "text/plain": [
       "<IPython.core.display.Javascript object>"
      ]
     },
     "metadata": {},
     "output_type": "display_data"
    },
    {
     "data": {
      "application/javascript": [
       "\n",
       "            setTimeout(function() {\n",
       "                var nbb_cell_id = 220;\n",
       "                var nbb_unformatted_code = \"# convert to dataframe for plotting\\n\\nkeys = [\\\"Min\\\", \\\"Avg\\\", \\\"Max\\\"]\\n\\ndict_temps = {keys[i]: trip_temps[i] for i in range(len(trip_temps))}\\n\\ntemp_df = pd.DataFrame.from_dict(dict_temps, orient=\\\"index\\\", columns=[\\\"Temp\\\"])\\n\\ntemp_df\";\n",
       "                var nbb_formatted_code = \"# convert to dataframe for plotting\\n\\nkeys = [\\\"Min\\\", \\\"Avg\\\", \\\"Max\\\"]\\n\\ndict_temps = {keys[i]: trip_temps[i] for i in range(len(trip_temps))}\\n\\ntemp_df = pd.DataFrame.from_dict(dict_temps, orient=\\\"index\\\", columns=[\\\"Temp\\\"])\\n\\ntemp_df\";\n",
       "                var nbb_cells = Jupyter.notebook.get_cells();\n",
       "                for (var i = 0; i < nbb_cells.length; ++i) {\n",
       "                    if (nbb_cells[i].input_prompt_number == nbb_cell_id) {\n",
       "                        if (nbb_cells[i].get_text() == nbb_unformatted_code) {\n",
       "                             nbb_cells[i].set_text(nbb_formatted_code);\n",
       "                        }\n",
       "                        break;\n",
       "                    }\n",
       "                }\n",
       "            }, 500);\n",
       "            "
      ],
      "text/plain": [
       "<IPython.core.display.Javascript object>"
      ]
     },
     "metadata": {},
     "output_type": "display_data"
    }
   ],
   "source": [
    "# convert to dataframe for plotting\n",
    "\n",
    "keys = [\"Min\", \"Avg\", \"Max\"]\n",
    "\n",
    "dict_temps = {keys[i]: trip_temps[i] for i in range(len(trip_temps))}\n",
    "\n",
    "temp_df = pd.DataFrame.from_dict(dict_temps, orient=\"index\", columns=[\"Temp\"])\n",
    "\n",
    "temp_df"
   ]
  },
  {
   "cell_type": "code",
   "execution_count": 221,
   "metadata": {},
   "outputs": [
    {
     "data": {
      "image/png": "[encoded data removed]",
      "text/plain": [
       "<Figure size 216x576 with 1 Axes>"
      ]
     },
     "metadata": {},
     "output_type": "display_data"
    },
    {
     "data": {
      "application/javascript": [
       "\n",
       "            setTimeout(function() {\n",
       "                var nbb_cell_id = 221;\n",
       "                var nbb_unformatted_code = \"# plot average temp as a bar plot with peak to peak\\n# calculate standard deviation to plot yerr\\nmin_max = [72, 83]\\ntemp_std = np.std(min_max)\\nerror = temp_std\\n\\n# plot bar char\\ntemp_df[1:2].plot(kind=\\\"bar\\\", figsize=(3,8), ylim=(0,100), color=\\\"lightsalmon\\\", alpha=0.5, legend=False, yerr=error)\\nplt.title(\\\"Trip Avg Temp\\\")\\nplt.ylabel(\\\"Temp (F)\\\")\\nplt.savefig(\\\"Images/avg_temp_bonus.png\\\")\\nplt.show()\";\n",
       "                var nbb_formatted_code = \"# plot average temp as a bar plot with peak to peak\\n# calculate standard deviation to plot yerr\\nmin_max = [72, 83]\\ntemp_std = np.std(min_max)\\nerror = temp_std\\n\\n# plot bar char\\ntemp_df[1:2].plot(\\n    kind=\\\"bar\\\",\\n    figsize=(3, 8),\\n    ylim=(0, 100),\\n    color=\\\"lightsalmon\\\",\\n    alpha=0.5,\\n    legend=False,\\n    yerr=error,\\n)\\nplt.title(\\\"Trip Avg Temp\\\")\\nplt.ylabel(\\\"Temp (F)\\\")\\nplt.savefig(\\\"Images/avg_temp_bonus.png\\\")\\nplt.show()\";\n",
       "                var nbb_cells = Jupyter.notebook.get_cells();\n",
       "                for (var i = 0; i < nbb_cells.length; ++i) {\n",
       "                    if (nbb_cells[i].input_prompt_number == nbb_cell_id) {\n",
       "                        if (nbb_cells[i].get_text() == nbb_unformatted_code) {\n",
       "                             nbb_cells[i].set_text(nbb_formatted_code);\n",
       "                        }\n",
       "                        break;\n",
       "                    }\n",
       "                }\n",
       "            }, 500);\n",
       "            "
      ],
      "text/plain": [
       "<IPython.core.display.Javascript object>"
      ]
     },
     "metadata": {},
     "output_type": "display_data"
    },
    {
     "data": {
      "application/javascript": [
       "\n",
       "            setTimeout(function() {\n",
       "                var nbb_cell_id = 221;\n",
       "                var nbb_unformatted_code = \"# plot average temp as a bar plot with peak to peak\\n# calculate standard deviation to plot yerr\\nmin_max = [72, 83]\\ntemp_std = np.std(min_max)\\nerror = temp_std\\n\\n# plot bar char\\ntemp_df[1:2].plot(kind=\\\"bar\\\", figsize=(3,8), ylim=(0,100), color=\\\"lightsalmon\\\", alpha=0.5, legend=False, yerr=error)\\nplt.title(\\\"Trip Avg Temp\\\")\\nplt.ylabel(\\\"Temp (F)\\\")\\nplt.savefig(\\\"Images/avg_temp_bonus.png\\\")\\nplt.show()\";\n",
       "                var nbb_formatted_code = \"# plot average temp as a bar plot with peak to peak\\n# calculate standard deviation to plot yerr\\nmin_max = [72, 83]\\ntemp_std = np.std(min_max)\\nerror = temp_std\\n\\n# plot bar char\\ntemp_df[1:2].plot(\\n    kind=\\\"bar\\\",\\n    figsize=(3, 8),\\n    ylim=(0, 100),\\n    color=\\\"lightsalmon\\\",\\n    alpha=0.5,\\n    legend=False,\\n    yerr=error,\\n)\\nplt.title(\\\"Trip Avg Temp\\\")\\nplt.ylabel(\\\"Temp (F)\\\")\\nplt.savefig(\\\"Images/avg_temp_bonus.png\\\")\\nplt.show()\";\n",
       "                var nbb_cells = Jupyter.notebook.get_cells();\n",
       "                for (var i = 0; i < nbb_cells.length; ++i) {\n",
       "                    if (nbb_cells[i].input_prompt_number == nbb_cell_id) {\n",
       "                        if (nbb_cells[i].get_text() == nbb_unformatted_code) {\n",
       "                             nbb_cells[i].set_text(nbb_formatted_code);\n",
       "                        }\n",
       "                        break;\n",
       "                    }\n",
       "                }\n",
       "            }, 500);\n",
       "            "
      ],
      "text/plain": [
       "<IPython.core.display.Javascript object>"
      ]
     },
     "metadata": {},
     "output_type": "display_data"
    },
    {
     "data": {
      "application/javascript": [
       "\n",
       "            setTimeout(function() {\n",
       "                var nbb_cell_id = 221;\n",
       "                var nbb_unformatted_code = \"# plot average temp as a bar plot with peak to peak\\n# calculate standard deviation to plot yerr\\nmin_max = [72, 83]\\ntemp_std = np.std(min_max)\\nerror = temp_std\\n\\n# plot bar char\\ntemp_df[1:2].plot(kind=\\\"bar\\\", figsize=(3,8), ylim=(0,100), color=\\\"lightsalmon\\\", alpha=0.5, legend=False, yerr=error)\\nplt.title(\\\"Trip Avg Temp\\\")\\nplt.ylabel(\\\"Temp (F)\\\")\\nplt.savefig(\\\"Images/avg_temp_bonus.png\\\")\\nplt.show()\";\n",
       "                var nbb_formatted_code = \"# plot average temp as a bar plot with peak to peak\\n# calculate standard deviation to plot yerr\\nmin_max = [72, 83]\\ntemp_std = np.std(min_max)\\nerror = temp_std\\n\\n# plot bar char\\ntemp_df[1:2].plot(\\n    kind=\\\"bar\\\",\\n    figsize=(3, 8),\\n    ylim=(0, 100),\\n    color=\\\"lightsalmon\\\",\\n    alpha=0.5,\\n    legend=False,\\n    yerr=error,\\n)\\nplt.title(\\\"Trip Avg Temp\\\")\\nplt.ylabel(\\\"Temp (F)\\\")\\nplt.savefig(\\\"Images/avg_temp_bonus.png\\\")\\nplt.show()\";\n",
       "                var nbb_cells = Jupyter.notebook.get_cells();\n",
       "                for (var i = 0; i < nbb_cells.length; ++i) {\n",
       "                    if (nbb_cells[i].input_prompt_number == nbb_cell_id) {\n",
       "                        if (nbb_cells[i].get_text() == nbb_unformatted_code) {\n",
       "                             nbb_cells[i].set_text(nbb_formatted_code);\n",
       "                        }\n",
       "                        break;\n",
       "                    }\n",
       "                }\n",
       "            }, 500);\n",
       "            "
      ],
      "text/plain": [
       "<IPython.core.display.Javascript object>"
      ]
     },
     "metadata": {},
     "output_type": "display_data"
    },
    {
     "data": {
      "application/javascript": [
       "\n",
       "            setTimeout(function() {\n",
       "                var nbb_cell_id = 221;\n",
       "                var nbb_unformatted_code = \"# plot average temp as a bar plot with peak to peak\\n# calculate standard deviation to plot yerr\\nmin_max = [72, 83]\\ntemp_std = np.std(min_max)\\nerror = temp_std\\n\\n# plot bar char\\ntemp_df[1:2].plot(kind=\\\"bar\\\", figsize=(3,8), ylim=(0,100), color=\\\"lightsalmon\\\", alpha=0.5, legend=False, yerr=error)\\nplt.title(\\\"Trip Avg Temp\\\")\\nplt.ylabel(\\\"Temp (F)\\\")\\nplt.savefig(\\\"Images/avg_temp_bonus.png\\\")\\nplt.show()\";\n",
       "                var nbb_formatted_code = \"# plot average temp as a bar plot with peak to peak\\n# calculate standard deviation to plot yerr\\nmin_max = [72, 83]\\ntemp_std = np.std(min_max)\\nerror = temp_std\\n\\n# plot bar char\\ntemp_df[1:2].plot(\\n    kind=\\\"bar\\\",\\n    figsize=(3, 8),\\n    ylim=(0, 100),\\n    color=\\\"lightsalmon\\\",\\n    alpha=0.5,\\n    legend=False,\\n    yerr=error,\\n)\\nplt.title(\\\"Trip Avg Temp\\\")\\nplt.ylabel(\\\"Temp (F)\\\")\\nplt.savefig(\\\"Images/avg_temp_bonus.png\\\")\\nplt.show()\";\n",
       "                var nbb_cells = Jupyter.notebook.get_cells();\n",
       "                for (var i = 0; i < nbb_cells.length; ++i) {\n",
       "                    if (nbb_cells[i].input_prompt_number == nbb_cell_id) {\n",
       "                        if (nbb_cells[i].get_text() == nbb_unformatted_code) {\n",
       "                             nbb_cells[i].set_text(nbb_formatted_code);\n",
       "                        }\n",
       "                        break;\n",
       "                    }\n",
       "                }\n",
       "            }, 500);\n",
       "            "
      ],
      "text/plain": [
       "<IPython.core.display.Javascript object>"
      ]
     },
     "metadata": {},
     "output_type": "display_data"
    },
    {
     "data": {
      "application/javascript": [
       "\n",
       "            setTimeout(function() {\n",
       "                var nbb_cell_id = 221;\n",
       "                var nbb_unformatted_code = \"# plot average temp as a bar plot with peak to peak\\n# calculate standard deviation to plot yerr\\nmin_max = [72, 83]\\ntemp_std = np.std(min_max)\\nerror = temp_std\\n\\n# plot bar char\\ntemp_df[1:2].plot(kind=\\\"bar\\\", figsize=(3,8), ylim=(0,100), color=\\\"lightsalmon\\\", alpha=0.5, legend=False, yerr=error)\\nplt.title(\\\"Trip Avg Temp\\\")\\nplt.ylabel(\\\"Temp (F)\\\")\\nplt.savefig(\\\"Images/avg_temp_bonus.png\\\")\\nplt.show()\";\n",
       "                var nbb_formatted_code = \"# plot average temp as a bar plot with peak to peak\\n# calculate standard deviation to plot yerr\\nmin_max = [72, 83]\\ntemp_std = np.std(min_max)\\nerror = temp_std\\n\\n# plot bar char\\ntemp_df[1:2].plot(\\n    kind=\\\"bar\\\",\\n    figsize=(3, 8),\\n    ylim=(0, 100),\\n    color=\\\"lightsalmon\\\",\\n    alpha=0.5,\\n    legend=False,\\n    yerr=error,\\n)\\nplt.title(\\\"Trip Avg Temp\\\")\\nplt.ylabel(\\\"Temp (F)\\\")\\nplt.savefig(\\\"Images/avg_temp_bonus.png\\\")\\nplt.show()\";\n",
       "                var nbb_cells = Jupyter.notebook.get_cells();\n",
       "                for (var i = 0; i < nbb_cells.length; ++i) {\n",
       "                    if (nbb_cells[i].input_prompt_number == nbb_cell_id) {\n",
       "                        if (nbb_cells[i].get_text() == nbb_unformatted_code) {\n",
       "                             nbb_cells[i].set_text(nbb_formatted_code);\n",
       "                        }\n",
       "                        break;\n",
       "                    }\n",
       "                }\n",
       "            }, 500);\n",
       "            "
      ],
      "text/plain": [
       "<IPython.core.display.Javascript object>"
      ]
     },
     "metadata": {},
     "output_type": "display_data"
    },
    {
     "data": {
      "application/javascript": [
       "\n",
       "            setTimeout(function() {\n",
       "                var nbb_cell_id = 221;\n",
       "                var nbb_unformatted_code = \"# plot average temp as a bar plot with peak to peak\\n# calculate standard deviation to plot yerr\\nmin_max = [72, 83]\\ntemp_std = np.std(min_max)\\nerror = temp_std\\n\\n# plot bar char\\ntemp_df[1:2].plot(kind=\\\"bar\\\", figsize=(3,8), ylim=(0,100), color=\\\"lightsalmon\\\", alpha=0.5, legend=False, yerr=error)\\nplt.title(\\\"Trip Avg Temp\\\")\\nplt.ylabel(\\\"Temp (F)\\\")\\nplt.savefig(\\\"Images/avg_temp_bonus.png\\\")\\nplt.show()\";\n",
       "                var nbb_formatted_code = \"# plot average temp as a bar plot with peak to peak\\n# calculate standard deviation to plot yerr\\nmin_max = [72, 83]\\ntemp_std = np.std(min_max)\\nerror = temp_std\\n\\n# plot bar char\\ntemp_df[1:2].plot(\\n    kind=\\\"bar\\\",\\n    figsize=(3, 8),\\n    ylim=(0, 100),\\n    color=\\\"lightsalmon\\\",\\n    alpha=0.5,\\n    legend=False,\\n    yerr=error,\\n)\\nplt.title(\\\"Trip Avg Temp\\\")\\nplt.ylabel(\\\"Temp (F)\\\")\\nplt.savefig(\\\"Images/avg_temp_bonus.png\\\")\\nplt.show()\";\n",
       "                var nbb_cells = Jupyter.notebook.get_cells();\n",
       "                for (var i = 0; i < nbb_cells.length; ++i) {\n",
       "                    if (nbb_cells[i].input_prompt_number == nbb_cell_id) {\n",
       "                        if (nbb_cells[i].get_text() == nbb_unformatted_code) {\n",
       "                             nbb_cells[i].set_text(nbb_formatted_code);\n",
       "                        }\n",
       "                        break;\n",
       "                    }\n",
       "                }\n",
       "            }, 500);\n",
       "            "
      ],
      "text/plain": [
       "<IPython.core.display.Javascript object>"
      ]
     },
     "metadata": {},
     "output_type": "display_data"
    },
    {
     "data": {
      "application/javascript": [
       "\n",
       "            setTimeout(function() {\n",
       "                var nbb_cell_id = 221;\n",
       "                var nbb_unformatted_code = \"# plot average temp as a bar plot with peak to peak\\n# calculate standard deviation to plot yerr\\nmin_max = [72, 83]\\ntemp_std = np.std(min_max)\\nerror = temp_std\\n\\n# plot bar char\\ntemp_df[1:2].plot(kind=\\\"bar\\\", figsize=(3,8), ylim=(0,100), color=\\\"lightsalmon\\\", alpha=0.5, legend=False, yerr=error)\\nplt.title(\\\"Trip Avg Temp\\\")\\nplt.ylabel(\\\"Temp (F)\\\")\\nplt.savefig(\\\"Images/avg_temp_bonus.png\\\")\\nplt.show()\";\n",
       "                var nbb_formatted_code = \"# plot average temp as a bar plot with peak to peak\\n# calculate standard deviation to plot yerr\\nmin_max = [72, 83]\\ntemp_std = np.std(min_max)\\nerror = temp_std\\n\\n# plot bar char\\ntemp_df[1:2].plot(\\n    kind=\\\"bar\\\",\\n    figsize=(3, 8),\\n    ylim=(0, 100),\\n    color=\\\"lightsalmon\\\",\\n    alpha=0.5,\\n    legend=False,\\n    yerr=error,\\n)\\nplt.title(\\\"Trip Avg Temp\\\")\\nplt.ylabel(\\\"Temp (F)\\\")\\nplt.savefig(\\\"Images/avg_temp_bonus.png\\\")\\nplt.show()\";\n",
       "                var nbb_cells = Jupyter.notebook.get_cells();\n",
       "                for (var i = 0; i < nbb_cells.length; ++i) {\n",
       "                    if (nbb_cells[i].input_prompt_number == nbb_cell_id) {\n",
       "                        if (nbb_cells[i].get_text() == nbb_unformatted_code) {\n",
       "                             nbb_cells[i].set_text(nbb_formatted_code);\n",
       "                        }\n",
       "                        break;\n",
       "                    }\n",
       "                }\n",
       "            }, 500);\n",
       "            "
      ],
      "text/plain": [
       "<IPython.core.display.Javascript object>"
      ]
     },
     "metadata": {},
     "output_type": "display_data"
    },
    {
     "data": {
      "application/javascript": [
       "\n",
       "            setTimeout(function() {\n",
       "                var nbb_cell_id = 221;\n",
       "                var nbb_unformatted_code = \"# plot average temp as a bar plot with peak to peak\\n# calculate standard deviation to plot yerr\\nmin_max = [72, 83]\\ntemp_std = np.std(min_max)\\nerror = temp_std\\n\\n# plot bar char\\ntemp_df[1:2].plot(kind=\\\"bar\\\", figsize=(3,8), ylim=(0,100), color=\\\"lightsalmon\\\", alpha=0.5, legend=False, yerr=error)\\nplt.title(\\\"Trip Avg Temp\\\")\\nplt.ylabel(\\\"Temp (F)\\\")\\nplt.savefig(\\\"Images/avg_temp_bonus.png\\\")\\nplt.show()\";\n",
       "                var nbb_formatted_code = \"# plot average temp as a bar plot with peak to peak\\n# calculate standard deviation to plot yerr\\nmin_max = [72, 83]\\ntemp_std = np.std(min_max)\\nerror = temp_std\\n\\n# plot bar char\\ntemp_df[1:2].plot(\\n    kind=\\\"bar\\\",\\n    figsize=(3, 8),\\n    ylim=(0, 100),\\n    color=\\\"lightsalmon\\\",\\n    alpha=0.5,\\n    legend=False,\\n    yerr=error,\\n)\\nplt.title(\\\"Trip Avg Temp\\\")\\nplt.ylabel(\\\"Temp (F)\\\")\\nplt.savefig(\\\"Images/avg_temp_bonus.png\\\")\\nplt.show()\";\n",
       "                var nbb_cells = Jupyter.notebook.get_cells();\n",
       "                for (var i = 0; i < nbb_cells.length; ++i) {\n",
       "                    if (nbb_cells[i].input_prompt_number == nbb_cell_id) {\n",
       "                        if (nbb_cells[i].get_text() == nbb_unformatted_code) {\n",
       "                             nbb_cells[i].set_text(nbb_formatted_code);\n",
       "                        }\n",
       "                        break;\n",
       "                    }\n",
       "                }\n",
       "            }, 500);\n",
       "            "
      ],
      "text/plain": [
       "<IPython.core.display.Javascript object>"
      ]
     },
     "metadata": {},
     "output_type": "display_data"
    }
   ],
   "source": [
    "# plot average temp as a bar plot with peak to peak\n",
    "# calculate standard deviation to plot yerr\n",
    "min_max = [72, 83]\n",
    "temp_std = np.std(min_max)\n",
    "error = temp_std\n",
    "\n",
    "# plot bar char\n",
    "temp_df[1:2].plot(kind=\"bar\", figsize=(3,8), ylim=(0,100), color=\"lightsalmon\", alpha=0.5, legend=False, yerr=error)\n",
    "plt.title(\"Trip Avg Temp\")\n",
    "plt.ylabel(\"Temp (F)\")\n",
    "plt.savefig(\"Images/avg_temp_bonus.png\")\n",
    "plt.show()"
   ]
  },
  {
   "cell_type": "markdown",
   "metadata": {},
   "source": [
    "### Daily Rainfall Average"
   ]
  },
  {
   "cell_type": "code",
   "execution_count": 222,
   "metadata": {},
   "outputs": [
    {
     "data": {
      "text/plain": [
       "[('USC00513117', 1.05),\n",
       " ('USC00514830', 1.22),\n",
       " ('USC00516128', 6.27),\n",
       " ('USC00519281', 2.5),\n",
       " ('USC00519397', 0.08),\n",
       " ('USC00519523', 0.56),\n",
       " ('USC00517948', 0.6)]"
      ]
     },
     "execution_count": 222,
     "metadata": {},
     "output_type": "execute_result"
    },
    {
     "data": {
      "application/javascript": [
       "\n",
       "            setTimeout(function() {\n",
       "                var nbb_cell_id = 222;\n",
       "                var nbb_unformatted_code = \"# calculate the rainfall per weather station using previous year's matching dates\\n\\nprcp_2016 = session.query(Measurement.station, func.round(func.sum(Measurement.prcp), 2))\\\\\\n    .filter(Measurement.date > '2016-06-10')\\\\\\n    .filter(Measurement.date <= '2016-06-20')\\\\\\n    .order_by(Measurement.date).group_by(Measurement.station).all()\\n\\nprcp_2016\";\n",
       "                var nbb_formatted_code = \"# calculate the rainfall per weather station using previous year's matching dates\\n\\nprcp_2016 = (\\n    session.query(Measurement.station, func.round(func.sum(Measurement.prcp), 2))\\n    .filter(Measurement.date > \\\"2016-06-10\\\")\\n    .filter(Measurement.date <= \\\"2016-06-20\\\")\\n    .order_by(Measurement.date)\\n    .group_by(Measurement.station)\\n    .all()\\n)\\n\\nprcp_2016\";\n",
       "                var nbb_cells = Jupyter.notebook.get_cells();\n",
       "                for (var i = 0; i < nbb_cells.length; ++i) {\n",
       "                    if (nbb_cells[i].input_prompt_number == nbb_cell_id) {\n",
       "                        if (nbb_cells[i].get_text() == nbb_unformatted_code) {\n",
       "                             nbb_cells[i].set_text(nbb_formatted_code);\n",
       "                        }\n",
       "                        break;\n",
       "                    }\n",
       "                }\n",
       "            }, 500);\n",
       "            "
      ],
      "text/plain": [
       "<IPython.core.display.Javascript object>"
      ]
     },
     "metadata": {},
     "output_type": "display_data"
    },
    {
     "data": {
      "application/javascript": [
       "\n",
       "            setTimeout(function() {\n",
       "                var nbb_cell_id = 222;\n",
       "                var nbb_unformatted_code = \"# calculate the rainfall per weather station using previous year's matching dates\\n\\nprcp_2016 = session.query(Measurement.station, func.round(func.sum(Measurement.prcp), 2))\\\\\\n    .filter(Measurement.date > '2016-06-10')\\\\\\n    .filter(Measurement.date <= '2016-06-20')\\\\\\n    .order_by(Measurement.date).group_by(Measurement.station).all()\\n\\nprcp_2016\";\n",
       "                var nbb_formatted_code = \"# calculate the rainfall per weather station using previous year's matching dates\\n\\nprcp_2016 = (\\n    session.query(Measurement.station, func.round(func.sum(Measurement.prcp), 2))\\n    .filter(Measurement.date > \\\"2016-06-10\\\")\\n    .filter(Measurement.date <= \\\"2016-06-20\\\")\\n    .order_by(Measurement.date)\\n    .group_by(Measurement.station)\\n    .all()\\n)\\n\\nprcp_2016\";\n",
       "                var nbb_cells = Jupyter.notebook.get_cells();\n",
       "                for (var i = 0; i < nbb_cells.length; ++i) {\n",
       "                    if (nbb_cells[i].input_prompt_number == nbb_cell_id) {\n",
       "                        if (nbb_cells[i].get_text() == nbb_unformatted_code) {\n",
       "                             nbb_cells[i].set_text(nbb_formatted_code);\n",
       "                        }\n",
       "                        break;\n",
       "                    }\n",
       "                }\n",
       "            }, 500);\n",
       "            "
      ],
      "text/plain": [
       "<IPython.core.display.Javascript object>"
      ]
     },
     "metadata": {},
     "output_type": "display_data"
    },
    {
     "data": {
      "application/javascript": [
       "\n",
       "            setTimeout(function() {\n",
       "                var nbb_cell_id = 222;\n",
       "                var nbb_unformatted_code = \"# calculate the rainfall per weather station using previous year's matching dates\\n\\nprcp_2016 = session.query(Measurement.station, func.round(func.sum(Measurement.prcp), 2))\\\\\\n    .filter(Measurement.date > '2016-06-10')\\\\\\n    .filter(Measurement.date <= '2016-06-20')\\\\\\n    .order_by(Measurement.date).group_by(Measurement.station).all()\\n\\nprcp_2016\";\n",
       "                var nbb_formatted_code = \"# calculate the rainfall per weather station using previous year's matching dates\\n\\nprcp_2016 = (\\n    session.query(Measurement.station, func.round(func.sum(Measurement.prcp), 2))\\n    .filter(Measurement.date > \\\"2016-06-10\\\")\\n    .filter(Measurement.date <= \\\"2016-06-20\\\")\\n    .order_by(Measurement.date)\\n    .group_by(Measurement.station)\\n    .all()\\n)\\n\\nprcp_2016\";\n",
       "                var nbb_cells = Jupyter.notebook.get_cells();\n",
       "                for (var i = 0; i < nbb_cells.length; ++i) {\n",
       "                    if (nbb_cells[i].input_prompt_number == nbb_cell_id) {\n",
       "                        if (nbb_cells[i].get_text() == nbb_unformatted_code) {\n",
       "                             nbb_cells[i].set_text(nbb_formatted_code);\n",
       "                        }\n",
       "                        break;\n",
       "                    }\n",
       "                }\n",
       "            }, 500);\n",
       "            "
      ],
      "text/plain": [
       "<IPython.core.display.Javascript object>"
      ]
     },
     "metadata": {},
     "output_type": "display_data"
    },
    {
     "data": {
      "application/javascript": [
       "\n",
       "            setTimeout(function() {\n",
       "                var nbb_cell_id = 222;\n",
       "                var nbb_unformatted_code = \"# calculate the rainfall per weather station using previous year's matching dates\\n\\nprcp_2016 = session.query(Measurement.station, func.round(func.sum(Measurement.prcp), 2))\\\\\\n    .filter(Measurement.date > '2016-06-10')\\\\\\n    .filter(Measurement.date <= '2016-06-20')\\\\\\n    .order_by(Measurement.date).group_by(Measurement.station).all()\\n\\nprcp_2016\";\n",
       "                var nbb_formatted_code = \"# calculate the rainfall per weather station using previous year's matching dates\\n\\nprcp_2016 = (\\n    session.query(Measurement.station, func.round(func.sum(Measurement.prcp), 2))\\n    .filter(Measurement.date > \\\"2016-06-10\\\")\\n    .filter(Measurement.date <= \\\"2016-06-20\\\")\\n    .order_by(Measurement.date)\\n    .group_by(Measurement.station)\\n    .all()\\n)\\n\\nprcp_2016\";\n",
       "                var nbb_cells = Jupyter.notebook.get_cells();\n",
       "                for (var i = 0; i < nbb_cells.length; ++i) {\n",
       "                    if (nbb_cells[i].input_prompt_number == nbb_cell_id) {\n",
       "                        if (nbb_cells[i].get_text() == nbb_unformatted_code) {\n",
       "                             nbb_cells[i].set_text(nbb_formatted_code);\n",
       "                        }\n",
       "                        break;\n",
       "                    }\n",
       "                }\n",
       "            }, 500);\n",
       "            "
      ],
      "text/plain": [
       "<IPython.core.display.Javascript object>"
      ]
     },
     "metadata": {},
     "output_type": "display_data"
    },
    {
     "data": {
      "application/javascript": [
       "\n",
       "            setTimeout(function() {\n",
       "                var nbb_cell_id = 222;\n",
       "                var nbb_unformatted_code = \"# calculate the rainfall per weather station using previous year's matching dates\\n\\nprcp_2016 = session.query(Measurement.station, func.round(func.sum(Measurement.prcp), 2))\\\\\\n    .filter(Measurement.date > '2016-06-10')\\\\\\n    .filter(Measurement.date <= '2016-06-20')\\\\\\n    .order_by(Measurement.date).group_by(Measurement.station).all()\\n\\nprcp_2016\";\n",
       "                var nbb_formatted_code = \"# calculate the rainfall per weather station using previous year's matching dates\\n\\nprcp_2016 = (\\n    session.query(Measurement.station, func.round(func.sum(Measurement.prcp), 2))\\n    .filter(Measurement.date > \\\"2016-06-10\\\")\\n    .filter(Measurement.date <= \\\"2016-06-20\\\")\\n    .order_by(Measurement.date)\\n    .group_by(Measurement.station)\\n    .all()\\n)\\n\\nprcp_2016\";\n",
       "                var nbb_cells = Jupyter.notebook.get_cells();\n",
       "                for (var i = 0; i < nbb_cells.length; ++i) {\n",
       "                    if (nbb_cells[i].input_prompt_number == nbb_cell_id) {\n",
       "                        if (nbb_cells[i].get_text() == nbb_unformatted_code) {\n",
       "                             nbb_cells[i].set_text(nbb_formatted_code);\n",
       "                        }\n",
       "                        break;\n",
       "                    }\n",
       "                }\n",
       "            }, 500);\n",
       "            "
      ],
      "text/plain": [
       "<IPython.core.display.Javascript object>"
      ]
     },
     "metadata": {},
     "output_type": "display_data"
    },
    {
     "data": {
      "application/javascript": [
       "\n",
       "            setTimeout(function() {\n",
       "                var nbb_cell_id = 222;\n",
       "                var nbb_unformatted_code = \"# calculate the rainfall per weather station using previous year's matching dates\\n\\nprcp_2016 = session.query(Measurement.station, func.round(func.sum(Measurement.prcp), 2))\\\\\\n    .filter(Measurement.date > '2016-06-10')\\\\\\n    .filter(Measurement.date <= '2016-06-20')\\\\\\n    .order_by(Measurement.date).group_by(Measurement.station).all()\\n\\nprcp_2016\";\n",
       "                var nbb_formatted_code = \"# calculate the rainfall per weather station using previous year's matching dates\\n\\nprcp_2016 = (\\n    session.query(Measurement.station, func.round(func.sum(Measurement.prcp), 2))\\n    .filter(Measurement.date > \\\"2016-06-10\\\")\\n    .filter(Measurement.date <= \\\"2016-06-20\\\")\\n    .order_by(Measurement.date)\\n    .group_by(Measurement.station)\\n    .all()\\n)\\n\\nprcp_2016\";\n",
       "                var nbb_cells = Jupyter.notebook.get_cells();\n",
       "                for (var i = 0; i < nbb_cells.length; ++i) {\n",
       "                    if (nbb_cells[i].input_prompt_number == nbb_cell_id) {\n",
       "                        if (nbb_cells[i].get_text() == nbb_unformatted_code) {\n",
       "                             nbb_cells[i].set_text(nbb_formatted_code);\n",
       "                        }\n",
       "                        break;\n",
       "                    }\n",
       "                }\n",
       "            }, 500);\n",
       "            "
      ],
      "text/plain": [
       "<IPython.core.display.Javascript object>"
      ]
     },
     "metadata": {},
     "output_type": "display_data"
    },
    {
     "data": {
      "application/javascript": [
       "\n",
       "            setTimeout(function() {\n",
       "                var nbb_cell_id = 222;\n",
       "                var nbb_unformatted_code = \"# calculate the rainfall per weather station using previous year's matching dates\\n\\nprcp_2016 = session.query(Measurement.station, func.round(func.sum(Measurement.prcp), 2))\\\\\\n    .filter(Measurement.date > '2016-06-10')\\\\\\n    .filter(Measurement.date <= '2016-06-20')\\\\\\n    .order_by(Measurement.date).group_by(Measurement.station).all()\\n\\nprcp_2016\";\n",
       "                var nbb_formatted_code = \"# calculate the rainfall per weather station using previous year's matching dates\\n\\nprcp_2016 = (\\n    session.query(Measurement.station, func.round(func.sum(Measurement.prcp), 2))\\n    .filter(Measurement.date > \\\"2016-06-10\\\")\\n    .filter(Measurement.date <= \\\"2016-06-20\\\")\\n    .order_by(Measurement.date)\\n    .group_by(Measurement.station)\\n    .all()\\n)\\n\\nprcp_2016\";\n",
       "                var nbb_cells = Jupyter.notebook.get_cells();\n",
       "                for (var i = 0; i < nbb_cells.length; ++i) {\n",
       "                    if (nbb_cells[i].input_prompt_number == nbb_cell_id) {\n",
       "                        if (nbb_cells[i].get_text() == nbb_unformatted_code) {\n",
       "                             nbb_cells[i].set_text(nbb_formatted_code);\n",
       "                        }\n",
       "                        break;\n",
       "                    }\n",
       "                }\n",
       "            }, 500);\n",
       "            "
      ],
      "text/plain": [
       "<IPython.core.display.Javascript object>"
      ]
     },
     "metadata": {},
     "output_type": "display_data"
    },
    {
     "data": {
      "application/javascript": [
       "\n",
       "            setTimeout(function() {\n",
       "                var nbb_cell_id = 222;\n",
       "                var nbb_unformatted_code = \"# calculate the rainfall per weather station using previous year's matching dates\\n\\nprcp_2016 = session.query(Measurement.station, func.round(func.sum(Measurement.prcp), 2))\\\\\\n    .filter(Measurement.date > '2016-06-10')\\\\\\n    .filter(Measurement.date <= '2016-06-20')\\\\\\n    .order_by(Measurement.date).group_by(Measurement.station).all()\\n\\nprcp_2016\";\n",
       "                var nbb_formatted_code = \"# calculate the rainfall per weather station using previous year's matching dates\\n\\nprcp_2016 = (\\n    session.query(Measurement.station, func.round(func.sum(Measurement.prcp), 2))\\n    .filter(Measurement.date > \\\"2016-06-10\\\")\\n    .filter(Measurement.date <= \\\"2016-06-20\\\")\\n    .order_by(Measurement.date)\\n    .group_by(Measurement.station)\\n    .all()\\n)\\n\\nprcp_2016\";\n",
       "                var nbb_cells = Jupyter.notebook.get_cells();\n",
       "                for (var i = 0; i < nbb_cells.length; ++i) {\n",
       "                    if (nbb_cells[i].input_prompt_number == nbb_cell_id) {\n",
       "                        if (nbb_cells[i].get_text() == nbb_unformatted_code) {\n",
       "                             nbb_cells[i].set_text(nbb_formatted_code);\n",
       "                        }\n",
       "                        break;\n",
       "                    }\n",
       "                }\n",
       "            }, 500);\n",
       "            "
      ],
      "text/plain": [
       "<IPython.core.display.Javascript object>"
      ]
     },
     "metadata": {},
     "output_type": "display_data"
    }
   ],
   "source": [
    "# calculate the rainfall per weather station using previous year's matching dates\n",
    "\n",
    "prcp_2016 = session.query(Measurement.station, func.round(func.sum(Measurement.prcp), 2))\\\n",
    "    .filter(Measurement.date > '2016-06-10')\\\n",
    "    .filter(Measurement.date <= '2016-06-20')\\\n",
    "    .order_by(Measurement.date).group_by(Measurement.station).all()\n",
    "\n",
    "prcp_2016"
   ]
  },
  {
   "cell_type": "code",
   "execution_count": 223,
   "metadata": {},
   "outputs": [
    {
     "data": {
      "text/plain": [
       "(62.0, 69.0, 77.0)"
      ]
     },
     "execution_count": 223,
     "metadata": {},
     "output_type": "execute_result"
    },
    {
     "data": {
      "application/javascript": [
       "\n",
       "            setTimeout(function() {\n",
       "                var nbb_cell_id = 223;\n",
       "                var nbb_unformatted_code = \"# define daily normals function\\n\\ndef daily_normals(date):\\n    \\\"\\\"\\\"Daily Normals.\\n    \\n    Args:\\n        date (str): A date string in the format '%m-%d'\\n        \\n    Returns:\\n        A list of tuples containing the daily normals, tmin, tavg, and tmax\\n    \\n    \\\"\\\"\\\"\\n    \\n    return session.query(func.min(Measurement.tobs), func.round(func.avg(Measurement.tobs)), func.max(Measurement.tobs))\\\\\\n    .filter(func.strftime(\\\"%m-%d\\\", Measurement.date) == date).all()[0]\\n    \\ndaily_normals(\\\"01-01\\\")\";\n",
       "                var nbb_formatted_code = \"# define daily normals function\\n\\n\\ndef daily_normals(date):\\n    \\\"\\\"\\\"Daily Normals.\\n    \\n    Args:\\n        date (str): A date string in the format '%m-%d'\\n        \\n    Returns:\\n        A list of tuples containing the daily normals, tmin, tavg, and tmax\\n    \\n    \\\"\\\"\\\"\\n\\n    return (\\n        session.query(\\n            func.min(Measurement.tobs),\\n            func.round(func.avg(Measurement.tobs)),\\n            func.max(Measurement.tobs),\\n        )\\n        .filter(func.strftime(\\\"%m-%d\\\", Measurement.date) == date)\\n        .all()[0]\\n    )\\n\\n\\ndaily_normals(\\\"01-01\\\")\";\n",
       "                var nbb_cells = Jupyter.notebook.get_cells();\n",
       "                for (var i = 0; i < nbb_cells.length; ++i) {\n",
       "                    if (nbb_cells[i].input_prompt_number == nbb_cell_id) {\n",
       "                        if (nbb_cells[i].get_text() == nbb_unformatted_code) {\n",
       "                             nbb_cells[i].set_text(nbb_formatted_code);\n",
       "                        }\n",
       "                        break;\n",
       "                    }\n",
       "                }\n",
       "            }, 500);\n",
       "            "
      ],
      "text/plain": [
       "<IPython.core.display.Javascript object>"
      ]
     },
     "metadata": {},
     "output_type": "display_data"
    },
    {
     "data": {
      "application/javascript": [
       "\n",
       "            setTimeout(function() {\n",
       "                var nbb_cell_id = 223;\n",
       "                var nbb_unformatted_code = \"# define daily normals function\\n\\ndef daily_normals(date):\\n    \\\"\\\"\\\"Daily Normals.\\n    \\n    Args:\\n        date (str): A date string in the format '%m-%d'\\n        \\n    Returns:\\n        A list of tuples containing the daily normals, tmin, tavg, and tmax\\n    \\n    \\\"\\\"\\\"\\n    \\n    return session.query(func.min(Measurement.tobs), func.round(func.avg(Measurement.tobs)), func.max(Measurement.tobs))\\\\\\n    .filter(func.strftime(\\\"%m-%d\\\", Measurement.date) == date).all()[0]\\n    \\ndaily_normals(\\\"01-01\\\")\";\n",
       "                var nbb_formatted_code = \"# define daily normals function\\n\\n\\ndef daily_normals(date):\\n    \\\"\\\"\\\"Daily Normals.\\n    \\n    Args:\\n        date (str): A date string in the format '%m-%d'\\n        \\n    Returns:\\n        A list of tuples containing the daily normals, tmin, tavg, and tmax\\n    \\n    \\\"\\\"\\\"\\n\\n    return (\\n        session.query(\\n            func.min(Measurement.tobs),\\n            func.round(func.avg(Measurement.tobs)),\\n            func.max(Measurement.tobs),\\n        )\\n        .filter(func.strftime(\\\"%m-%d\\\", Measurement.date) == date)\\n        .all()[0]\\n    )\\n\\n\\ndaily_normals(\\\"01-01\\\")\";\n",
       "                var nbb_cells = Jupyter.notebook.get_cells();\n",
       "                for (var i = 0; i < nbb_cells.length; ++i) {\n",
       "                    if (nbb_cells[i].input_prompt_number == nbb_cell_id) {\n",
       "                        if (nbb_cells[i].get_text() == nbb_unformatted_code) {\n",
       "                             nbb_cells[i].set_text(nbb_formatted_code);\n",
       "                        }\n",
       "                        break;\n",
       "                    }\n",
       "                }\n",
       "            }, 500);\n",
       "            "
      ],
      "text/plain": [
       "<IPython.core.display.Javascript object>"
      ]
     },
     "metadata": {},
     "output_type": "display_data"
    },
    {
     "data": {
      "application/javascript": [
       "\n",
       "            setTimeout(function() {\n",
       "                var nbb_cell_id = 223;\n",
       "                var nbb_unformatted_code = \"# define daily normals function\\n\\ndef daily_normals(date):\\n    \\\"\\\"\\\"Daily Normals.\\n    \\n    Args:\\n        date (str): A date string in the format '%m-%d'\\n        \\n    Returns:\\n        A list of tuples containing the daily normals, tmin, tavg, and tmax\\n    \\n    \\\"\\\"\\\"\\n    \\n    return session.query(func.min(Measurement.tobs), func.round(func.avg(Measurement.tobs)), func.max(Measurement.tobs))\\\\\\n    .filter(func.strftime(\\\"%m-%d\\\", Measurement.date) == date).all()[0]\\n    \\ndaily_normals(\\\"01-01\\\")\";\n",
       "                var nbb_formatted_code = \"# define daily normals function\\n\\n\\ndef daily_normals(date):\\n    \\\"\\\"\\\"Daily Normals.\\n    \\n    Args:\\n        date (str): A date string in the format '%m-%d'\\n        \\n    Returns:\\n        A list of tuples containing the daily normals, tmin, tavg, and tmax\\n    \\n    \\\"\\\"\\\"\\n\\n    return (\\n        session.query(\\n            func.min(Measurement.tobs),\\n            func.round(func.avg(Measurement.tobs)),\\n            func.max(Measurement.tobs),\\n        )\\n        .filter(func.strftime(\\\"%m-%d\\\", Measurement.date) == date)\\n        .all()[0]\\n    )\\n\\n\\ndaily_normals(\\\"01-01\\\")\";\n",
       "                var nbb_cells = Jupyter.notebook.get_cells();\n",
       "                for (var i = 0; i < nbb_cells.length; ++i) {\n",
       "                    if (nbb_cells[i].input_prompt_number == nbb_cell_id) {\n",
       "                        if (nbb_cells[i].get_text() == nbb_unformatted_code) {\n",
       "                             nbb_cells[i].set_text(nbb_formatted_code);\n",
       "                        }\n",
       "                        break;\n",
       "                    }\n",
       "                }\n",
       "            }, 500);\n",
       "            "
      ],
      "text/plain": [
       "<IPython.core.display.Javascript object>"
      ]
     },
     "metadata": {},
     "output_type": "display_data"
    },
    {
     "data": {
      "application/javascript": [
       "\n",
       "            setTimeout(function() {\n",
       "                var nbb_cell_id = 223;\n",
       "                var nbb_unformatted_code = \"# define daily normals function\\n\\ndef daily_normals(date):\\n    \\\"\\\"\\\"Daily Normals.\\n    \\n    Args:\\n        date (str): A date string in the format '%m-%d'\\n        \\n    Returns:\\n        A list of tuples containing the daily normals, tmin, tavg, and tmax\\n    \\n    \\\"\\\"\\\"\\n    \\n    return session.query(func.min(Measurement.tobs), func.round(func.avg(Measurement.tobs)), func.max(Measurement.tobs))\\\\\\n    .filter(func.strftime(\\\"%m-%d\\\", Measurement.date) == date).all()[0]\\n    \\ndaily_normals(\\\"01-01\\\")\";\n",
       "                var nbb_formatted_code = \"# define daily normals function\\n\\n\\ndef daily_normals(date):\\n    \\\"\\\"\\\"Daily Normals.\\n    \\n    Args:\\n        date (str): A date string in the format '%m-%d'\\n        \\n    Returns:\\n        A list of tuples containing the daily normals, tmin, tavg, and tmax\\n    \\n    \\\"\\\"\\\"\\n\\n    return (\\n        session.query(\\n            func.min(Measurement.tobs),\\n            func.round(func.avg(Measurement.tobs)),\\n            func.max(Measurement.tobs),\\n        )\\n        .filter(func.strftime(\\\"%m-%d\\\", Measurement.date) == date)\\n        .all()[0]\\n    )\\n\\n\\ndaily_normals(\\\"01-01\\\")\";\n",
       "                var nbb_cells = Jupyter.notebook.get_cells();\n",
       "                for (var i = 0; i < nbb_cells.length; ++i) {\n",
       "                    if (nbb_cells[i].input_prompt_number == nbb_cell_id) {\n",
       "                        if (nbb_cells[i].get_text() == nbb_unformatted_code) {\n",
       "                             nbb_cells[i].set_text(nbb_formatted_code);\n",
       "                        }\n",
       "                        break;\n",
       "                    }\n",
       "                }\n",
       "            }, 500);\n",
       "            "
      ],
      "text/plain": [
       "<IPython.core.display.Javascript object>"
      ]
     },
     "metadata": {},
     "output_type": "display_data"
    },
    {
     "data": {
      "application/javascript": [
       "\n",
       "            setTimeout(function() {\n",
       "                var nbb_cell_id = 223;\n",
       "                var nbb_unformatted_code = \"# define daily normals function\\n\\ndef daily_normals(date):\\n    \\\"\\\"\\\"Daily Normals.\\n    \\n    Args:\\n        date (str): A date string in the format '%m-%d'\\n        \\n    Returns:\\n        A list of tuples containing the daily normals, tmin, tavg, and tmax\\n    \\n    \\\"\\\"\\\"\\n    \\n    return session.query(func.min(Measurement.tobs), func.round(func.avg(Measurement.tobs)), func.max(Measurement.tobs))\\\\\\n    .filter(func.strftime(\\\"%m-%d\\\", Measurement.date) == date).all()[0]\\n    \\ndaily_normals(\\\"01-01\\\")\";\n",
       "                var nbb_formatted_code = \"# define daily normals function\\n\\n\\ndef daily_normals(date):\\n    \\\"\\\"\\\"Daily Normals.\\n    \\n    Args:\\n        date (str): A date string in the format '%m-%d'\\n        \\n    Returns:\\n        A list of tuples containing the daily normals, tmin, tavg, and tmax\\n    \\n    \\\"\\\"\\\"\\n\\n    return (\\n        session.query(\\n            func.min(Measurement.tobs),\\n            func.round(func.avg(Measurement.tobs)),\\n            func.max(Measurement.tobs),\\n        )\\n        .filter(func.strftime(\\\"%m-%d\\\", Measurement.date) == date)\\n        .all()[0]\\n    )\\n\\n\\ndaily_normals(\\\"01-01\\\")\";\n",
       "                var nbb_cells = Jupyter.notebook.get_cells();\n",
       "                for (var i = 0; i < nbb_cells.length; ++i) {\n",
       "                    if (nbb_cells[i].input_prompt_number == nbb_cell_id) {\n",
       "                        if (nbb_cells[i].get_text() == nbb_unformatted_code) {\n",
       "                             nbb_cells[i].set_text(nbb_formatted_code);\n",
       "                        }\n",
       "                        break;\n",
       "                    }\n",
       "                }\n",
       "            }, 500);\n",
       "            "
      ],
      "text/plain": [
       "<IPython.core.display.Javascript object>"
      ]
     },
     "metadata": {},
     "output_type": "display_data"
    },
    {
     "data": {
      "application/javascript": [
       "\n",
       "            setTimeout(function() {\n",
       "                var nbb_cell_id = 223;\n",
       "                var nbb_unformatted_code = \"# define daily normals function\\n\\ndef daily_normals(date):\\n    \\\"\\\"\\\"Daily Normals.\\n    \\n    Args:\\n        date (str): A date string in the format '%m-%d'\\n        \\n    Returns:\\n        A list of tuples containing the daily normals, tmin, tavg, and tmax\\n    \\n    \\\"\\\"\\\"\\n    \\n    return session.query(func.min(Measurement.tobs), func.round(func.avg(Measurement.tobs)), func.max(Measurement.tobs))\\\\\\n    .filter(func.strftime(\\\"%m-%d\\\", Measurement.date) == date).all()[0]\\n    \\ndaily_normals(\\\"01-01\\\")\";\n",
       "                var nbb_formatted_code = \"# define daily normals function\\n\\n\\ndef daily_normals(date):\\n    \\\"\\\"\\\"Daily Normals.\\n    \\n    Args:\\n        date (str): A date string in the format '%m-%d'\\n        \\n    Returns:\\n        A list of tuples containing the daily normals, tmin, tavg, and tmax\\n    \\n    \\\"\\\"\\\"\\n\\n    return (\\n        session.query(\\n            func.min(Measurement.tobs),\\n            func.round(func.avg(Measurement.tobs)),\\n            func.max(Measurement.tobs),\\n        )\\n        .filter(func.strftime(\\\"%m-%d\\\", Measurement.date) == date)\\n        .all()[0]\\n    )\\n\\n\\ndaily_normals(\\\"01-01\\\")\";\n",
       "                var nbb_cells = Jupyter.notebook.get_cells();\n",
       "                for (var i = 0; i < nbb_cells.length; ++i) {\n",
       "                    if (nbb_cells[i].input_prompt_number == nbb_cell_id) {\n",
       "                        if (nbb_cells[i].get_text() == nbb_unformatted_code) {\n",
       "                             nbb_cells[i].set_text(nbb_formatted_code);\n",
       "                        }\n",
       "                        break;\n",
       "                    }\n",
       "                }\n",
       "            }, 500);\n",
       "            "
      ],
      "text/plain": [
       "<IPython.core.display.Javascript object>"
      ]
     },
     "metadata": {},
     "output_type": "display_data"
    },
    {
     "data": {
      "application/javascript": [
       "\n",
       "            setTimeout(function() {\n",
       "                var nbb_cell_id = 223;\n",
       "                var nbb_unformatted_code = \"# define daily normals function\\n\\ndef daily_normals(date):\\n    \\\"\\\"\\\"Daily Normals.\\n    \\n    Args:\\n        date (str): A date string in the format '%m-%d'\\n        \\n    Returns:\\n        A list of tuples containing the daily normals, tmin, tavg, and tmax\\n    \\n    \\\"\\\"\\\"\\n    \\n    return session.query(func.min(Measurement.tobs), func.round(func.avg(Measurement.tobs)), func.max(Measurement.tobs))\\\\\\n    .filter(func.strftime(\\\"%m-%d\\\", Measurement.date) == date).all()[0]\\n    \\ndaily_normals(\\\"01-01\\\")\";\n",
       "                var nbb_formatted_code = \"# define daily normals function\\n\\n\\ndef daily_normals(date):\\n    \\\"\\\"\\\"Daily Normals.\\n    \\n    Args:\\n        date (str): A date string in the format '%m-%d'\\n        \\n    Returns:\\n        A list of tuples containing the daily normals, tmin, tavg, and tmax\\n    \\n    \\\"\\\"\\\"\\n\\n    return (\\n        session.query(\\n            func.min(Measurement.tobs),\\n            func.round(func.avg(Measurement.tobs)),\\n            func.max(Measurement.tobs),\\n        )\\n        .filter(func.strftime(\\\"%m-%d\\\", Measurement.date) == date)\\n        .all()[0]\\n    )\\n\\n\\ndaily_normals(\\\"01-01\\\")\";\n",
       "                var nbb_cells = Jupyter.notebook.get_cells();\n",
       "                for (var i = 0; i < nbb_cells.length; ++i) {\n",
       "                    if (nbb_cells[i].input_prompt_number == nbb_cell_id) {\n",
       "                        if (nbb_cells[i].get_text() == nbb_unformatted_code) {\n",
       "                             nbb_cells[i].set_text(nbb_formatted_code);\n",
       "                        }\n",
       "                        break;\n",
       "                    }\n",
       "                }\n",
       "            }, 500);\n",
       "            "
      ],
      "text/plain": [
       "<IPython.core.display.Javascript object>"
      ]
     },
     "metadata": {},
     "output_type": "display_data"
    },
    {
     "data": {
      "application/javascript": [
       "\n",
       "            setTimeout(function() {\n",
       "                var nbb_cell_id = 223;\n",
       "                var nbb_unformatted_code = \"# define daily normals function\\n\\ndef daily_normals(date):\\n    \\\"\\\"\\\"Daily Normals.\\n    \\n    Args:\\n        date (str): A date string in the format '%m-%d'\\n        \\n    Returns:\\n        A list of tuples containing the daily normals, tmin, tavg, and tmax\\n    \\n    \\\"\\\"\\\"\\n    \\n    return session.query(func.min(Measurement.tobs), func.round(func.avg(Measurement.tobs)), func.max(Measurement.tobs))\\\\\\n    .filter(func.strftime(\\\"%m-%d\\\", Measurement.date) == date).all()[0]\\n    \\ndaily_normals(\\\"01-01\\\")\";\n",
       "                var nbb_formatted_code = \"# define daily normals function\\n\\n\\ndef daily_normals(date):\\n    \\\"\\\"\\\"Daily Normals.\\n    \\n    Args:\\n        date (str): A date string in the format '%m-%d'\\n        \\n    Returns:\\n        A list of tuples containing the daily normals, tmin, tavg, and tmax\\n    \\n    \\\"\\\"\\\"\\n\\n    return (\\n        session.query(\\n            func.min(Measurement.tobs),\\n            func.round(func.avg(Measurement.tobs)),\\n            func.max(Measurement.tobs),\\n        )\\n        .filter(func.strftime(\\\"%m-%d\\\", Measurement.date) == date)\\n        .all()[0]\\n    )\\n\\n\\ndaily_normals(\\\"01-01\\\")\";\n",
       "                var nbb_cells = Jupyter.notebook.get_cells();\n",
       "                for (var i = 0; i < nbb_cells.length; ++i) {\n",
       "                    if (nbb_cells[i].input_prompt_number == nbb_cell_id) {\n",
       "                        if (nbb_cells[i].get_text() == nbb_unformatted_code) {\n",
       "                             nbb_cells[i].set_text(nbb_formatted_code);\n",
       "                        }\n",
       "                        break;\n",
       "                    }\n",
       "                }\n",
       "            }, 500);\n",
       "            "
      ],
      "text/plain": [
       "<IPython.core.display.Javascript object>"
      ]
     },
     "metadata": {},
     "output_type": "display_data"
    }
   ],
   "source": [
    "# define daily normals function\n",
    "\n",
    "def daily_normals(date):\n",
    "    \"\"\"Daily Normals.\n",
    "    \n",
    "    Args:\n",
    "        date (str): A date string in the format '%m-%d'\n",
    "        \n",
    "    Returns:\n",
    "        A list of tuples containing the daily normals, tmin, tavg, and tmax\n",
    "    \n",
    "    \"\"\"\n",
    "    \n",
    "    return session.query(func.min(Measurement.tobs), func.round(func.avg(Measurement.tobs)), func.max(Measurement.tobs))\\\n",
    "    .filter(func.strftime(\"%m-%d\", Measurement.date) == date).all()[0]\n",
    "    \n",
    "daily_normals(\"01-01\")"
   ]
  },
  {
   "cell_type": "code",
   "execution_count": 224,
   "metadata": {},
   "outputs": [
    {
     "name": "stdout",
     "output_type": "stream",
     "text": [
      "[(68.0, 75.0, 81.0), (69.0, 76.0, 84.0), (66.0, 76.0, 83.0), (68.0, 76.0, 81.0), (69.0, 76.0, 81.0), (67.0, 75.0, 81.0), (69.0, 75.0, 81.0), (68.0, 75.0, 81.0), (69.0, 75.0, 80.0), (70.0, 75.0, 82.0), (68.0, 74.0, 85.0)]\n"
     ]
    },
    {
     "data": {
      "application/javascript": [
       "\n",
       "            setTimeout(function() {\n",
       "                var nbb_cell_id = 224;\n",
       "                var nbb_unformatted_code = \"# create a list of dates for the trip\\n\\ntrip_dates = [\\\"06-10\\\", \\\"06-11\\\", \\\"06-12\\\", \\\"06-13\\\", \\\"06-14\\\", \\\"06-15\\\", \\\"06-16\\\", \\\"06-17\\\", \\\"06-18\\\", \\\"06-19\\\", \\\"06-20\\\"]\\n\\n# use daily normals function to calculate temp for each date in trip_dates and append to list\\n\\ntrip_results = []\\n\\nfor i, date in enumerate(trip_dates):\\n    \\n    trip_temps = daily_normals(date)\\n    \\n    trip_results.append(trip_temps)\\n    \\nprint(trip_results)\";\n",
       "                var nbb_formatted_code = \"# create a list of dates for the trip\\n\\ntrip_dates = [\\n    \\\"06-10\\\",\\n    \\\"06-11\\\",\\n    \\\"06-12\\\",\\n    \\\"06-13\\\",\\n    \\\"06-14\\\",\\n    \\\"06-15\\\",\\n    \\\"06-16\\\",\\n    \\\"06-17\\\",\\n    \\\"06-18\\\",\\n    \\\"06-19\\\",\\n    \\\"06-20\\\",\\n]\\n\\n# use daily normals function to calculate temp for each date in trip_dates and append to list\\n\\ntrip_results = []\\n\\nfor i, date in enumerate(trip_dates):\\n\\n    trip_temps = daily_normals(date)\\n\\n    trip_results.append(trip_temps)\\n\\nprint(trip_results)\";\n",
       "                var nbb_cells = Jupyter.notebook.get_cells();\n",
       "                for (var i = 0; i < nbb_cells.length; ++i) {\n",
       "                    if (nbb_cells[i].input_prompt_number == nbb_cell_id) {\n",
       "                        if (nbb_cells[i].get_text() == nbb_unformatted_code) {\n",
       "                             nbb_cells[i].set_text(nbb_formatted_code);\n",
       "                        }\n",
       "                        break;\n",
       "                    }\n",
       "                }\n",
       "            }, 500);\n",
       "            "
      ],
      "text/plain": [
       "<IPython.core.display.Javascript object>"
      ]
     },
     "metadata": {},
     "output_type": "display_data"
    },
    {
     "data": {
      "application/javascript": [
       "\n",
       "            setTimeout(function() {\n",
       "                var nbb_cell_id = 224;\n",
       "                var nbb_unformatted_code = \"# create a list of dates for the trip\\n\\ntrip_dates = [\\\"06-10\\\", \\\"06-11\\\", \\\"06-12\\\", \\\"06-13\\\", \\\"06-14\\\", \\\"06-15\\\", \\\"06-16\\\", \\\"06-17\\\", \\\"06-18\\\", \\\"06-19\\\", \\\"06-20\\\"]\\n\\n# use daily normals function to calculate temp for each date in trip_dates and append to list\\n\\ntrip_results = []\\n\\nfor i, date in enumerate(trip_dates):\\n    \\n    trip_temps = daily_normals(date)\\n    \\n    trip_results.append(trip_temps)\\n    \\nprint(trip_results)\";\n",
       "                var nbb_formatted_code = \"# create a list of dates for the trip\\n\\ntrip_dates = [\\n    \\\"06-10\\\",\\n    \\\"06-11\\\",\\n    \\\"06-12\\\",\\n    \\\"06-13\\\",\\n    \\\"06-14\\\",\\n    \\\"06-15\\\",\\n    \\\"06-16\\\",\\n    \\\"06-17\\\",\\n    \\\"06-18\\\",\\n    \\\"06-19\\\",\\n    \\\"06-20\\\",\\n]\\n\\n# use daily normals function to calculate temp for each date in trip_dates and append to list\\n\\ntrip_results = []\\n\\nfor i, date in enumerate(trip_dates):\\n\\n    trip_temps = daily_normals(date)\\n\\n    trip_results.append(trip_temps)\\n\\nprint(trip_results)\";\n",
       "                var nbb_cells = Jupyter.notebook.get_cells();\n",
       "                for (var i = 0; i < nbb_cells.length; ++i) {\n",
       "                    if (nbb_cells[i].input_prompt_number == nbb_cell_id) {\n",
       "                        if (nbb_cells[i].get_text() == nbb_unformatted_code) {\n",
       "                             nbb_cells[i].set_text(nbb_formatted_code);\n",
       "                        }\n",
       "                        break;\n",
       "                    }\n",
       "                }\n",
       "            }, 500);\n",
       "            "
      ],
      "text/plain": [
       "<IPython.core.display.Javascript object>"
      ]
     },
     "metadata": {},
     "output_type": "display_data"
    },
    {
     "data": {
      "application/javascript": [
       "\n",
       "            setTimeout(function() {\n",
       "                var nbb_cell_id = 224;\n",
       "                var nbb_unformatted_code = \"# create a list of dates for the trip\\n\\ntrip_dates = [\\\"06-10\\\", \\\"06-11\\\", \\\"06-12\\\", \\\"06-13\\\", \\\"06-14\\\", \\\"06-15\\\", \\\"06-16\\\", \\\"06-17\\\", \\\"06-18\\\", \\\"06-19\\\", \\\"06-20\\\"]\\n\\n# use daily normals function to calculate temp for each date in trip_dates and append to list\\n\\ntrip_results = []\\n\\nfor i, date in enumerate(trip_dates):\\n    \\n    trip_temps = daily_normals(date)\\n    \\n    trip_results.append(trip_temps)\\n    \\nprint(trip_results)\";\n",
       "                var nbb_formatted_code = \"# create a list of dates for the trip\\n\\ntrip_dates = [\\n    \\\"06-10\\\",\\n    \\\"06-11\\\",\\n    \\\"06-12\\\",\\n    \\\"06-13\\\",\\n    \\\"06-14\\\",\\n    \\\"06-15\\\",\\n    \\\"06-16\\\",\\n    \\\"06-17\\\",\\n    \\\"06-18\\\",\\n    \\\"06-19\\\",\\n    \\\"06-20\\\",\\n]\\n\\n# use daily normals function to calculate temp for each date in trip_dates and append to list\\n\\ntrip_results = []\\n\\nfor i, date in enumerate(trip_dates):\\n\\n    trip_temps = daily_normals(date)\\n\\n    trip_results.append(trip_temps)\\n\\nprint(trip_results)\";\n",
       "                var nbb_cells = Jupyter.notebook.get_cells();\n",
       "                for (var i = 0; i < nbb_cells.length; ++i) {\n",
       "                    if (nbb_cells[i].input_prompt_number == nbb_cell_id) {\n",
       "                        if (nbb_cells[i].get_text() == nbb_unformatted_code) {\n",
       "                             nbb_cells[i].set_text(nbb_formatted_code);\n",
       "                        }\n",
       "                        break;\n",
       "                    }\n",
       "                }\n",
       "            }, 500);\n",
       "            "
      ],
      "text/plain": [
       "<IPython.core.display.Javascript object>"
      ]
     },
     "metadata": {},
     "output_type": "display_data"
    },
    {
     "data": {
      "application/javascript": [
       "\n",
       "            setTimeout(function() {\n",
       "                var nbb_cell_id = 224;\n",
       "                var nbb_unformatted_code = \"# create a list of dates for the trip\\n\\ntrip_dates = [\\\"06-10\\\", \\\"06-11\\\", \\\"06-12\\\", \\\"06-13\\\", \\\"06-14\\\", \\\"06-15\\\", \\\"06-16\\\", \\\"06-17\\\", \\\"06-18\\\", \\\"06-19\\\", \\\"06-20\\\"]\\n\\n# use daily normals function to calculate temp for each date in trip_dates and append to list\\n\\ntrip_results = []\\n\\nfor i, date in enumerate(trip_dates):\\n    \\n    trip_temps = daily_normals(date)\\n    \\n    trip_results.append(trip_temps)\\n    \\nprint(trip_results)\";\n",
       "                var nbb_formatted_code = \"# create a list of dates for the trip\\n\\ntrip_dates = [\\n    \\\"06-10\\\",\\n    \\\"06-11\\\",\\n    \\\"06-12\\\",\\n    \\\"06-13\\\",\\n    \\\"06-14\\\",\\n    \\\"06-15\\\",\\n    \\\"06-16\\\",\\n    \\\"06-17\\\",\\n    \\\"06-18\\\",\\n    \\\"06-19\\\",\\n    \\\"06-20\\\",\\n]\\n\\n# use daily normals function to calculate temp for each date in trip_dates and append to list\\n\\ntrip_results = []\\n\\nfor i, date in enumerate(trip_dates):\\n\\n    trip_temps = daily_normals(date)\\n\\n    trip_results.append(trip_temps)\\n\\nprint(trip_results)\";\n",
       "                var nbb_cells = Jupyter.notebook.get_cells();\n",
       "                for (var i = 0; i < nbb_cells.length; ++i) {\n",
       "                    if (nbb_cells[i].input_prompt_number == nbb_cell_id) {\n",
       "                        if (nbb_cells[i].get_text() == nbb_unformatted_code) {\n",
       "                             nbb_cells[i].set_text(nbb_formatted_code);\n",
       "                        }\n",
       "                        break;\n",
       "                    }\n",
       "                }\n",
       "            }, 500);\n",
       "            "
      ],
      "text/plain": [
       "<IPython.core.display.Javascript object>"
      ]
     },
     "metadata": {},
     "output_type": "display_data"
    },
    {
     "data": {
      "application/javascript": [
       "\n",
       "            setTimeout(function() {\n",
       "                var nbb_cell_id = 224;\n",
       "                var nbb_unformatted_code = \"# create a list of dates for the trip\\n\\ntrip_dates = [\\\"06-10\\\", \\\"06-11\\\", \\\"06-12\\\", \\\"06-13\\\", \\\"06-14\\\", \\\"06-15\\\", \\\"06-16\\\", \\\"06-17\\\", \\\"06-18\\\", \\\"06-19\\\", \\\"06-20\\\"]\\n\\n# use daily normals function to calculate temp for each date in trip_dates and append to list\\n\\ntrip_results = []\\n\\nfor i, date in enumerate(trip_dates):\\n    \\n    trip_temps = daily_normals(date)\\n    \\n    trip_results.append(trip_temps)\\n    \\nprint(trip_results)\";\n",
       "                var nbb_formatted_code = \"# create a list of dates for the trip\\n\\ntrip_dates = [\\n    \\\"06-10\\\",\\n    \\\"06-11\\\",\\n    \\\"06-12\\\",\\n    \\\"06-13\\\",\\n    \\\"06-14\\\",\\n    \\\"06-15\\\",\\n    \\\"06-16\\\",\\n    \\\"06-17\\\",\\n    \\\"06-18\\\",\\n    \\\"06-19\\\",\\n    \\\"06-20\\\",\\n]\\n\\n# use daily normals function to calculate temp for each date in trip_dates and append to list\\n\\ntrip_results = []\\n\\nfor i, date in enumerate(trip_dates):\\n\\n    trip_temps = daily_normals(date)\\n\\n    trip_results.append(trip_temps)\\n\\nprint(trip_results)\";\n",
       "                var nbb_cells = Jupyter.notebook.get_cells();\n",
       "                for (var i = 0; i < nbb_cells.length; ++i) {\n",
       "                    if (nbb_cells[i].input_prompt_number == nbb_cell_id) {\n",
       "                        if (nbb_cells[i].get_text() == nbb_unformatted_code) {\n",
       "                             nbb_cells[i].set_text(nbb_formatted_code);\n",
       "                        }\n",
       "                        break;\n",
       "                    }\n",
       "                }\n",
       "            }, 500);\n",
       "            "
      ],
      "text/plain": [
       "<IPython.core.display.Javascript object>"
      ]
     },
     "metadata": {},
     "output_type": "display_data"
    },
    {
     "data": {
      "application/javascript": [
       "\n",
       "            setTimeout(function() {\n",
       "                var nbb_cell_id = 224;\n",
       "                var nbb_unformatted_code = \"# create a list of dates for the trip\\n\\ntrip_dates = [\\\"06-10\\\", \\\"06-11\\\", \\\"06-12\\\", \\\"06-13\\\", \\\"06-14\\\", \\\"06-15\\\", \\\"06-16\\\", \\\"06-17\\\", \\\"06-18\\\", \\\"06-19\\\", \\\"06-20\\\"]\\n\\n# use daily normals function to calculate temp for each date in trip_dates and append to list\\n\\ntrip_results = []\\n\\nfor i, date in enumerate(trip_dates):\\n    \\n    trip_temps = daily_normals(date)\\n    \\n    trip_results.append(trip_temps)\\n    \\nprint(trip_results)\";\n",
       "                var nbb_formatted_code = \"# create a list of dates for the trip\\n\\ntrip_dates = [\\n    \\\"06-10\\\",\\n    \\\"06-11\\\",\\n    \\\"06-12\\\",\\n    \\\"06-13\\\",\\n    \\\"06-14\\\",\\n    \\\"06-15\\\",\\n    \\\"06-16\\\",\\n    \\\"06-17\\\",\\n    \\\"06-18\\\",\\n    \\\"06-19\\\",\\n    \\\"06-20\\\",\\n]\\n\\n# use daily normals function to calculate temp for each date in trip_dates and append to list\\n\\ntrip_results = []\\n\\nfor i, date in enumerate(trip_dates):\\n\\n    trip_temps = daily_normals(date)\\n\\n    trip_results.append(trip_temps)\\n\\nprint(trip_results)\";\n",
       "                var nbb_cells = Jupyter.notebook.get_cells();\n",
       "                for (var i = 0; i < nbb_cells.length; ++i) {\n",
       "                    if (nbb_cells[i].input_prompt_number == nbb_cell_id) {\n",
       "                        if (nbb_cells[i].get_text() == nbb_unformatted_code) {\n",
       "                             nbb_cells[i].set_text(nbb_formatted_code);\n",
       "                        }\n",
       "                        break;\n",
       "                    }\n",
       "                }\n",
       "            }, 500);\n",
       "            "
      ],
      "text/plain": [
       "<IPython.core.display.Javascript object>"
      ]
     },
     "metadata": {},
     "output_type": "display_data"
    },
    {
     "data": {
      "application/javascript": [
       "\n",
       "            setTimeout(function() {\n",
       "                var nbb_cell_id = 224;\n",
       "                var nbb_unformatted_code = \"# create a list of dates for the trip\\n\\ntrip_dates = [\\\"06-10\\\", \\\"06-11\\\", \\\"06-12\\\", \\\"06-13\\\", \\\"06-14\\\", \\\"06-15\\\", \\\"06-16\\\", \\\"06-17\\\", \\\"06-18\\\", \\\"06-19\\\", \\\"06-20\\\"]\\n\\n# use daily normals function to calculate temp for each date in trip_dates and append to list\\n\\ntrip_results = []\\n\\nfor i, date in enumerate(trip_dates):\\n    \\n    trip_temps = daily_normals(date)\\n    \\n    trip_results.append(trip_temps)\\n    \\nprint(trip_results)\";\n",
       "                var nbb_formatted_code = \"# create a list of dates for the trip\\n\\ntrip_dates = [\\n    \\\"06-10\\\",\\n    \\\"06-11\\\",\\n    \\\"06-12\\\",\\n    \\\"06-13\\\",\\n    \\\"06-14\\\",\\n    \\\"06-15\\\",\\n    \\\"06-16\\\",\\n    \\\"06-17\\\",\\n    \\\"06-18\\\",\\n    \\\"06-19\\\",\\n    \\\"06-20\\\",\\n]\\n\\n# use daily normals function to calculate temp for each date in trip_dates and append to list\\n\\ntrip_results = []\\n\\nfor i, date in enumerate(trip_dates):\\n\\n    trip_temps = daily_normals(date)\\n\\n    trip_results.append(trip_temps)\\n\\nprint(trip_results)\";\n",
       "                var nbb_cells = Jupyter.notebook.get_cells();\n",
       "                for (var i = 0; i < nbb_cells.length; ++i) {\n",
       "                    if (nbb_cells[i].input_prompt_number == nbb_cell_id) {\n",
       "                        if (nbb_cells[i].get_text() == nbb_unformatted_code) {\n",
       "                             nbb_cells[i].set_text(nbb_formatted_code);\n",
       "                        }\n",
       "                        break;\n",
       "                    }\n",
       "                }\n",
       "            }, 500);\n",
       "            "
      ],
      "text/plain": [
       "<IPython.core.display.Javascript object>"
      ]
     },
     "metadata": {},
     "output_type": "display_data"
    },
    {
     "data": {
      "application/javascript": [
       "\n",
       "            setTimeout(function() {\n",
       "                var nbb_cell_id = 224;\n",
       "                var nbb_unformatted_code = \"# create a list of dates for the trip\\n\\ntrip_dates = [\\\"06-10\\\", \\\"06-11\\\", \\\"06-12\\\", \\\"06-13\\\", \\\"06-14\\\", \\\"06-15\\\", \\\"06-16\\\", \\\"06-17\\\", \\\"06-18\\\", \\\"06-19\\\", \\\"06-20\\\"]\\n\\n# use daily normals function to calculate temp for each date in trip_dates and append to list\\n\\ntrip_results = []\\n\\nfor i, date in enumerate(trip_dates):\\n    \\n    trip_temps = daily_normals(date)\\n    \\n    trip_results.append(trip_temps)\\n    \\nprint(trip_results)\";\n",
       "                var nbb_formatted_code = \"# create a list of dates for the trip\\n\\ntrip_dates = [\\n    \\\"06-10\\\",\\n    \\\"06-11\\\",\\n    \\\"06-12\\\",\\n    \\\"06-13\\\",\\n    \\\"06-14\\\",\\n    \\\"06-15\\\",\\n    \\\"06-16\\\",\\n    \\\"06-17\\\",\\n    \\\"06-18\\\",\\n    \\\"06-19\\\",\\n    \\\"06-20\\\",\\n]\\n\\n# use daily normals function to calculate temp for each date in trip_dates and append to list\\n\\ntrip_results = []\\n\\nfor i, date in enumerate(trip_dates):\\n\\n    trip_temps = daily_normals(date)\\n\\n    trip_results.append(trip_temps)\\n\\nprint(trip_results)\";\n",
       "                var nbb_cells = Jupyter.notebook.get_cells();\n",
       "                for (var i = 0; i < nbb_cells.length; ++i) {\n",
       "                    if (nbb_cells[i].input_prompt_number == nbb_cell_id) {\n",
       "                        if (nbb_cells[i].get_text() == nbb_unformatted_code) {\n",
       "                             nbb_cells[i].set_text(nbb_formatted_code);\n",
       "                        }\n",
       "                        break;\n",
       "                    }\n",
       "                }\n",
       "            }, 500);\n",
       "            "
      ],
      "text/plain": [
       "<IPython.core.display.Javascript object>"
      ]
     },
     "metadata": {},
     "output_type": "display_data"
    }
   ],
   "source": [
    "# create a list of dates for the trip\n",
    "\n",
    "trip_dates = [\"06-10\", \"06-11\", \"06-12\", \"06-13\", \"06-14\", \"06-15\", \"06-16\", \"06-17\", \"06-18\", \"06-19\", \"06-20\"]\n",
    "\n",
    "# use daily normals function to calculate temp for each date in trip_dates and append to list\n",
    "\n",
    "trip_results = []\n",
    "\n",
    "for i, date in enumerate(trip_dates):\n",
    "    \n",
    "    trip_temps = daily_normals(date)\n",
    "    \n",
    "    trip_results.append(trip_temps)\n",
    "    \n",
    "print(trip_results)"
   ]
  },
  {
   "cell_type": "code",
   "execution_count": 225,
   "metadata": {},
   "outputs": [
    {
     "data": {
      "text/plain": [
       "{'06-10': (68.0, 75.0, 81.0),\n",
       " '06-11': (69.0, 76.0, 84.0),\n",
       " '06-12': (66.0, 76.0, 83.0),\n",
       " '06-13': (68.0, 76.0, 81.0),\n",
       " '06-14': (69.0, 76.0, 81.0),\n",
       " '06-15': (67.0, 75.0, 81.0),\n",
       " '06-16': (69.0, 75.0, 81.0),\n",
       " '06-17': (68.0, 75.0, 81.0),\n",
       " '06-18': (69.0, 75.0, 80.0),\n",
       " '06-19': (70.0, 75.0, 82.0),\n",
       " '06-20': (68.0, 74.0, 85.0)}"
      ]
     },
     "execution_count": 225,
     "metadata": {},
     "output_type": "execute_result"
    },
    {
     "data": {
      "application/javascript": [
       "\n",
       "            setTimeout(function() {\n",
       "                var nbb_cell_id = 225;\n",
       "                var nbb_unformatted_code = \"# create dict of dates and tobs for trip dates\\n\\ntrip_temps_dict = {trip_dates[i]: trip_results[i] for i in range(len(trip_results))}\\n\\ntrip_temps_dict\";\n",
       "                var nbb_formatted_code = \"# create dict of dates and tobs for trip dates\\n\\ntrip_temps_dict = {trip_dates[i]: trip_results[i] for i in range(len(trip_results))}\\n\\ntrip_temps_dict\";\n",
       "                var nbb_cells = Jupyter.notebook.get_cells();\n",
       "                for (var i = 0; i < nbb_cells.length; ++i) {\n",
       "                    if (nbb_cells[i].input_prompt_number == nbb_cell_id) {\n",
       "                        if (nbb_cells[i].get_text() == nbb_unformatted_code) {\n",
       "                             nbb_cells[i].set_text(nbb_formatted_code);\n",
       "                        }\n",
       "                        break;\n",
       "                    }\n",
       "                }\n",
       "            }, 500);\n",
       "            "
      ],
      "text/plain": [
       "<IPython.core.display.Javascript object>"
      ]
     },
     "metadata": {},
     "output_type": "display_data"
    },
    {
     "data": {
      "application/javascript": [
       "\n",
       "            setTimeout(function() {\n",
       "                var nbb_cell_id = 225;\n",
       "                var nbb_unformatted_code = \"# create dict of dates and tobs for trip dates\\n\\ntrip_temps_dict = {trip_dates[i]: trip_results[i] for i in range(len(trip_results))}\\n\\ntrip_temps_dict\";\n",
       "                var nbb_formatted_code = \"# create dict of dates and tobs for trip dates\\n\\ntrip_temps_dict = {trip_dates[i]: trip_results[i] for i in range(len(trip_results))}\\n\\ntrip_temps_dict\";\n",
       "                var nbb_cells = Jupyter.notebook.get_cells();\n",
       "                for (var i = 0; i < nbb_cells.length; ++i) {\n",
       "                    if (nbb_cells[i].input_prompt_number == nbb_cell_id) {\n",
       "                        if (nbb_cells[i].get_text() == nbb_unformatted_code) {\n",
       "                             nbb_cells[i].set_text(nbb_formatted_code);\n",
       "                        }\n",
       "                        break;\n",
       "                    }\n",
       "                }\n",
       "            }, 500);\n",
       "            "
      ],
      "text/plain": [
       "<IPython.core.display.Javascript object>"
      ]
     },
     "metadata": {},
     "output_type": "display_data"
    },
    {
     "data": {
      "application/javascript": [
       "\n",
       "            setTimeout(function() {\n",
       "                var nbb_cell_id = 225;\n",
       "                var nbb_unformatted_code = \"# create dict of dates and tobs for trip dates\\n\\ntrip_temps_dict = {trip_dates[i]: trip_results[i] for i in range(len(trip_results))}\\n\\ntrip_temps_dict\";\n",
       "                var nbb_formatted_code = \"# create dict of dates and tobs for trip dates\\n\\ntrip_temps_dict = {trip_dates[i]: trip_results[i] for i in range(len(trip_results))}\\n\\ntrip_temps_dict\";\n",
       "                var nbb_cells = Jupyter.notebook.get_cells();\n",
       "                for (var i = 0; i < nbb_cells.length; ++i) {\n",
       "                    if (nbb_cells[i].input_prompt_number == nbb_cell_id) {\n",
       "                        if (nbb_cells[i].get_text() == nbb_unformatted_code) {\n",
       "                             nbb_cells[i].set_text(nbb_formatted_code);\n",
       "                        }\n",
       "                        break;\n",
       "                    }\n",
       "                }\n",
       "            }, 500);\n",
       "            "
      ],
      "text/plain": [
       "<IPython.core.display.Javascript object>"
      ]
     },
     "metadata": {},
     "output_type": "display_data"
    },
    {
     "data": {
      "application/javascript": [
       "\n",
       "            setTimeout(function() {\n",
       "                var nbb_cell_id = 225;\n",
       "                var nbb_unformatted_code = \"# create dict of dates and tobs for trip dates\\n\\ntrip_temps_dict = {trip_dates[i]: trip_results[i] for i in range(len(trip_results))}\\n\\ntrip_temps_dict\";\n",
       "                var nbb_formatted_code = \"# create dict of dates and tobs for trip dates\\n\\ntrip_temps_dict = {trip_dates[i]: trip_results[i] for i in range(len(trip_results))}\\n\\ntrip_temps_dict\";\n",
       "                var nbb_cells = Jupyter.notebook.get_cells();\n",
       "                for (var i = 0; i < nbb_cells.length; ++i) {\n",
       "                    if (nbb_cells[i].input_prompt_number == nbb_cell_id) {\n",
       "                        if (nbb_cells[i].get_text() == nbb_unformatted_code) {\n",
       "                             nbb_cells[i].set_text(nbb_formatted_code);\n",
       "                        }\n",
       "                        break;\n",
       "                    }\n",
       "                }\n",
       "            }, 500);\n",
       "            "
      ],
      "text/plain": [
       "<IPython.core.display.Javascript object>"
      ]
     },
     "metadata": {},
     "output_type": "display_data"
    },
    {
     "data": {
      "application/javascript": [
       "\n",
       "            setTimeout(function() {\n",
       "                var nbb_cell_id = 225;\n",
       "                var nbb_unformatted_code = \"# create dict of dates and tobs for trip dates\\n\\ntrip_temps_dict = {trip_dates[i]: trip_results[i] for i in range(len(trip_results))}\\n\\ntrip_temps_dict\";\n",
       "                var nbb_formatted_code = \"# create dict of dates and tobs for trip dates\\n\\ntrip_temps_dict = {trip_dates[i]: trip_results[i] for i in range(len(trip_results))}\\n\\ntrip_temps_dict\";\n",
       "                var nbb_cells = Jupyter.notebook.get_cells();\n",
       "                for (var i = 0; i < nbb_cells.length; ++i) {\n",
       "                    if (nbb_cells[i].input_prompt_number == nbb_cell_id) {\n",
       "                        if (nbb_cells[i].get_text() == nbb_unformatted_code) {\n",
       "                             nbb_cells[i].set_text(nbb_formatted_code);\n",
       "                        }\n",
       "                        break;\n",
       "                    }\n",
       "                }\n",
       "            }, 500);\n",
       "            "
      ],
      "text/plain": [
       "<IPython.core.display.Javascript object>"
      ]
     },
     "metadata": {},
     "output_type": "display_data"
    },
    {
     "data": {
      "application/javascript": [
       "\n",
       "            setTimeout(function() {\n",
       "                var nbb_cell_id = 225;\n",
       "                var nbb_unformatted_code = \"# create dict of dates and tobs for trip dates\\n\\ntrip_temps_dict = {trip_dates[i]: trip_results[i] for i in range(len(trip_results))}\\n\\ntrip_temps_dict\";\n",
       "                var nbb_formatted_code = \"# create dict of dates and tobs for trip dates\\n\\ntrip_temps_dict = {trip_dates[i]: trip_results[i] for i in range(len(trip_results))}\\n\\ntrip_temps_dict\";\n",
       "                var nbb_cells = Jupyter.notebook.get_cells();\n",
       "                for (var i = 0; i < nbb_cells.length; ++i) {\n",
       "                    if (nbb_cells[i].input_prompt_number == nbb_cell_id) {\n",
       "                        if (nbb_cells[i].get_text() == nbb_unformatted_code) {\n",
       "                             nbb_cells[i].set_text(nbb_formatted_code);\n",
       "                        }\n",
       "                        break;\n",
       "                    }\n",
       "                }\n",
       "            }, 500);\n",
       "            "
      ],
      "text/plain": [
       "<IPython.core.display.Javascript object>"
      ]
     },
     "metadata": {},
     "output_type": "display_data"
    },
    {
     "data": {
      "application/javascript": [
       "\n",
       "            setTimeout(function() {\n",
       "                var nbb_cell_id = 225;\n",
       "                var nbb_unformatted_code = \"# create dict of dates and tobs for trip dates\\n\\ntrip_temps_dict = {trip_dates[i]: trip_results[i] for i in range(len(trip_results))}\\n\\ntrip_temps_dict\";\n",
       "                var nbb_formatted_code = \"# create dict of dates and tobs for trip dates\\n\\ntrip_temps_dict = {trip_dates[i]: trip_results[i] for i in range(len(trip_results))}\\n\\ntrip_temps_dict\";\n",
       "                var nbb_cells = Jupyter.notebook.get_cells();\n",
       "                for (var i = 0; i < nbb_cells.length; ++i) {\n",
       "                    if (nbb_cells[i].input_prompt_number == nbb_cell_id) {\n",
       "                        if (nbb_cells[i].get_text() == nbb_unformatted_code) {\n",
       "                             nbb_cells[i].set_text(nbb_formatted_code);\n",
       "                        }\n",
       "                        break;\n",
       "                    }\n",
       "                }\n",
       "            }, 500);\n",
       "            "
      ],
      "text/plain": [
       "<IPython.core.display.Javascript object>"
      ]
     },
     "metadata": {},
     "output_type": "display_data"
    },
    {
     "data": {
      "application/javascript": [
       "\n",
       "            setTimeout(function() {\n",
       "                var nbb_cell_id = 225;\n",
       "                var nbb_unformatted_code = \"# create dict of dates and tobs for trip dates\\n\\ntrip_temps_dict = {trip_dates[i]: trip_results[i] for i in range(len(trip_results))}\\n\\ntrip_temps_dict\";\n",
       "                var nbb_formatted_code = \"# create dict of dates and tobs for trip dates\\n\\ntrip_temps_dict = {trip_dates[i]: trip_results[i] for i in range(len(trip_results))}\\n\\ntrip_temps_dict\";\n",
       "                var nbb_cells = Jupyter.notebook.get_cells();\n",
       "                for (var i = 0; i < nbb_cells.length; ++i) {\n",
       "                    if (nbb_cells[i].input_prompt_number == nbb_cell_id) {\n",
       "                        if (nbb_cells[i].get_text() == nbb_unformatted_code) {\n",
       "                             nbb_cells[i].set_text(nbb_formatted_code);\n",
       "                        }\n",
       "                        break;\n",
       "                    }\n",
       "                }\n",
       "            }, 500);\n",
       "            "
      ],
      "text/plain": [
       "<IPython.core.display.Javascript object>"
      ]
     },
     "metadata": {},
     "output_type": "display_data"
    }
   ],
   "source": [
    "# create dict of dates and tobs for trip dates\n",
    "\n",
    "trip_temps_dict = {trip_dates[i]: trip_results[i] for i in range(len(trip_results))}\n",
    "\n",
    "trip_temps_dict"
   ]
  },
  {
   "cell_type": "code",
   "execution_count": 226,
   "metadata": {},
   "outputs": [
    {
     "data": {
      "text/html": [
       "<div>\n",
       "<style scoped>\n",
       "    .dataframe tbody tr th:only-of-type {\n",
       "        vertical-align: middle;\n",
       "    }\n",
       "\n",
       "    .dataframe tbody tr th {\n",
       "        vertical-align: top;\n",
       "    }\n",
       "\n",
       "    .dataframe thead th {\n",
       "        text-align: right;\n",
       "    }\n",
       "</style>\n",
       "<table border=\"1\" class=\"dataframe\">\n",
       "  <thead>\n",
       "    <tr style=\"text-align: right;\">\n",
       "      <th></th>\n",
       "      <th>Min</th>\n",
       "      <th>Avg</th>\n",
       "      <th>Max</th>\n",
       "    </tr>\n",
       "  </thead>\n",
       "  <tbody>\n",
       "    <tr>\n",
       "      <th>06-10</th>\n",
       "      <td>68.0</td>\n",
       "      <td>75.0</td>\n",
       "      <td>81.0</td>\n",
       "    </tr>\n",
       "    <tr>\n",
       "      <th>06-11</th>\n",
       "      <td>69.0</td>\n",
       "      <td>76.0</td>\n",
       "      <td>84.0</td>\n",
       "    </tr>\n",
       "    <tr>\n",
       "      <th>06-12</th>\n",
       "      <td>66.0</td>\n",
       "      <td>76.0</td>\n",
       "      <td>83.0</td>\n",
       "    </tr>\n",
       "    <tr>\n",
       "      <th>06-13</th>\n",
       "      <td>68.0</td>\n",
       "      <td>76.0</td>\n",
       "      <td>81.0</td>\n",
       "    </tr>\n",
       "    <tr>\n",
       "      <th>06-14</th>\n",
       "      <td>69.0</td>\n",
       "      <td>76.0</td>\n",
       "      <td>81.0</td>\n",
       "    </tr>\n",
       "    <tr>\n",
       "      <th>06-15</th>\n",
       "      <td>67.0</td>\n",
       "      <td>75.0</td>\n",
       "      <td>81.0</td>\n",
       "    </tr>\n",
       "    <tr>\n",
       "      <th>06-16</th>\n",
       "      <td>69.0</td>\n",
       "      <td>75.0</td>\n",
       "      <td>81.0</td>\n",
       "    </tr>\n",
       "    <tr>\n",
       "      <th>06-17</th>\n",
       "      <td>68.0</td>\n",
       "      <td>75.0</td>\n",
       "      <td>81.0</td>\n",
       "    </tr>\n",
       "    <tr>\n",
       "      <th>06-18</th>\n",
       "      <td>69.0</td>\n",
       "      <td>75.0</td>\n",
       "      <td>80.0</td>\n",
       "    </tr>\n",
       "    <tr>\n",
       "      <th>06-19</th>\n",
       "      <td>70.0</td>\n",
       "      <td>75.0</td>\n",
       "      <td>82.0</td>\n",
       "    </tr>\n",
       "    <tr>\n",
       "      <th>06-20</th>\n",
       "      <td>68.0</td>\n",
       "      <td>74.0</td>\n",
       "      <td>85.0</td>\n",
       "    </tr>\n",
       "  </tbody>\n",
       "</table>\n",
       "</div>"
      ],
      "text/plain": [
       "        Min   Avg   Max\n",
       "06-10  68.0  75.0  81.0\n",
       "06-11  69.0  76.0  84.0\n",
       "06-12  66.0  76.0  83.0\n",
       "06-13  68.0  76.0  81.0\n",
       "06-14  69.0  76.0  81.0\n",
       "06-15  67.0  75.0  81.0\n",
       "06-16  69.0  75.0  81.0\n",
       "06-17  68.0  75.0  81.0\n",
       "06-18  69.0  75.0  80.0\n",
       "06-19  70.0  75.0  82.0\n",
       "06-20  68.0  74.0  85.0"
      ]
     },
     "execution_count": 226,
     "metadata": {},
     "output_type": "execute_result"
    },
    {
     "data": {
      "application/javascript": [
       "\n",
       "            setTimeout(function() {\n",
       "                var nbb_cell_id = 226;\n",
       "                var nbb_unformatted_code = \"# convert dict to dataframe\\n\\ntrip_df = pd.DataFrame.from_dict(trip_temps_dict, orient=\\\"index\\\", columns=[\\\"Min\\\", \\\"Avg\\\", \\\"Max\\\"])\\n\\ntrip_df\";\n",
       "                var nbb_formatted_code = \"# convert dict to dataframe\\n\\ntrip_df = pd.DataFrame.from_dict(\\n    trip_temps_dict, orient=\\\"index\\\", columns=[\\\"Min\\\", \\\"Avg\\\", \\\"Max\\\"]\\n)\\n\\ntrip_df\";\n",
       "                var nbb_cells = Jupyter.notebook.get_cells();\n",
       "                for (var i = 0; i < nbb_cells.length; ++i) {\n",
       "                    if (nbb_cells[i].input_prompt_number == nbb_cell_id) {\n",
       "                        if (nbb_cells[i].get_text() == nbb_unformatted_code) {\n",
       "                             nbb_cells[i].set_text(nbb_formatted_code);\n",
       "                        }\n",
       "                        break;\n",
       "                    }\n",
       "                }\n",
       "            }, 500);\n",
       "            "
      ],
      "text/plain": [
       "<IPython.core.display.Javascript object>"
      ]
     },
     "metadata": {},
     "output_type": "display_data"
    },
    {
     "data": {
      "application/javascript": [
       "\n",
       "            setTimeout(function() {\n",
       "                var nbb_cell_id = 226;\n",
       "                var nbb_unformatted_code = \"# convert dict to dataframe\\n\\ntrip_df = pd.DataFrame.from_dict(trip_temps_dict, orient=\\\"index\\\", columns=[\\\"Min\\\", \\\"Avg\\\", \\\"Max\\\"])\\n\\ntrip_df\";\n",
       "                var nbb_formatted_code = \"# convert dict to dataframe\\n\\ntrip_df = pd.DataFrame.from_dict(\\n    trip_temps_dict, orient=\\\"index\\\", columns=[\\\"Min\\\", \\\"Avg\\\", \\\"Max\\\"]\\n)\\n\\ntrip_df\";\n",
       "                var nbb_cells = Jupyter.notebook.get_cells();\n",
       "                for (var i = 0; i < nbb_cells.length; ++i) {\n",
       "                    if (nbb_cells[i].input_prompt_number == nbb_cell_id) {\n",
       "                        if (nbb_cells[i].get_text() == nbb_unformatted_code) {\n",
       "                             nbb_cells[i].set_text(nbb_formatted_code);\n",
       "                        }\n",
       "                        break;\n",
       "                    }\n",
       "                }\n",
       "            }, 500);\n",
       "            "
      ],
      "text/plain": [
       "<IPython.core.display.Javascript object>"
      ]
     },
     "metadata": {},
     "output_type": "display_data"
    },
    {
     "data": {
      "application/javascript": [
       "\n",
       "            setTimeout(function() {\n",
       "                var nbb_cell_id = 226;\n",
       "                var nbb_unformatted_code = \"# convert dict to dataframe\\n\\ntrip_df = pd.DataFrame.from_dict(trip_temps_dict, orient=\\\"index\\\", columns=[\\\"Min\\\", \\\"Avg\\\", \\\"Max\\\"])\\n\\ntrip_df\";\n",
       "                var nbb_formatted_code = \"# convert dict to dataframe\\n\\ntrip_df = pd.DataFrame.from_dict(\\n    trip_temps_dict, orient=\\\"index\\\", columns=[\\\"Min\\\", \\\"Avg\\\", \\\"Max\\\"]\\n)\\n\\ntrip_df\";\n",
       "                var nbb_cells = Jupyter.notebook.get_cells();\n",
       "                for (var i = 0; i < nbb_cells.length; ++i) {\n",
       "                    if (nbb_cells[i].input_prompt_number == nbb_cell_id) {\n",
       "                        if (nbb_cells[i].get_text() == nbb_unformatted_code) {\n",
       "                             nbb_cells[i].set_text(nbb_formatted_code);\n",
       "                        }\n",
       "                        break;\n",
       "                    }\n",
       "                }\n",
       "            }, 500);\n",
       "            "
      ],
      "text/plain": [
       "<IPython.core.display.Javascript object>"
      ]
     },
     "metadata": {},
     "output_type": "display_data"
    },
    {
     "data": {
      "application/javascript": [
       "\n",
       "            setTimeout(function() {\n",
       "                var nbb_cell_id = 226;\n",
       "                var nbb_unformatted_code = \"# convert dict to dataframe\\n\\ntrip_df = pd.DataFrame.from_dict(trip_temps_dict, orient=\\\"index\\\", columns=[\\\"Min\\\", \\\"Avg\\\", \\\"Max\\\"])\\n\\ntrip_df\";\n",
       "                var nbb_formatted_code = \"# convert dict to dataframe\\n\\ntrip_df = pd.DataFrame.from_dict(\\n    trip_temps_dict, orient=\\\"index\\\", columns=[\\\"Min\\\", \\\"Avg\\\", \\\"Max\\\"]\\n)\\n\\ntrip_df\";\n",
       "                var nbb_cells = Jupyter.notebook.get_cells();\n",
       "                for (var i = 0; i < nbb_cells.length; ++i) {\n",
       "                    if (nbb_cells[i].input_prompt_number == nbb_cell_id) {\n",
       "                        if (nbb_cells[i].get_text() == nbb_unformatted_code) {\n",
       "                             nbb_cells[i].set_text(nbb_formatted_code);\n",
       "                        }\n",
       "                        break;\n",
       "                    }\n",
       "                }\n",
       "            }, 500);\n",
       "            "
      ],
      "text/plain": [
       "<IPython.core.display.Javascript object>"
      ]
     },
     "metadata": {},
     "output_type": "display_data"
    },
    {
     "data": {
      "application/javascript": [
       "\n",
       "            setTimeout(function() {\n",
       "                var nbb_cell_id = 226;\n",
       "                var nbb_unformatted_code = \"# convert dict to dataframe\\n\\ntrip_df = pd.DataFrame.from_dict(trip_temps_dict, orient=\\\"index\\\", columns=[\\\"Min\\\", \\\"Avg\\\", \\\"Max\\\"])\\n\\ntrip_df\";\n",
       "                var nbb_formatted_code = \"# convert dict to dataframe\\n\\ntrip_df = pd.DataFrame.from_dict(\\n    trip_temps_dict, orient=\\\"index\\\", columns=[\\\"Min\\\", \\\"Avg\\\", \\\"Max\\\"]\\n)\\n\\ntrip_df\";\n",
       "                var nbb_cells = Jupyter.notebook.get_cells();\n",
       "                for (var i = 0; i < nbb_cells.length; ++i) {\n",
       "                    if (nbb_cells[i].input_prompt_number == nbb_cell_id) {\n",
       "                        if (nbb_cells[i].get_text() == nbb_unformatted_code) {\n",
       "                             nbb_cells[i].set_text(nbb_formatted_code);\n",
       "                        }\n",
       "                        break;\n",
       "                    }\n",
       "                }\n",
       "            }, 500);\n",
       "            "
      ],
      "text/plain": [
       "<IPython.core.display.Javascript object>"
      ]
     },
     "metadata": {},
     "output_type": "display_data"
    },
    {
     "data": {
      "application/javascript": [
       "\n",
       "            setTimeout(function() {\n",
       "                var nbb_cell_id = 226;\n",
       "                var nbb_unformatted_code = \"# convert dict to dataframe\\n\\ntrip_df = pd.DataFrame.from_dict(trip_temps_dict, orient=\\\"index\\\", columns=[\\\"Min\\\", \\\"Avg\\\", \\\"Max\\\"])\\n\\ntrip_df\";\n",
       "                var nbb_formatted_code = \"# convert dict to dataframe\\n\\ntrip_df = pd.DataFrame.from_dict(\\n    trip_temps_dict, orient=\\\"index\\\", columns=[\\\"Min\\\", \\\"Avg\\\", \\\"Max\\\"]\\n)\\n\\ntrip_df\";\n",
       "                var nbb_cells = Jupyter.notebook.get_cells();\n",
       "                for (var i = 0; i < nbb_cells.length; ++i) {\n",
       "                    if (nbb_cells[i].input_prompt_number == nbb_cell_id) {\n",
       "                        if (nbb_cells[i].get_text() == nbb_unformatted_code) {\n",
       "                             nbb_cells[i].set_text(nbb_formatted_code);\n",
       "                        }\n",
       "                        break;\n",
       "                    }\n",
       "                }\n",
       "            }, 500);\n",
       "            "
      ],
      "text/plain": [
       "<IPython.core.display.Javascript object>"
      ]
     },
     "metadata": {},
     "output_type": "display_data"
    },
    {
     "data": {
      "application/javascript": [
       "\n",
       "            setTimeout(function() {\n",
       "                var nbb_cell_id = 226;\n",
       "                var nbb_unformatted_code = \"# convert dict to dataframe\\n\\ntrip_df = pd.DataFrame.from_dict(trip_temps_dict, orient=\\\"index\\\", columns=[\\\"Min\\\", \\\"Avg\\\", \\\"Max\\\"])\\n\\ntrip_df\";\n",
       "                var nbb_formatted_code = \"# convert dict to dataframe\\n\\ntrip_df = pd.DataFrame.from_dict(\\n    trip_temps_dict, orient=\\\"index\\\", columns=[\\\"Min\\\", \\\"Avg\\\", \\\"Max\\\"]\\n)\\n\\ntrip_df\";\n",
       "                var nbb_cells = Jupyter.notebook.get_cells();\n",
       "                for (var i = 0; i < nbb_cells.length; ++i) {\n",
       "                    if (nbb_cells[i].input_prompt_number == nbb_cell_id) {\n",
       "                        if (nbb_cells[i].get_text() == nbb_unformatted_code) {\n",
       "                             nbb_cells[i].set_text(nbb_formatted_code);\n",
       "                        }\n",
       "                        break;\n",
       "                    }\n",
       "                }\n",
       "            }, 500);\n",
       "            "
      ],
      "text/plain": [
       "<IPython.core.display.Javascript object>"
      ]
     },
     "metadata": {},
     "output_type": "display_data"
    },
    {
     "data": {
      "application/javascript": [
       "\n",
       "            setTimeout(function() {\n",
       "                var nbb_cell_id = 226;\n",
       "                var nbb_unformatted_code = \"# convert dict to dataframe\\n\\ntrip_df = pd.DataFrame.from_dict(trip_temps_dict, orient=\\\"index\\\", columns=[\\\"Min\\\", \\\"Avg\\\", \\\"Max\\\"])\\n\\ntrip_df\";\n",
       "                var nbb_formatted_code = \"# convert dict to dataframe\\n\\ntrip_df = pd.DataFrame.from_dict(\\n    trip_temps_dict, orient=\\\"index\\\", columns=[\\\"Min\\\", \\\"Avg\\\", \\\"Max\\\"]\\n)\\n\\ntrip_df\";\n",
       "                var nbb_cells = Jupyter.notebook.get_cells();\n",
       "                for (var i = 0; i < nbb_cells.length; ++i) {\n",
       "                    if (nbb_cells[i].input_prompt_number == nbb_cell_id) {\n",
       "                        if (nbb_cells[i].get_text() == nbb_unformatted_code) {\n",
       "                             nbb_cells[i].set_text(nbb_formatted_code);\n",
       "                        }\n",
       "                        break;\n",
       "                    }\n",
       "                }\n",
       "            }, 500);\n",
       "            "
      ],
      "text/plain": [
       "<IPython.core.display.Javascript object>"
      ]
     },
     "metadata": {},
     "output_type": "display_data"
    }
   ],
   "source": [
    "# convert dict to dataframe\n",
    "\n",
    "trip_df = pd.DataFrame.from_dict(trip_temps_dict, orient=\"index\", columns=[\"Min\", \"Avg\", \"Max\"])\n",
    "\n",
    "trip_df"
   ]
  },
  {
   "cell_type": "code",
   "execution_count": 227,
   "metadata": {},
   "outputs": [
    {
     "data": {
      "image/png": "[encoded data removed]",
      "text/plain": [
       "<Figure size 432x288 with 1 Axes>"
      ]
     },
     "metadata": {},
     "output_type": "display_data"
    },
    {
     "data": {
      "application/javascript": [
       "\n",
       "            setTimeout(function() {\n",
       "                var nbb_cell_id = 227;\n",
       "                var nbb_unformatted_code = \"# create an area plot\\n\\ntrip_df.plot.area(stacked=False, alpha=0.2)\\nplt.ylabel(\\\"Temperature\\\")\\nplt.xlabel(\\\"Date\\\")\\nplt.savefig(\\\"Images/area_plot.png\\\")\\nplt.show()\";\n",
       "                var nbb_formatted_code = \"# create an area plot\\n\\ntrip_df.plot.area(stacked=False, alpha=0.2)\\nplt.ylabel(\\\"Temperature\\\")\\nplt.xlabel(\\\"Date\\\")\\nplt.savefig(\\\"Images/area_plot.png\\\")\\nplt.show()\";\n",
       "                var nbb_cells = Jupyter.notebook.get_cells();\n",
       "                for (var i = 0; i < nbb_cells.length; ++i) {\n",
       "                    if (nbb_cells[i].input_prompt_number == nbb_cell_id) {\n",
       "                        if (nbb_cells[i].get_text() == nbb_unformatted_code) {\n",
       "                             nbb_cells[i].set_text(nbb_formatted_code);\n",
       "                        }\n",
       "                        break;\n",
       "                    }\n",
       "                }\n",
       "            }, 500);\n",
       "            "
      ],
      "text/plain": [
       "<IPython.core.display.Javascript object>"
      ]
     },
     "metadata": {},
     "output_type": "display_data"
    },
    {
     "data": {
      "application/javascript": [
       "\n",
       "            setTimeout(function() {\n",
       "                var nbb_cell_id = 227;\n",
       "                var nbb_unformatted_code = \"# create an area plot\\n\\ntrip_df.plot.area(stacked=False, alpha=0.2)\\nplt.ylabel(\\\"Temperature\\\")\\nplt.xlabel(\\\"Date\\\")\\nplt.savefig(\\\"Images/area_plot.png\\\")\\nplt.show()\";\n",
       "                var nbb_formatted_code = \"# create an area plot\\n\\ntrip_df.plot.area(stacked=False, alpha=0.2)\\nplt.ylabel(\\\"Temperature\\\")\\nplt.xlabel(\\\"Date\\\")\\nplt.savefig(\\\"Images/area_plot.png\\\")\\nplt.show()\";\n",
       "                var nbb_cells = Jupyter.notebook.get_cells();\n",
       "                for (var i = 0; i < nbb_cells.length; ++i) {\n",
       "                    if (nbb_cells[i].input_prompt_number == nbb_cell_id) {\n",
       "                        if (nbb_cells[i].get_text() == nbb_unformatted_code) {\n",
       "                             nbb_cells[i].set_text(nbb_formatted_code);\n",
       "                        }\n",
       "                        break;\n",
       "                    }\n",
       "                }\n",
       "            }, 500);\n",
       "            "
      ],
      "text/plain": [
       "<IPython.core.display.Javascript object>"
      ]
     },
     "metadata": {},
     "output_type": "display_data"
    },
    {
     "data": {
      "application/javascript": [
       "\n",
       "            setTimeout(function() {\n",
       "                var nbb_cell_id = 227;\n",
       "                var nbb_unformatted_code = \"# create an area plot\\n\\ntrip_df.plot.area(stacked=False, alpha=0.2)\\nplt.ylabel(\\\"Temperature\\\")\\nplt.xlabel(\\\"Date\\\")\\nplt.savefig(\\\"Images/area_plot.png\\\")\\nplt.show()\";\n",
       "                var nbb_formatted_code = \"# create an area plot\\n\\ntrip_df.plot.area(stacked=False, alpha=0.2)\\nplt.ylabel(\\\"Temperature\\\")\\nplt.xlabel(\\\"Date\\\")\\nplt.savefig(\\\"Images/area_plot.png\\\")\\nplt.show()\";\n",
       "                var nbb_cells = Jupyter.notebook.get_cells();\n",
       "                for (var i = 0; i < nbb_cells.length; ++i) {\n",
       "                    if (nbb_cells[i].input_prompt_number == nbb_cell_id) {\n",
       "                        if (nbb_cells[i].get_text() == nbb_unformatted_code) {\n",
       "                             nbb_cells[i].set_text(nbb_formatted_code);\n",
       "                        }\n",
       "                        break;\n",
       "                    }\n",
       "                }\n",
       "            }, 500);\n",
       "            "
      ],
      "text/plain": [
       "<IPython.core.display.Javascript object>"
      ]
     },
     "metadata": {},
     "output_type": "display_data"
    },
    {
     "data": {
      "application/javascript": [
       "\n",
       "            setTimeout(function() {\n",
       "                var nbb_cell_id = 227;\n",
       "                var nbb_unformatted_code = \"# create an area plot\\n\\ntrip_df.plot.area(stacked=False, alpha=0.2)\\nplt.ylabel(\\\"Temperature\\\")\\nplt.xlabel(\\\"Date\\\")\\nplt.savefig(\\\"Images/area_plot.png\\\")\\nplt.show()\";\n",
       "                var nbb_formatted_code = \"# create an area plot\\n\\ntrip_df.plot.area(stacked=False, alpha=0.2)\\nplt.ylabel(\\\"Temperature\\\")\\nplt.xlabel(\\\"Date\\\")\\nplt.savefig(\\\"Images/area_plot.png\\\")\\nplt.show()\";\n",
       "                var nbb_cells = Jupyter.notebook.get_cells();\n",
       "                for (var i = 0; i < nbb_cells.length; ++i) {\n",
       "                    if (nbb_cells[i].input_prompt_number == nbb_cell_id) {\n",
       "                        if (nbb_cells[i].get_text() == nbb_unformatted_code) {\n",
       "                             nbb_cells[i].set_text(nbb_formatted_code);\n",
       "                        }\n",
       "                        break;\n",
       "                    }\n",
       "                }\n",
       "            }, 500);\n",
       "            "
      ],
      "text/plain": [
       "<IPython.core.display.Javascript object>"
      ]
     },
     "metadata": {},
     "output_type": "display_data"
    },
    {
     "data": {
      "application/javascript": [
       "\n",
       "            setTimeout(function() {\n",
       "                var nbb_cell_id = 227;\n",
       "                var nbb_unformatted_code = \"# create an area plot\\n\\ntrip_df.plot.area(stacked=False, alpha=0.2)\\nplt.ylabel(\\\"Temperature\\\")\\nplt.xlabel(\\\"Date\\\")\\nplt.savefig(\\\"Images/area_plot.png\\\")\\nplt.show()\";\n",
       "                var nbb_formatted_code = \"# create an area plot\\n\\ntrip_df.plot.area(stacked=False, alpha=0.2)\\nplt.ylabel(\\\"Temperature\\\")\\nplt.xlabel(\\\"Date\\\")\\nplt.savefig(\\\"Images/area_plot.png\\\")\\nplt.show()\";\n",
       "                var nbb_cells = Jupyter.notebook.get_cells();\n",
       "                for (var i = 0; i < nbb_cells.length; ++i) {\n",
       "                    if (nbb_cells[i].input_prompt_number == nbb_cell_id) {\n",
       "                        if (nbb_cells[i].get_text() == nbb_unformatted_code) {\n",
       "                             nbb_cells[i].set_text(nbb_formatted_code);\n",
       "                        }\n",
       "                        break;\n",
       "                    }\n",
       "                }\n",
       "            }, 500);\n",
       "            "
      ],
      "text/plain": [
       "<IPython.core.display.Javascript object>"
      ]
     },
     "metadata": {},
     "output_type": "display_data"
    },
    {
     "data": {
      "application/javascript": [
       "\n",
       "            setTimeout(function() {\n",
       "                var nbb_cell_id = 227;\n",
       "                var nbb_unformatted_code = \"# create an area plot\\n\\ntrip_df.plot.area(stacked=False, alpha=0.2)\\nplt.ylabel(\\\"Temperature\\\")\\nplt.xlabel(\\\"Date\\\")\\nplt.savefig(\\\"Images/area_plot.png\\\")\\nplt.show()\";\n",
       "                var nbb_formatted_code = \"# create an area plot\\n\\ntrip_df.plot.area(stacked=False, alpha=0.2)\\nplt.ylabel(\\\"Temperature\\\")\\nplt.xlabel(\\\"Date\\\")\\nplt.savefig(\\\"Images/area_plot.png\\\")\\nplt.show()\";\n",
       "                var nbb_cells = Jupyter.notebook.get_cells();\n",
       "                for (var i = 0; i < nbb_cells.length; ++i) {\n",
       "                    if (nbb_cells[i].input_prompt_number == nbb_cell_id) {\n",
       "                        if (nbb_cells[i].get_text() == nbb_unformatted_code) {\n",
       "                             nbb_cells[i].set_text(nbb_formatted_code);\n",
       "                        }\n",
       "                        break;\n",
       "                    }\n",
       "                }\n",
       "            }, 500);\n",
       "            "
      ],
      "text/plain": [
       "<IPython.core.display.Javascript object>"
      ]
     },
     "metadata": {},
     "output_type": "display_data"
    },
    {
     "data": {
      "application/javascript": [
       "\n",
       "            setTimeout(function() {\n",
       "                var nbb_cell_id = 227;\n",
       "                var nbb_unformatted_code = \"# create an area plot\\n\\ntrip_df.plot.area(stacked=False, alpha=0.2)\\nplt.ylabel(\\\"Temperature\\\")\\nplt.xlabel(\\\"Date\\\")\\nplt.savefig(\\\"Images/area_plot.png\\\")\\nplt.show()\";\n",
       "                var nbb_formatted_code = \"# create an area plot\\n\\ntrip_df.plot.area(stacked=False, alpha=0.2)\\nplt.ylabel(\\\"Temperature\\\")\\nplt.xlabel(\\\"Date\\\")\\nplt.savefig(\\\"Images/area_plot.png\\\")\\nplt.show()\";\n",
       "                var nbb_cells = Jupyter.notebook.get_cells();\n",
       "                for (var i = 0; i < nbb_cells.length; ++i) {\n",
       "                    if (nbb_cells[i].input_prompt_number == nbb_cell_id) {\n",
       "                        if (nbb_cells[i].get_text() == nbb_unformatted_code) {\n",
       "                             nbb_cells[i].set_text(nbb_formatted_code);\n",
       "                        }\n",
       "                        break;\n",
       "                    }\n",
       "                }\n",
       "            }, 500);\n",
       "            "
      ],
      "text/plain": [
       "<IPython.core.display.Javascript object>"
      ]
     },
     "metadata": {},
     "output_type": "display_data"
    },
    {
     "data": {
      "application/javascript": [
       "\n",
       "            setTimeout(function() {\n",
       "                var nbb_cell_id = 227;\n",
       "                var nbb_unformatted_code = \"# create an area plot\\n\\ntrip_df.plot.area(stacked=False, alpha=0.2)\\nplt.ylabel(\\\"Temperature\\\")\\nplt.xlabel(\\\"Date\\\")\\nplt.savefig(\\\"Images/area_plot.png\\\")\\nplt.show()\";\n",
       "                var nbb_formatted_code = \"# create an area plot\\n\\ntrip_df.plot.area(stacked=False, alpha=0.2)\\nplt.ylabel(\\\"Temperature\\\")\\nplt.xlabel(\\\"Date\\\")\\nplt.savefig(\\\"Images/area_plot.png\\\")\\nplt.show()\";\n",
       "                var nbb_cells = Jupyter.notebook.get_cells();\n",
       "                for (var i = 0; i < nbb_cells.length; ++i) {\n",
       "                    if (nbb_cells[i].input_prompt_number == nbb_cell_id) {\n",
       "                        if (nbb_cells[i].get_text() == nbb_unformatted_code) {\n",
       "                             nbb_cells[i].set_text(nbb_formatted_code);\n",
       "                        }\n",
       "                        break;\n",
       "                    }\n",
       "                }\n",
       "            }, 500);\n",
       "            "
      ],
      "text/plain": [
       "<IPython.core.display.Javascript object>"
      ]
     },
     "metadata": {},
     "output_type": "display_data"
    }
   ],
   "source": [
    "# create an area plot\n",
    "\n",
    "trip_df.plot.area(stacked=False, alpha=0.2)\n",
    "plt.ylabel(\"Temperature\")\n",
    "plt.xlabel(\"Date\")\n",
    "plt.savefig(\"Images/area_plot.png\")\n",
    "plt.show()"
   ]
  },
  {
   "cell_type": "code",
   "execution_count": null,
   "metadata": {},
   "outputs": [],
   "source": []
  }
 ],
 "metadata": {
  "environment": {
   "name": "common-cpu.m54",
   "type": "gcloud",
   "uri": "gcr.io/deeplearning-platform-release/base-cpu:m54"
  },
  "kernelspec": {
   "display_name": "Python 3",
   "language": "python",
   "name": "python3"
  },
  "language_info": {
   "codemirror_mode": {
    "name": "ipython",
    "version": 3
   },
   "file_extension": ".py",
   "mimetype": "text/x-python",
   "name": "python",
   "nbconvert_exporter": "python",
   "pygments_lexer": "ipython3",
   "version": "3.7.8"
  }
 },
 "nbformat": 4,
 "nbformat_minor": 4
}
