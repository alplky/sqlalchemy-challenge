{
 "cells": [
  {
   "cell_type": "markdown",
   "metadata": {},
   "source": [
    "## Set Up for Analysis"
   ]
  },
  {
   "cell_type": "code",
   "execution_count": 5,
   "metadata": {},
   "outputs": [
    {
     "data": {
      "application/javascript": [
       "\n",
       "            setTimeout(function() {\n",
       "                var nbb_cell_id = 5;\n",
       "                var nbb_unformatted_code = \"# set up and dependencies\\nimport matplotlib.pyplot as plt\\nfrom sqlalchemy import create_engine\\nfrom sqlalchemy.ext.declarative import declarative_base\\nfrom sqlalchemy import Column, Integer, String, Float\\nfrom sqlalchemy.types import Date\\nfrom sqlalchemy.orm import Session\\nfrom sqlalchemy import func\\nimport pandas as pd \\nfrom pprint import pprint\\n\\n%load_ext nb_black\";\n",
       "                var nbb_formatted_code = \"# set up and dependencies\\nimport matplotlib.pyplot as plt\\nfrom sqlalchemy import create_engine\\nfrom sqlalchemy.ext.declarative import declarative_base\\nfrom sqlalchemy import Column, Integer, String, Float\\nfrom sqlalchemy.types import Date\\nfrom sqlalchemy.orm import Session\\nfrom sqlalchemy import func\\nimport pandas as pd\\nfrom pprint import pprint\\n\\n%load_ext nb_black\";\n",
       "                var nbb_cells = Jupyter.notebook.get_cells();\n",
       "                for (var i = 0; i < nbb_cells.length; ++i) {\n",
       "                    if (nbb_cells[i].input_prompt_number == nbb_cell_id) {\n",
       "                        if (nbb_cells[i].get_text() == nbb_unformatted_code) {\n",
       "                             nbb_cells[i].set_text(nbb_formatted_code);\n",
       "                        }\n",
       "                        break;\n",
       "                    }\n",
       "                }\n",
       "            }, 500);\n",
       "            "
      ],
      "text/plain": [
       "<IPython.core.display.Javascript object>"
      ]
     },
     "metadata": {},
     "output_type": "display_data"
    }
   ],
   "source": [
    "# set up and dependencies\n",
    "import matplotlib.pyplot as plt\n",
    "from sqlalchemy import create_engine\n",
    "from sqlalchemy.ext.declarative import declarative_base\n",
    "from sqlalchemy import Column, Integer, String, Float\n",
    "from sqlalchemy.types import Date\n",
    "from sqlalchemy.orm import Session\n",
    "from sqlalchemy import func\n",
    "import pandas as pd \n",
    "from pprint import pprint\n",
    "\n",
    "%load_ext nb_black"
   ]
  },
  {
   "cell_type": "code",
   "execution_count": 6,
   "metadata": {},
   "outputs": [
    {
     "data": {
      "application/javascript": [
       "\n",
       "            setTimeout(function() {\n",
       "                var nbb_cell_id = 6;\n",
       "                var nbb_unformatted_code = \"# set up Base\\n\\nBase = declarative_base()\";\n",
       "                var nbb_formatted_code = \"# set up Base\\n\\nBase = declarative_base()\";\n",
       "                var nbb_cells = Jupyter.notebook.get_cells();\n",
       "                for (var i = 0; i < nbb_cells.length; ++i) {\n",
       "                    if (nbb_cells[i].input_prompt_number == nbb_cell_id) {\n",
       "                        if (nbb_cells[i].get_text() == nbb_unformatted_code) {\n",
       "                             nbb_cells[i].set_text(nbb_formatted_code);\n",
       "                        }\n",
       "                        break;\n",
       "                    }\n",
       "                }\n",
       "            }, 500);\n",
       "            "
      ],
      "text/plain": [
       "<IPython.core.display.Javascript object>"
      ]
     },
     "metadata": {},
     "output_type": "display_data"
    }
   ],
   "source": [
    "# set up Base\n",
    "\n",
    "Base = declarative_base()"
   ]
  },
  {
   "cell_type": "code",
   "execution_count": 7,
   "metadata": {},
   "outputs": [
    {
     "data": {
      "application/javascript": [
       "\n",
       "            setTimeout(function() {\n",
       "                var nbb_cell_id = 7;\n",
       "                var nbb_unformatted_code = \"#create class for measurement table\\n\\nclass Measurement(Base):\\n    __tablename__ = \\\"measurement\\\"\\n    \\n    id = Column(Integer, primary_key=True)\\n    station = Column(String)\\n    date = Column(Date)\\n    prcp = Column(Float)\\n    tobs = Column(Float)\";\n",
       "                var nbb_formatted_code = \"# create class for measurement table\\n\\n\\nclass Measurement(Base):\\n    __tablename__ = \\\"measurement\\\"\\n\\n    id = Column(Integer, primary_key=True)\\n    station = Column(String)\\n    date = Column(Date)\\n    prcp = Column(Float)\\n    tobs = Column(Float)\";\n",
       "                var nbb_cells = Jupyter.notebook.get_cells();\n",
       "                for (var i = 0; i < nbb_cells.length; ++i) {\n",
       "                    if (nbb_cells[i].input_prompt_number == nbb_cell_id) {\n",
       "                        if (nbb_cells[i].get_text() == nbb_unformatted_code) {\n",
       "                             nbb_cells[i].set_text(nbb_formatted_code);\n",
       "                        }\n",
       "                        break;\n",
       "                    }\n",
       "                }\n",
       "            }, 500);\n",
       "            "
      ],
      "text/plain": [
       "<IPython.core.display.Javascript object>"
      ]
     },
     "metadata": {},
     "output_type": "display_data"
    }
   ],
   "source": [
    "#create class for measurement table\n",
    "\n",
    "class Measurement(Base):\n",
    "    __tablename__ = \"measurement\"\n",
    "    \n",
    "    id = Column(Integer, primary_key=True)\n",
    "    station = Column(String)\n",
    "    date = Column(Date)\n",
    "    prcp = Column(Float)\n",
    "    tobs = Column(Float)"
   ]
  },
  {
   "cell_type": "code",
   "execution_count": 8,
   "metadata": {},
   "outputs": [
    {
     "data": {
      "application/javascript": [
       "\n",
       "            setTimeout(function() {\n",
       "                var nbb_cell_id = 8;\n",
       "                var nbb_unformatted_code = \"#create class for station table\\n\\nclass Station(Base):\\n    __tablename__ = \\\"station\\\"\\n    \\n    id = Column(Integer, primary_key=True)\\n    station = Column(String)\\n    name = Column(String)\\n    latitude = Column(Float)\\n    longitude = Column(Float)\\n    elevation =  Column(Float)\";\n",
       "                var nbb_formatted_code = \"# create class for station table\\n\\n\\nclass Station(Base):\\n    __tablename__ = \\\"station\\\"\\n\\n    id = Column(Integer, primary_key=True)\\n    station = Column(String)\\n    name = Column(String)\\n    latitude = Column(Float)\\n    longitude = Column(Float)\\n    elevation = Column(Float)\";\n",
       "                var nbb_cells = Jupyter.notebook.get_cells();\n",
       "                for (var i = 0; i < nbb_cells.length; ++i) {\n",
       "                    if (nbb_cells[i].input_prompt_number == nbb_cell_id) {\n",
       "                        if (nbb_cells[i].get_text() == nbb_unformatted_code) {\n",
       "                             nbb_cells[i].set_text(nbb_formatted_code);\n",
       "                        }\n",
       "                        break;\n",
       "                    }\n",
       "                }\n",
       "            }, 500);\n",
       "            "
      ],
      "text/plain": [
       "<IPython.core.display.Javascript object>"
      ]
     },
     "metadata": {},
     "output_type": "display_data"
    }
   ],
   "source": [
    "#create class for station table\n",
    "\n",
    "class Station(Base):\n",
    "    __tablename__ = \"station\"\n",
    "    \n",
    "    id = Column(Integer, primary_key=True)\n",
    "    station = Column(String)\n",
    "    name = Column(String)\n",
    "    latitude = Column(Float)\n",
    "    longitude = Column(Float)\n",
    "    elevation =  Column(Float)"
   ]
  },
  {
   "cell_type": "code",
   "execution_count": 9,
   "metadata": {},
   "outputs": [
    {
     "data": {
      "application/javascript": [
       "\n",
       "            setTimeout(function() {\n",
       "                var nbb_cell_id = 9;\n",
       "                var nbb_unformatted_code = \"# create engine and session to link to the database\\n\\nengine = create_engine(\\\"sqlite:///Resources/hawaii.sqlite\\\")\\nconn = engine.connect()\\nsession = Session(bind=engine)\";\n",
       "                var nbb_formatted_code = \"# create engine and session to link to the database\\n\\nengine = create_engine(\\\"sqlite:///Resources/hawaii.sqlite\\\")\\nconn = engine.connect()\\nsession = Session(bind=engine)\";\n",
       "                var nbb_cells = Jupyter.notebook.get_cells();\n",
       "                for (var i = 0; i < nbb_cells.length; ++i) {\n",
       "                    if (nbb_cells[i].input_prompt_number == nbb_cell_id) {\n",
       "                        if (nbb_cells[i].get_text() == nbb_unformatted_code) {\n",
       "                             nbb_cells[i].set_text(nbb_formatted_code);\n",
       "                        }\n",
       "                        break;\n",
       "                    }\n",
       "                }\n",
       "            }, 500);\n",
       "            "
      ],
      "text/plain": [
       "<IPython.core.display.Javascript object>"
      ]
     },
     "metadata": {},
     "output_type": "display_data"
    }
   ],
   "source": [
    "# create engine and session to link to the database\n",
    "\n",
    "engine = create_engine(\"sqlite:///Resources/hawaii.sqlite\")\n",
    "conn = engine.connect()\n",
    "session = Session(bind=engine)"
   ]
  },
  {
   "cell_type": "markdown",
   "metadata": {},
   "source": [
    "## Precipitation Analysis"
   ]
  },
  {
   "cell_type": "code",
   "execution_count": 11,
   "metadata": {},
   "outputs": [
    {
     "name": "stdout",
     "output_type": "stream",
     "text": [
      "{'_sa_instance_state': <sqlalchemy.orm.state.InstanceState object at 0x7f0be3a181d0>,\n",
      " 'date': datetime.date(2010, 1, 1),\n",
      " 'id': 1,\n",
      " 'prcp': 0.08,\n",
      " 'station': 'USC00519397',\n",
      " 'tobs': 65.0}\n",
      "{'_sa_instance_state': <sqlalchemy.orm.state.InstanceState object at 0x7f0be3a18b50>,\n",
      " 'date': datetime.date(2010, 1, 2),\n",
      " 'id': 2,\n",
      " 'prcp': 0.0,\n",
      " 'station': 'USC00519397',\n",
      " 'tobs': 63.0}\n",
      "{'_sa_instance_state': <sqlalchemy.orm.state.InstanceState object at 0x7f0be3a18990>,\n",
      " 'date': datetime.date(2010, 1, 3),\n",
      " 'id': 3,\n",
      " 'prcp': 0.0,\n",
      " 'station': 'USC00519397',\n",
      " 'tobs': 74.0}\n",
      "{'_sa_instance_state': <sqlalchemy.orm.state.InstanceState object at 0x7f0be3a70190>,\n",
      " 'date': datetime.date(2010, 1, 4),\n",
      " 'id': 4,\n",
      " 'prcp': 0.0,\n",
      " 'station': 'USC00519397',\n",
      " 'tobs': 76.0}\n",
      "{'_sa_instance_state': <sqlalchemy.orm.state.InstanceState object at 0x7f0be3a70090>,\n",
      " 'date': datetime.date(2010, 1, 6),\n",
      " 'id': 5,\n",
      " 'prcp': None,\n",
      " 'station': 'USC00519397',\n",
      " 'tobs': 73.0}\n"
     ]
    },
    {
     "data": {
      "application/javascript": [
       "\n",
       "            setTimeout(function() {\n",
       "                var nbb_cell_id = 11;\n",
       "                var nbb_unformatted_code = \"# look at first 5 of measurement table\\n\\nmeasurement_rows = session.query(Measurement).limit(5)\\n\\nfor row in measurement_rows:\\n    pprint(row.__dict__)\";\n",
       "                var nbb_formatted_code = \"# look at first 5 of measurement table\\n\\nmeasurement_rows = session.query(Measurement).limit(5)\\n\\nfor row in measurement_rows:\\n    pprint(row.__dict__)\";\n",
       "                var nbb_cells = Jupyter.notebook.get_cells();\n",
       "                for (var i = 0; i < nbb_cells.length; ++i) {\n",
       "                    if (nbb_cells[i].input_prompt_number == nbb_cell_id) {\n",
       "                        if (nbb_cells[i].get_text() == nbb_unformatted_code) {\n",
       "                             nbb_cells[i].set_text(nbb_formatted_code);\n",
       "                        }\n",
       "                        break;\n",
       "                    }\n",
       "                }\n",
       "            }, 500);\n",
       "            "
      ],
      "text/plain": [
       "<IPython.core.display.Javascript object>"
      ]
     },
     "metadata": {},
     "output_type": "display_data"
    }
   ],
   "source": [
    "# look at first 5 of measurement table\n",
    "\n",
    "measurement_rows = session.query(Measurement).limit(5)\n",
    "\n",
    "for row in measurement_rows:\n",
    "    pprint(row.__dict__)"
   ]
  },
  {
   "cell_type": "code",
   "execution_count": 12,
   "metadata": {},
   "outputs": [
    {
     "name": "stdout",
     "output_type": "stream",
     "text": [
      "2017-08-23\n"
     ]
    },
    {
     "data": {
      "application/javascript": [
       "\n",
       "            setTimeout(function() {\n",
       "                var nbb_cell_id = 12;\n",
       "                var nbb_unformatted_code = \"#check the max date in data\\nmax_date = session.query(func.max(Measurement.date)).first()[0]\\n\\nprint(max_date)\";\n",
       "                var nbb_formatted_code = \"# check the max date in data\\nmax_date = session.query(func.max(Measurement.date)).first()[0]\\n\\nprint(max_date)\";\n",
       "                var nbb_cells = Jupyter.notebook.get_cells();\n",
       "                for (var i = 0; i < nbb_cells.length; ++i) {\n",
       "                    if (nbb_cells[i].input_prompt_number == nbb_cell_id) {\n",
       "                        if (nbb_cells[i].get_text() == nbb_unformatted_code) {\n",
       "                             nbb_cells[i].set_text(nbb_formatted_code);\n",
       "                        }\n",
       "                        break;\n",
       "                    }\n",
       "                }\n",
       "            }, 500);\n",
       "            "
      ],
      "text/plain": [
       "<IPython.core.display.Javascript object>"
      ]
     },
     "metadata": {},
     "output_type": "display_data"
    }
   ],
   "source": [
    "#check the max date in data\n",
    "max_date = session.query(func.max(Measurement.date)).first()[0]\n",
    "\n",
    "print(max_date)"
   ]
  },
  {
   "cell_type": "code",
   "execution_count": 16,
   "metadata": {},
   "outputs": [
    {
     "name": "stdout",
     "output_type": "stream",
     "text": [
      "[(datetime.date(2016, 8, 24), 9.33),\n",
      " (datetime.date(2016, 8, 25), 0.54),\n",
      " (datetime.date(2016, 8, 26), 0.1),\n",
      " (datetime.date(2016, 8, 27), 0.32),\n",
      " (datetime.date(2016, 8, 28), 3.1),\n",
      " (datetime.date(2016, 8, 29), 1.46),\n",
      " (datetime.date(2016, 8, 30), 0.07),\n",
      " (datetime.date(2016, 8, 31), 3.18),\n",
      " (datetime.date(2016, 9, 1), 0.03),\n",
      " (datetime.date(2016, 9, 2), 0.25),\n",
      " (datetime.date(2016, 9, 3), 1.27),\n",
      " (datetime.date(2016, 9, 4), 1.38),\n",
      " (datetime.date(2016, 9, 5), 0.34),\n",
      " (datetime.date(2016, 9, 6), 1.23),\n",
      " (datetime.date(2016, 9, 7), 2.0),\n",
      " (datetime.date(2016, 9, 8), 0.46),\n",
      " (datetime.date(2016, 9, 9), 1.07),\n",
      " (datetime.date(2016, 9, 10), 1.4),\n",
      " (datetime.date(2016, 9, 11), 1.25),\n",
      " (datetime.date(2016, 9, 12), 1.54),\n",
      " (datetime.date(2016, 9, 13), 2.71),\n",
      " (datetime.date(2016, 9, 14), 14.28),\n",
      " (datetime.date(2016, 9, 15), 4.96),\n",
      " (datetime.date(2016, 9, 16), 0.82),\n",
      " (datetime.date(2016, 9, 17), 0.68),\n",
      " (datetime.date(2016, 9, 18), 0.53),\n",
      " (datetime.date(2016, 9, 19), 0.32),\n",
      " (datetime.date(2016, 9, 20), 1.03),\n",
      " (datetime.date(2016, 9, 21), 1.17),\n",
      " (datetime.date(2016, 9, 22), 1.44),\n",
      " (datetime.date(2016, 9, 23), 1.57),\n",
      " (datetime.date(2016, 9, 24), 0.28),\n",
      " (datetime.date(2016, 9, 25), 0.09),\n",
      " (datetime.date(2016, 9, 26), 1.67),\n",
      " (datetime.date(2016, 9, 27), 1.36),\n",
      " (datetime.date(2016, 9, 28), 0.13),\n",
      " (datetime.date(2016, 9, 29), 2.99),\n",
      " (datetime.date(2016, 9, 30), 1.15),\n",
      " (datetime.date(2016, 10, 1), 1.45),\n",
      " (datetime.date(2016, 10, 2), 0.72),\n",
      " (datetime.date(2016, 10, 3), 0.69),\n",
      " (datetime.date(2016, 10, 4), 3.49),\n",
      " (datetime.date(2016, 10, 5), 0.82),\n",
      " (datetime.date(2016, 10, 6), 0.16),\n",
      " (datetime.date(2016, 10, 7), 0.01),\n",
      " (datetime.date(2016, 10, 8), 0.04),\n",
      " (datetime.date(2016, 10, 9), 0.0),\n",
      " (datetime.date(2016, 10, 10), 0.0),\n",
      " (datetime.date(2016, 10, 11), 0.69),\n",
      " (datetime.date(2016, 10, 12), 0.08),\n",
      " (datetime.date(2016, 10, 13), 0.08),\n",
      " (datetime.date(2016, 10, 14), 0.0),\n",
      " (datetime.date(2016, 10, 15), 0.39),\n",
      " (datetime.date(2016, 10, 16), 0.0),\n",
      " (datetime.date(2016, 10, 17), 0.55),\n",
      " (datetime.date(2016, 10, 18), 0.6),\n",
      " (datetime.date(2016, 10, 19), 0.17),\n",
      " (datetime.date(2016, 10, 20), 1.01),\n",
      " (datetime.date(2016, 10, 21), 0.32),\n",
      " (datetime.date(2016, 10, 22), 1.77),\n",
      " (datetime.date(2016, 10, 23), 0.28),\n",
      " (datetime.date(2016, 10, 24), 0.79),\n",
      " (datetime.date(2016, 10, 25), 1.1),\n",
      " (datetime.date(2016, 10, 26), 0.29),\n",
      " (datetime.date(2016, 10, 27), 1.86),\n",
      " (datetime.date(2016, 10, 28), 0.57),\n",
      " (datetime.date(2016, 10, 29), 0.64),\n",
      " (datetime.date(2016, 10, 30), 1.59),\n",
      " (datetime.date(2016, 10, 31), 1.61),\n",
      " (datetime.date(2016, 11, 1), 0.21),\n",
      " (datetime.date(2016, 11, 2), 0.04),\n",
      " (datetime.date(2016, 11, 3), 0.02),\n",
      " (datetime.date(2016, 11, 4), 0.06),\n",
      " (datetime.date(2016, 11, 5), 0.45),\n",
      " (datetime.date(2016, 11, 6), 0.08),\n",
      " (datetime.date(2016, 11, 7), 0.18),\n",
      " (datetime.date(2016, 11, 8), 1.12),\n",
      " (datetime.date(2016, 11, 9), 0.4),\n",
      " (datetime.date(2016, 11, 10), 0.01),\n",
      " (datetime.date(2016, 11, 11), 0.0),\n",
      " (datetime.date(2016, 11, 12), 0.0),\n",
      " (datetime.date(2016, 11, 13), 0.0),\n",
      " (datetime.date(2016, 11, 14), 0.15),\n",
      " (datetime.date(2016, 11, 15), 0.05),\n",
      " (datetime.date(2016, 11, 16), 1.54),\n",
      " (datetime.date(2016, 11, 17), 0.06),\n",
      " (datetime.date(2016, 11, 18), 0.03),\n",
      " (datetime.date(2016, 11, 19), 0.38),\n",
      " (datetime.date(2016, 11, 20), 0.95),\n",
      " (datetime.date(2016, 11, 21), 3.08),\n",
      " (datetime.date(2016, 11, 22), 5.01),\n",
      " (datetime.date(2016, 11, 23), 0.67),\n",
      " (datetime.date(2016, 11, 24), 1.48),\n",
      " (datetime.date(2016, 11, 25), 1.32),\n",
      " (datetime.date(2016, 11, 26), 0.51),\n",
      " (datetime.date(2016, 11, 27), 0.55),\n",
      " (datetime.date(2016, 11, 28), 0.72),\n",
      " (datetime.date(2016, 11, 29), 0.43),\n",
      " (datetime.date(2016, 11, 30), 1.06),\n",
      " (datetime.date(2016, 12, 1), 1.77),\n",
      " (datetime.date(2016, 12, 2), 2.36),\n",
      " (datetime.date(2016, 12, 3), 2.71),\n",
      " (datetime.date(2016, 12, 4), 0.8),\n",
      " (datetime.date(2016, 12, 5), 3.24),\n",
      " (datetime.date(2016, 12, 6), 0.04),\n",
      " (datetime.date(2016, 12, 7), 0.38),\n",
      " (datetime.date(2016, 12, 8), 0.46),\n",
      " (datetime.date(2016, 12, 9), 1.85),\n",
      " (datetime.date(2016, 12, 10), 0.13),\n",
      " (datetime.date(2016, 12, 11), 0.25),\n",
      " (datetime.date(2016, 12, 12), 0.05),\n",
      " (datetime.date(2016, 12, 13), 0.77),\n",
      " (datetime.date(2016, 12, 14), 1.5),\n",
      " (datetime.date(2016, 12, 15), 0.26),\n",
      " (datetime.date(2016, 12, 16), 0.04),\n",
      " (datetime.date(2016, 12, 17), 0.35),\n",
      " (datetime.date(2016, 12, 18), 0.89),\n",
      " (datetime.date(2016, 12, 19), 0.42),\n",
      " (datetime.date(2016, 12, 20), 0.03),\n",
      " (datetime.date(2016, 12, 21), 0.9),\n",
      " (datetime.date(2016, 12, 22), 2.47),\n",
      " (datetime.date(2016, 12, 23), 1.23),\n",
      " (datetime.date(2016, 12, 24), 1.62),\n",
      " (datetime.date(2016, 12, 25), 0.43),\n",
      " (datetime.date(2016, 12, 26), 2.04),\n",
      " (datetime.date(2016, 12, 27), 0.24),\n",
      " (datetime.date(2016, 12, 28), 0.41),\n",
      " (datetime.date(2016, 12, 29), 2.38),\n",
      " (datetime.date(2016, 12, 30), 3.35),\n",
      " (datetime.date(2016, 12, 31), 2.14),\n",
      " (datetime.date(2017, 1, 1), 0.35),\n",
      " (datetime.date(2017, 1, 2), 0.02),\n",
      " (datetime.date(2017, 1, 3), 0.0),\n",
      " (datetime.date(2017, 1, 4), 0.18),\n",
      " (datetime.date(2017, 1, 5), 0.95),\n",
      " (datetime.date(2017, 1, 6), 0.8),\n",
      " (datetime.date(2017, 1, 7), 0.06),\n",
      " (datetime.date(2017, 1, 8), 0.06),\n",
      " (datetime.date(2017, 1, 9), 0.0),\n",
      " (datetime.date(2017, 1, 10), 0.0),\n",
      " (datetime.date(2017, 1, 11), 0.0),\n",
      " (datetime.date(2017, 1, 12), 0.0),\n",
      " (datetime.date(2017, 1, 13), 0.0),\n",
      " (datetime.date(2017, 1, 14), 0.01),\n",
      " (datetime.date(2017, 1, 15), 0.01),\n",
      " (datetime.date(2017, 1, 16), 0.0),\n",
      " (datetime.date(2017, 1, 17), 0.0),\n",
      " (datetime.date(2017, 1, 18), 0.07),\n",
      " (datetime.date(2017, 1, 19), 0.02),\n",
      " (datetime.date(2017, 1, 20), 0.0),\n",
      " (datetime.date(2017, 1, 21), 0.28),\n",
      " (datetime.date(2017, 1, 22), 1.02),\n",
      " (datetime.date(2017, 1, 23), 0.94),\n",
      " (datetime.date(2017, 1, 24), 2.25),\n",
      " (datetime.date(2017, 1, 25), 3.58),\n",
      " (datetime.date(2017, 1, 26), 0.11),\n",
      " (datetime.date(2017, 1, 27), 0.06),\n",
      " (datetime.date(2017, 1, 28), 0.14),\n",
      " (datetime.date(2017, 1, 29), 0.99),\n",
      " (datetime.date(2017, 1, 30), 0.05),\n",
      " (datetime.date(2017, 1, 31), 0.0),\n",
      " (datetime.date(2017, 2, 1), 0.0),\n",
      " (datetime.date(2017, 2, 2), 0.0),\n",
      " (datetime.date(2017, 2, 3), 0.0),\n",
      " (datetime.date(2017, 2, 4), 0.0),\n",
      " (datetime.date(2017, 2, 5), 0.0),\n",
      " (datetime.date(2017, 2, 6), 0.38),\n",
      " (datetime.date(2017, 2, 7), 7.4),\n",
      " (datetime.date(2017, 2, 8), 1.08),\n",
      " (datetime.date(2017, 2, 9), 0.02),\n",
      " (datetime.date(2017, 2, 10), 0.0),\n",
      " (datetime.date(2017, 2, 11), 11.2),\n",
      " (datetime.date(2017, 2, 12), 10.48),\n",
      " (datetime.date(2017, 2, 13), 2.92),\n",
      " (datetime.date(2017, 2, 14), 0.01),\n",
      " (datetime.date(2017, 2, 15), 0.08),\n",
      " (datetime.date(2017, 2, 16), 2.22),\n",
      " (datetime.date(2017, 2, 17), 1.05),\n",
      " (datetime.date(2017, 2, 18), 0.01),\n",
      " (datetime.date(2017, 2, 19), 0.19),\n",
      " (datetime.date(2017, 2, 20), 0.0),\n",
      " (datetime.date(2017, 2, 21), 0.13),\n",
      " (datetime.date(2017, 2, 22), 0.91),\n",
      " (datetime.date(2017, 2, 23), 0.01),\n",
      " (datetime.date(2017, 2, 24), 0.0),\n",
      " (datetime.date(2017, 2, 25), 0.15),\n",
      " (datetime.date(2017, 2, 26), 0.0),\n",
      " (datetime.date(2017, 2, 27), 0.0),\n",
      " (datetime.date(2017, 2, 28), 0.82),\n",
      " (datetime.date(2017, 3, 1), 11.62),\n",
      " (datetime.date(2017, 3, 2), 6.56),\n",
      " (datetime.date(2017, 3, 3), 2.23),\n",
      " (datetime.date(2017, 3, 4), 0.0),\n",
      " (datetime.date(2017, 3, 5), 1.21),\n",
      " (datetime.date(2017, 3, 6), 0.54),\n",
      " (datetime.date(2017, 3, 7), 0.0),\n",
      " (datetime.date(2017, 3, 8), 0.0),\n",
      " (datetime.date(2017, 3, 9), 1.96),\n",
      " (datetime.date(2017, 3, 10), 0.29),\n",
      " (datetime.date(2017, 3, 11), 0.04),\n",
      " (datetime.date(2017, 3, 12), 0.0),\n",
      " (datetime.date(2017, 3, 13), 0.0),\n",
      " (datetime.date(2017, 3, 14), 0.06),\n",
      " (datetime.date(2017, 3, 15), 0.06),\n",
      " (datetime.date(2017, 3, 16), 0.0),\n",
      " (datetime.date(2017, 3, 17), 0.72),\n",
      " (datetime.date(2017, 3, 18), 0.0),\n",
      " (datetime.date(2017, 3, 19), 0.0),\n",
      " (datetime.date(2017, 3, 20), 0.02),\n",
      " (datetime.date(2017, 3, 21), 0.09),\n",
      " (datetime.date(2017, 3, 22), 0.0),\n",
      " (datetime.date(2017, 3, 23), 0.05),\n",
      " (datetime.date(2017, 3, 24), 1.13),\n",
      " (datetime.date(2017, 3, 25), 1.97),\n",
      " (datetime.date(2017, 3, 26), 0.0),\n",
      " (datetime.date(2017, 3, 27), 0.01),\n",
      " (datetime.date(2017, 3, 28), 0.71),\n",
      " (datetime.date(2017, 3, 29), 0.19),\n",
      " (datetime.date(2017, 3, 30), 0.15),\n",
      " (datetime.date(2017, 3, 31), 0.01),\n",
      " (datetime.date(2017, 4, 1), 0.41),\n",
      " (datetime.date(2017, 4, 2), 0.0),\n",
      " (datetime.date(2017, 4, 3), 0.66),\n",
      " (datetime.date(2017, 4, 4), 0.15),\n",
      " (datetime.date(2017, 4, 5), 0.66),\n",
      " (datetime.date(2017, 4, 6), 0.06),\n",
      " (datetime.date(2017, 4, 7), 0.0),\n",
      " (datetime.date(2017, 4, 8), 0.0),\n",
      " (datetime.date(2017, 4, 9), 0.0),\n",
      " (datetime.date(2017, 4, 10), 0.02),\n",
      " (datetime.date(2017, 4, 11), 0.47),\n",
      " (datetime.date(2017, 4, 12), 1.08),\n",
      " (datetime.date(2017, 4, 13), 1.09),\n",
      " (datetime.date(2017, 4, 14), 6.72),\n",
      " (datetime.date(2017, 4, 15), 1.74),\n",
      " (datetime.date(2017, 4, 16), 1.07),\n",
      " (datetime.date(2017, 4, 17), 3.07),\n",
      " (datetime.date(2017, 4, 18), 3.36),\n",
      " (datetime.date(2017, 4, 19), 0.2),\n",
      " (datetime.date(2017, 4, 20), 0.78),\n",
      " (datetime.date(2017, 4, 21), 8.38),\n",
      " (datetime.date(2017, 4, 22), 4.96),\n",
      " (datetime.date(2017, 4, 23), 0.46),\n",
      " (datetime.date(2017, 4, 24), 0.06),\n",
      " (datetime.date(2017, 4, 25), 0.0),\n",
      " (datetime.date(2017, 4, 26), 0.39),\n",
      " (datetime.date(2017, 4, 27), 0.42),\n",
      " (datetime.date(2017, 4, 28), 4.24),\n",
      " (datetime.date(2017, 4, 29), 8.04),\n",
      " (datetime.date(2017, 4, 30), 6.42),\n",
      " (datetime.date(2017, 5, 1), 0.81),\n",
      " (datetime.date(2017, 5, 2), 0.05),\n",
      " (datetime.date(2017, 5, 3), 0.03),\n",
      " (datetime.date(2017, 5, 4), 0.08),\n",
      " (datetime.date(2017, 5, 5), 0.38),\n",
      " (datetime.date(2017, 5, 6), 0.06),\n",
      " (datetime.date(2017, 5, 7), 0.12),\n",
      " (datetime.date(2017, 5, 8), 3.01),\n",
      " (datetime.date(2017, 5, 9), 4.63),\n",
      " (datetime.date(2017, 5, 10), 0.86),\n",
      " (datetime.date(2017, 5, 11), 0.6),\n",
      " (datetime.date(2017, 5, 12), 0.16),\n",
      " (datetime.date(2017, 5, 13), 0.24),\n",
      " (datetime.date(2017, 5, 14), 1.22),\n",
      " (datetime.date(2017, 5, 15), 0.88),\n",
      " (datetime.date(2017, 5, 16), 0.42),\n",
      " (datetime.date(2017, 5, 17), 0.15),\n",
      " (datetime.date(2017, 5, 18), 0.85),\n",
      " (datetime.date(2017, 5, 19), 0.04),\n",
      " (datetime.date(2017, 5, 20), 0.03),\n",
      " (datetime.date(2017, 5, 21), 0.01),\n",
      " (datetime.date(2017, 5, 22), 0.36),\n",
      " (datetime.date(2017, 5, 23), 0.71),\n",
      " (datetime.date(2017, 5, 24), 3.89),\n",
      " (datetime.date(2017, 5, 25), 2.22),\n",
      " (datetime.date(2017, 5, 26), 0.02),\n",
      " (datetime.date(2017, 5, 27), 0.51),\n",
      " (datetime.date(2017, 5, 28), 0.41),\n",
      " (datetime.date(2017, 5, 29), 0.42),\n",
      " (datetime.date(2017, 5, 30), 1.73),\n",
      " (datetime.date(2017, 5, 31), 0.37),\n",
      " (datetime.date(2017, 6, 1), 0.04),\n",
      " (datetime.date(2017, 6, 2), 0.34),\n",
      " (datetime.date(2017, 6, 3), 0.61),\n",
      " (datetime.date(2017, 6, 4), 1.15),\n",
      " (datetime.date(2017, 6, 5), 0.08),\n",
      " (datetime.date(2017, 6, 6), 0.0),\n",
      " (datetime.date(2017, 6, 7), 0.01),\n",
      " (datetime.date(2017, 6, 8), 0.03),\n",
      " (datetime.date(2017, 6, 9), 0.04),\n",
      " (datetime.date(2017, 6, 10), 1.53),\n",
      " (datetime.date(2017, 6, 11), 2.15),\n",
      " (datetime.date(2017, 6, 12), 1.75),\n",
      " (datetime.date(2017, 6, 13), 1.38),\n",
      " (datetime.date(2017, 6, 14), 1.57),\n",
      " (datetime.date(2017, 6, 15), 2.71),\n",
      " (datetime.date(2017, 6, 16), 0.2),\n",
      " (datetime.date(2017, 6, 17), 0.54),\n",
      " (datetime.date(2017, 6, 18), 1.42),\n",
      " (datetime.date(2017, 6, 19), 0.73),\n",
      " (datetime.date(2017, 6, 20), 0.55),\n",
      " (datetime.date(2017, 6, 21), 0.51),\n",
      " (datetime.date(2017, 6, 22), 0.44),\n",
      " (datetime.date(2017, 6, 23), 0.67),\n",
      " (datetime.date(2017, 6, 24), 0.64),\n",
      " (datetime.date(2017, 6, 25), 0.6),\n",
      " (datetime.date(2017, 6, 26), 0.1),\n",
      " (datetime.date(2017, 6, 27), 0.11),\n",
      " (datetime.date(2017, 6, 28), 0.03),\n",
      " (datetime.date(2017, 6, 29), 0.07),\n",
      " (datetime.date(2017, 6, 30), 0.52),\n",
      " (datetime.date(2017, 7, 1), 0.26),\n",
      " (datetime.date(2017, 7, 2), 0.72),\n",
      " (datetime.date(2017, 7, 3), 0.74),\n",
      " (datetime.date(2017, 7, 4), 0.15),\n",
      " (datetime.date(2017, 7, 5), 0.0),\n",
      " (datetime.date(2017, 7, 6), 0.02),\n",
      " (datetime.date(2017, 7, 7), 0.5),\n",
      " (datetime.date(2017, 7, 8), 0.1),\n",
      " (datetime.date(2017, 7, 9), 0.2),\n",
      " (datetime.date(2017, 7, 10), 0.04),\n",
      " (datetime.date(2017, 7, 11), 0.03),\n",
      " (datetime.date(2017, 7, 12), 0.36),\n",
      " (datetime.date(2017, 7, 13), 1.81),\n",
      " (datetime.date(2017, 7, 14), 0.95),\n",
      " (datetime.date(2017, 7, 15), 0.19),\n",
      " (datetime.date(2017, 7, 16), 0.81),\n",
      " (datetime.date(2017, 7, 17), 0.91),\n",
      " (datetime.date(2017, 7, 18), 2.53),\n",
      " (datetime.date(2017, 7, 19), 0.41),\n",
      " (datetime.date(2017, 7, 20), 1.24),\n",
      " (datetime.date(2017, 7, 21), 0.13),\n",
      " (datetime.date(2017, 7, 22), 4.42),\n",
      " (datetime.date(2017, 7, 23), 1.13),\n",
      " (datetime.date(2017, 7, 24), 3.27),\n",
      " (datetime.date(2017, 7, 25), 0.61),\n",
      " (datetime.date(2017, 7, 26), 0.5),\n",
      " (datetime.date(2017, 7, 27), 0.01),\n",
      " (datetime.date(2017, 7, 28), 0.77),\n",
      " (datetime.date(2017, 7, 29), 0.61),\n",
      " (datetime.date(2017, 7, 30), 0.3),\n",
      " (datetime.date(2017, 7, 31), 0.0),\n",
      " (datetime.date(2017, 8, 1), 0.14),\n",
      " (datetime.date(2017, 8, 2), 0.3),\n",
      " (datetime.date(2017, 8, 3), 0.07),\n",
      " (datetime.date(2017, 8, 4), 0.06),\n",
      " (datetime.date(2017, 8, 5), 0.06),\n",
      " (datetime.date(2017, 8, 6), 0.0),\n",
      " (datetime.date(2017, 8, 7), 0.05),\n",
      " (datetime.date(2017, 8, 8), 0.44),\n",
      " (datetime.date(2017, 8, 9), 0.15),\n",
      " (datetime.date(2017, 8, 10), 0.07),\n",
      " (datetime.date(2017, 8, 11), 0.0),\n",
      " (datetime.date(2017, 8, 12), 0.14),\n",
      " (datetime.date(2017, 8, 13), 0.0),\n",
      " (datetime.date(2017, 8, 14), 0.31),\n",
      " (datetime.date(2017, 8, 15), 0.82),\n",
      " (datetime.date(2017, 8, 16), 0.61),\n",
      " (datetime.date(2017, 8, 17), 0.19),\n",
      " (datetime.date(2017, 8, 18), 0.06),\n",
      " (datetime.date(2017, 8, 19), 0.09),\n",
      " (datetime.date(2017, 8, 20), 0.01),\n",
      " (datetime.date(2017, 8, 21), 0.58),\n",
      " (datetime.date(2017, 8, 22), 0.5),\n",
      " (datetime.date(2017, 8, 23), 0.53)]\n"
     ]
    },
    {
     "data": {
      "application/javascript": [
       "\n",
       "            setTimeout(function() {\n",
       "                var nbb_cell_id = 16;\n",
       "                var nbb_unformatted_code = \"# get the last 12 months of precipitation data\\n\\nrecent_prcp = session.query(Measurement.date, func.round(func.sum(Measurement.prcp), 2)).filter(Measurement.date > '2016-08-23').filter(Measurement.date <= '2017-08-23').group_by(Measurement.date).order_by(Measurement.date).all()\\n        \\npprint(recent_prcp)\";\n",
       "                var nbb_formatted_code = \"# get the last 12 months of precipitation data\\n\\nrecent_prcp = (\\n    session.query(Measurement.date, func.round(func.sum(Measurement.prcp), 2))\\n    .filter(Measurement.date > \\\"2016-08-23\\\")\\n    .filter(Measurement.date <= \\\"2017-08-23\\\")\\n    .group_by(Measurement.date)\\n    .order_by(Measurement.date)\\n    .all()\\n)\\n\\npprint(recent_prcp)\";\n",
       "                var nbb_cells = Jupyter.notebook.get_cells();\n",
       "                for (var i = 0; i < nbb_cells.length; ++i) {\n",
       "                    if (nbb_cells[i].input_prompt_number == nbb_cell_id) {\n",
       "                        if (nbb_cells[i].get_text() == nbb_unformatted_code) {\n",
       "                             nbb_cells[i].set_text(nbb_formatted_code);\n",
       "                        }\n",
       "                        break;\n",
       "                    }\n",
       "                }\n",
       "            }, 500);\n",
       "            "
      ],
      "text/plain": [
       "<IPython.core.display.Javascript object>"
      ]
     },
     "metadata": {},
     "output_type": "display_data"
    }
   ],
   "source": [
    "# get the last 12 months of precipitation data\n",
    "\n",
    "recent_prcp = session.query(Measurement.date, func.round(func.sum(Measurement.prcp), 2)).filter(Measurement.date > '2016-08-23').filter(Measurement.date <= '2017-08-23').group_by(Measurement.date).order_by(Measurement.date).all()\n",
    "        \n",
    "pprint(recent_prcp)"
   ]
  },
  {
   "cell_type": "code",
   "execution_count": 50,
   "metadata": {},
   "outputs": [
    {
     "data": {
      "text/html": [
       "<div>\n",
       "<style scoped>\n",
       "    .dataframe tbody tr th:only-of-type {\n",
       "        vertical-align: middle;\n",
       "    }\n",
       "\n",
       "    .dataframe tbody tr th {\n",
       "        vertical-align: top;\n",
       "    }\n",
       "\n",
       "    .dataframe thead th {\n",
       "        text-align: right;\n",
       "    }\n",
       "</style>\n",
       "<table border=\"1\" class=\"dataframe\">\n",
       "  <thead>\n",
       "    <tr style=\"text-align: right;\">\n",
       "      <th></th>\n",
       "      <th>Date</th>\n",
       "      <th>Precipitation</th>\n",
       "    </tr>\n",
       "  </thead>\n",
       "  <tbody>\n",
       "    <tr>\n",
       "      <th>0</th>\n",
       "      <td>2016-08-24</td>\n",
       "      <td>9.33</td>\n",
       "    </tr>\n",
       "    <tr>\n",
       "      <th>1</th>\n",
       "      <td>2016-08-25</td>\n",
       "      <td>0.54</td>\n",
       "    </tr>\n",
       "    <tr>\n",
       "      <th>2</th>\n",
       "      <td>2016-08-26</td>\n",
       "      <td>0.10</td>\n",
       "    </tr>\n",
       "    <tr>\n",
       "      <th>3</th>\n",
       "      <td>2016-08-27</td>\n",
       "      <td>0.32</td>\n",
       "    </tr>\n",
       "    <tr>\n",
       "      <th>4</th>\n",
       "      <td>2016-08-28</td>\n",
       "      <td>3.10</td>\n",
       "    </tr>\n",
       "    <tr>\n",
       "      <th>...</th>\n",
       "      <td>...</td>\n",
       "      <td>...</td>\n",
       "    </tr>\n",
       "    <tr>\n",
       "      <th>360</th>\n",
       "      <td>2017-08-19</td>\n",
       "      <td>0.09</td>\n",
       "    </tr>\n",
       "    <tr>\n",
       "      <th>361</th>\n",
       "      <td>2017-08-20</td>\n",
       "      <td>0.01</td>\n",
       "    </tr>\n",
       "    <tr>\n",
       "      <th>362</th>\n",
       "      <td>2017-08-21</td>\n",
       "      <td>0.58</td>\n",
       "    </tr>\n",
       "    <tr>\n",
       "      <th>363</th>\n",
       "      <td>2017-08-22</td>\n",
       "      <td>0.50</td>\n",
       "    </tr>\n",
       "    <tr>\n",
       "      <th>364</th>\n",
       "      <td>2017-08-23</td>\n",
       "      <td>0.53</td>\n",
       "    </tr>\n",
       "  </tbody>\n",
       "</table>\n",
       "<p>365 rows × 2 columns</p>\n",
       "</div>"
      ],
      "text/plain": [
       "           Date  Precipitation\n",
       "0    2016-08-24           9.33\n",
       "1    2016-08-25           0.54\n",
       "2    2016-08-26           0.10\n",
       "3    2016-08-27           0.32\n",
       "4    2016-08-28           3.10\n",
       "..          ...            ...\n",
       "360  2017-08-19           0.09\n",
       "361  2017-08-20           0.01\n",
       "362  2017-08-21           0.58\n",
       "363  2017-08-22           0.50\n",
       "364  2017-08-23           0.53\n",
       "\n",
       "[365 rows x 2 columns]"
      ]
     },
     "execution_count": 50,
     "metadata": {},
     "output_type": "execute_result"
    },
    {
     "data": {
      "application/javascript": [
       "\n",
       "            setTimeout(function() {\n",
       "                var nbb_cell_id = 50;\n",
       "                var nbb_unformatted_code = \"# load query results into a Pandas dataframe\\n\\nprcp_df = pd.DataFrame(recent_prcp, columns = [\\\"Date\\\", \\\"Precipitation\\\"])\\n\\n# set index to the date column\\n\\nprcp_df.set_index(\\\"Date\\\")\\n\\nprcp_df\";\n",
       "                var nbb_formatted_code = \"# load query results into a Pandas dataframe\\n\\nprcp_df = pd.DataFrame(recent_prcp, columns=[\\\"Date\\\", \\\"Precipitation\\\"])\\n\\n# set index to the date column\\n\\nprcp_df.set_index(\\\"Date\\\")\\n\\nprcp_df\";\n",
       "                var nbb_cells = Jupyter.notebook.get_cells();\n",
       "                for (var i = 0; i < nbb_cells.length; ++i) {\n",
       "                    if (nbb_cells[i].input_prompt_number == nbb_cell_id) {\n",
       "                        if (nbb_cells[i].get_text() == nbb_unformatted_code) {\n",
       "                             nbb_cells[i].set_text(nbb_formatted_code);\n",
       "                        }\n",
       "                        break;\n",
       "                    }\n",
       "                }\n",
       "            }, 500);\n",
       "            "
      ],
      "text/plain": [
       "<IPython.core.display.Javascript object>"
      ]
     },
     "metadata": {},
     "output_type": "display_data"
    }
   ],
   "source": [
    "# load query results into a Pandas dataframe\n",
    "\n",
    "prcp_df = pd.DataFrame(recent_prcp, columns = [\"Date\", \"Precipitation\"])\n",
    "\n",
    "# set index to the date column\n",
    "\n",
    "prcp_df.set_index(\"Date\")\n",
    "\n",
    "prcp_df"
   ]
  },
  {
   "cell_type": "code",
   "execution_count": 53,
   "metadata": {},
   "outputs": [
    {
     "data": {
      "text/plain": [
       "DatetimeIndex(['2016-08-31', '2016-09-30', '2016-10-31', '2016-11-30',\n",
       "               '2016-12-31', '2017-01-31', '2017-02-28', '2017-03-31',\n",
       "               '2017-04-30', '2017-05-31', '2017-06-30', '2017-07-31'],\n",
       "              dtype='datetime64[ns]', freq='M')"
      ]
     },
     "execution_count": 53,
     "metadata": {},
     "output_type": "execute_result"
    },
    {
     "data": {
      "application/javascript": [
       "\n",
       "            setTimeout(function() {\n",
       "                var nbb_cell_id = 53;\n",
       "                var nbb_unformatted_code = \"# create date range for x tick frequency in plot\\n\\nprcp_monthly = pd.date_range(start=\\\"2016-08-24\\\", end=\\\"2017-08-23\\\", freq=\\\"M\\\")\\nprcp_monthly\";\n",
       "                var nbb_formatted_code = \"# create date range for x tick frequency in plot\\n\\nprcp_monthly = pd.date_range(start=\\\"2016-08-24\\\", end=\\\"2017-08-23\\\", freq=\\\"M\\\")\\nprcp_monthly\";\n",
       "                var nbb_cells = Jupyter.notebook.get_cells();\n",
       "                for (var i = 0; i < nbb_cells.length; ++i) {\n",
       "                    if (nbb_cells[i].input_prompt_number == nbb_cell_id) {\n",
       "                        if (nbb_cells[i].get_text() == nbb_unformatted_code) {\n",
       "                             nbb_cells[i].set_text(nbb_formatted_code);\n",
       "                        }\n",
       "                        break;\n",
       "                    }\n",
       "                }\n",
       "            }, 500);\n",
       "            "
      ],
      "text/plain": [
       "<IPython.core.display.Javascript object>"
      ]
     },
     "metadata": {},
     "output_type": "display_data"
    }
   ],
   "source": [
    "# create date range for x tick frequency in plot\n",
    "\n",
    "prcp_monthly = pd.date_range(start=\"2016-08-24\", end=\"2017-08-23\", freq=\"M\")\n",
    "prcp_monthly"
   ]
  },
  {
   "cell_type": "code",
   "execution_count": 55,
   "metadata": {},
   "outputs": [
    {
     "data": {
      "image/png": "[encoded data removed]",
      "text/plain": [
       "<Figure size 432x288 with 1 Axes>"
      ]
     },
     "metadata": {
      "needs_background": "light"
     },
     "output_type": "display_data"
    },
    {
     "data": {
      "application/javascript": [
       "\n",
       "            setTimeout(function() {\n",
       "                var nbb_cell_id = 55;\n",
       "                var nbb_unformatted_code = \"# plot precipitation results using Dataframe plot method\\nprcp_plot = prcp_df.plot(kind = \\\"bar\\\", title = \\\"Daily Precipitation Over 12 months\\\", color = \\\"deepskyblue\\\", grid=True, rot=90)\\nprcp_plot.set_ylabel(\\\"Inches\\\")\\nprcp_plot.set_xlabel(\\\"Date\\\")\\nplt.show()\";\n",
       "                var nbb_formatted_code = \"# plot precipitation results using Dataframe plot method\\nprcp_plot = prcp_df.plot(\\n    kind=\\\"bar\\\",\\n    title=\\\"Daily Precipitation Over 12 months\\\",\\n    color=\\\"deepskyblue\\\",\\n    grid=True,\\n    rot=90,\\n)\\nprcp_plot.set_ylabel(\\\"Inches\\\")\\nprcp_plot.set_xlabel(\\\"Date\\\")\\nplt.show()\";\n",
       "                var nbb_cells = Jupyter.notebook.get_cells();\n",
       "                for (var i = 0; i < nbb_cells.length; ++i) {\n",
       "                    if (nbb_cells[i].input_prompt_number == nbb_cell_id) {\n",
       "                        if (nbb_cells[i].get_text() == nbb_unformatted_code) {\n",
       "                             nbb_cells[i].set_text(nbb_formatted_code);\n",
       "                        }\n",
       "                        break;\n",
       "                    }\n",
       "                }\n",
       "            }, 500);\n",
       "            "
      ],
      "text/plain": [
       "<IPython.core.display.Javascript object>"
      ]
     },
     "metadata": {},
     "output_type": "display_data"
    }
   ],
   "source": [
    "# plot precipitation results using Dataframe plot method\n",
    "prcp_plot = prcp_df.plot(kind = \"bar\", title = \"Daily Precipitation Over 12 months\", color = \"deepskyblue\", grid=True, rot=90)\n",
    "prcp_plot.set_ylabel(\"Inches\")\n",
    "prcp_plot.set_xlabel(\"Date\")\n",
    "plt.show()\n"
   ]
  },
  {
   "cell_type": "code",
   "execution_count": 40,
   "metadata": {},
   "outputs": [
    {
     "data": {
      "text/html": [
       "<div>\n",
       "<style scoped>\n",
       "    .dataframe tbody tr th:only-of-type {\n",
       "        vertical-align: middle;\n",
       "    }\n",
       "\n",
       "    .dataframe tbody tr th {\n",
       "        vertical-align: top;\n",
       "    }\n",
       "\n",
       "    .dataframe thead th {\n",
       "        text-align: right;\n",
       "    }\n",
       "</style>\n",
       "<table border=\"1\" class=\"dataframe\">\n",
       "  <thead>\n",
       "    <tr style=\"text-align: right;\">\n",
       "      <th></th>\n",
       "      <th>Precipitation</th>\n",
       "    </tr>\n",
       "  </thead>\n",
       "  <tbody>\n",
       "    <tr>\n",
       "      <th>count</th>\n",
       "      <td>365.000000</td>\n",
       "    </tr>\n",
       "    <tr>\n",
       "      <th>mean</th>\n",
       "      <td>0.974164</td>\n",
       "    </tr>\n",
       "    <tr>\n",
       "      <th>std</th>\n",
       "      <td>1.776466</td>\n",
       "    </tr>\n",
       "    <tr>\n",
       "      <th>min</th>\n",
       "      <td>0.000000</td>\n",
       "    </tr>\n",
       "    <tr>\n",
       "      <th>25%</th>\n",
       "      <td>0.050000</td>\n",
       "    </tr>\n",
       "    <tr>\n",
       "      <th>50%</th>\n",
       "      <td>0.400000</td>\n",
       "    </tr>\n",
       "    <tr>\n",
       "      <th>75%</th>\n",
       "      <td>1.080000</td>\n",
       "    </tr>\n",
       "    <tr>\n",
       "      <th>max</th>\n",
       "      <td>14.280000</td>\n",
       "    </tr>\n",
       "  </tbody>\n",
       "</table>\n",
       "</div>"
      ],
      "text/plain": [
       "       Precipitation\n",
       "count     365.000000\n",
       "mean        0.974164\n",
       "std         1.776466\n",
       "min         0.000000\n",
       "25%         0.050000\n",
       "50%         0.400000\n",
       "75%         1.080000\n",
       "max        14.280000"
      ]
     },
     "execution_count": 40,
     "metadata": {},
     "output_type": "execute_result"
    },
    {
     "data": {
      "application/javascript": [
       "\n",
       "            setTimeout(function() {\n",
       "                var nbb_cell_id = 40;\n",
       "                var nbb_unformatted_code = \"# print a summary statistics table for the precipitation data\\nprecipitation = prcp_df[\\\"Precipitation\\\"].to_frame()\\nprecipitation.describe()\";\n",
       "                var nbb_formatted_code = \"# print a summary statistics table for the precipitation data\\nprecipitation = prcp_df[\\\"Precipitation\\\"].to_frame()\\nprecipitation.describe()\";\n",
       "                var nbb_cells = Jupyter.notebook.get_cells();\n",
       "                for (var i = 0; i < nbb_cells.length; ++i) {\n",
       "                    if (nbb_cells[i].input_prompt_number == nbb_cell_id) {\n",
       "                        if (nbb_cells[i].get_text() == nbb_unformatted_code) {\n",
       "                             nbb_cells[i].set_text(nbb_formatted_code);\n",
       "                        }\n",
       "                        break;\n",
       "                    }\n",
       "                }\n",
       "            }, 500);\n",
       "            "
      ],
      "text/plain": [
       "<IPython.core.display.Javascript object>"
      ]
     },
     "metadata": {},
     "output_type": "display_data"
    }
   ],
   "source": [
    "# print a summary statistics table for the precipitation data\n",
    "precipitation = prcp_df[\"Precipitation\"].to_frame()\n",
    "precipitation.describe()"
   ]
  },
  {
   "cell_type": "markdown",
   "metadata": {},
   "source": [
    "## Station Analysis"
   ]
  },
  {
   "cell_type": "code",
   "execution_count": 74,
   "metadata": {},
   "outputs": [
    {
     "data": {
      "text/plain": [
       "9"
      ]
     },
     "execution_count": 74,
     "metadata": {},
     "output_type": "execute_result"
    },
    {
     "data": {
      "application/javascript": [
       "\n",
       "            setTimeout(function() {\n",
       "                var nbb_cell_id = 74;\n",
       "                var nbb_unformatted_code = \"#calculate the total number of stations\\n\\ntotal_stations = session.query(func.count(func.distinct(Measurement.station))).first()[0]\\ntotal_stations\";\n",
       "                var nbb_formatted_code = \"# calculate the total number of stations\\n\\ntotal_stations = session.query(func.count(func.distinct(Measurement.station))).first()[\\n    0\\n]\\ntotal_stations\";\n",
       "                var nbb_cells = Jupyter.notebook.get_cells();\n",
       "                for (var i = 0; i < nbb_cells.length; ++i) {\n",
       "                    if (nbb_cells[i].input_prompt_number == nbb_cell_id) {\n",
       "                        if (nbb_cells[i].get_text() == nbb_unformatted_code) {\n",
       "                             nbb_cells[i].set_text(nbb_formatted_code);\n",
       "                        }\n",
       "                        break;\n",
       "                    }\n",
       "                }\n",
       "            }, 500);\n",
       "            "
      ],
      "text/plain": [
       "<IPython.core.display.Javascript object>"
      ]
     },
     "metadata": {},
     "output_type": "display_data"
    }
   ],
   "source": [
    "#calculate the total number of stations\n",
    "\n",
    "total_stations = session.query(func.count(func.distinct(Measurement.station))).first()[0]\n",
    "total_stations\n"
   ]
  },
  {
   "cell_type": "code",
   "execution_count": 75,
   "metadata": {},
   "outputs": [
    {
     "data": {
      "text/plain": [
       "[('USC00519281', 2772),\n",
       " ('USC00519397', 2724),\n",
       " ('USC00513117', 2709),\n",
       " ('USC00519523', 2669),\n",
       " ('USC00516128', 2612),\n",
       " ('USC00514830', 2202),\n",
       " ('USC00511918', 1979),\n",
       " ('USC00517948', 1372),\n",
       " ('USC00518838', 511)]"
      ]
     },
     "execution_count": 75,
     "metadata": {},
     "output_type": "execute_result"
    },
    {
     "data": {
      "application/javascript": [
       "\n",
       "            setTimeout(function() {\n",
       "                var nbb_cell_id = 75;\n",
       "                var nbb_unformatted_code = \"#find the most active stations\\n\\nactive_stations = session.query(Measurement.station, func.count(Measurement.id)).group_by(Measurement.station).order_by(func.count(Measurement.id).desc()).all()\\n\\nactive_stations\";\n",
       "                var nbb_formatted_code = \"# find the most active stations\\n\\nactive_stations = (\\n    session.query(Measurement.station, func.count(Measurement.id))\\n    .group_by(Measurement.station)\\n    .order_by(func.count(Measurement.id).desc())\\n    .all()\\n)\\n\\nactive_stations\";\n",
       "                var nbb_cells = Jupyter.notebook.get_cells();\n",
       "                for (var i = 0; i < nbb_cells.length; ++i) {\n",
       "                    if (nbb_cells[i].input_prompt_number == nbb_cell_id) {\n",
       "                        if (nbb_cells[i].get_text() == nbb_unformatted_code) {\n",
       "                             nbb_cells[i].set_text(nbb_formatted_code);\n",
       "                        }\n",
       "                        break;\n",
       "                    }\n",
       "                }\n",
       "            }, 500);\n",
       "            "
      ],
      "text/plain": [
       "<IPython.core.display.Javascript object>"
      ]
     },
     "metadata": {},
     "output_type": "display_data"
    }
   ],
   "source": [
    "#find the most active stations\n",
    "\n",
    "active_stations = session.query(Measurement.station, func.count(Measurement.id)).group_by(Measurement.station).order_by(func.count(Measurement.id).desc()).all()\n",
    "\n",
    "active_stations"
   ]
  },
  {
   "cell_type": "code",
   "execution_count": null,
   "metadata": {},
   "outputs": [],
   "source": []
  }
 ],
 "metadata": {
  "environment": {
   "name": "common-cpu.m54",
   "type": "gcloud",
   "uri": "gcr.io/deeplearning-platform-release/base-cpu:m54"
  },
  "kernelspec": {
   "display_name": "Python 3",
   "language": "python",
   "name": "python3"
  },
  "language_info": {
   "codemirror_mode": {
    "name": "ipython",
    "version": 3
   },
   "file_extension": ".py",
   "mimetype": "text/x-python",
   "name": "python",
   "nbconvert_exporter": "python",
   "pygments_lexer": "ipython3",
   "version": "3.7.8"
  }
 },
 "nbformat": 4,
 "nbformat_minor": 4
}
